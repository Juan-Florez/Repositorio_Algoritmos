{
  "nbformat": 4,
  "nbformat_minor": 0,
  "metadata": {
    "colab": {
      "name": "Juflorezp_lab1.ipynb",
      "provenance": [],
      "collapsed_sections": []
    },
    "kernelspec": {
      "display_name": "Python 3",
      "language": "python",
      "name": "python3"
    },
    "language_info": {
      "codemirror_mode": {
        "name": "ipython",
        "version": 3
      },
      "file_extension": ".py",
      "mimetype": "text/x-python",
      "name": "python",
      "nbconvert_exporter": "python",
      "pygments_lexer": "ipython3",
      "version": "3.6.4"
    }
  },
  "cells": [
    {
      "cell_type": "markdown",
      "metadata": {
        "id": "eQzBbvyKQymx"
      },
      "source": [
        "<div align=\"center\">\n",
        "<img style=\"display: block; margin: auto;\" alt=\"photo\" src=\"https://cdn.quantconnect.com/web/i/icon.png\">\n",
        "\n",
        "Quantconnect\n",
        "\n",
        "Introduction to Financial Python\n",
        "</div>\n",
        "\n",
        "# 01 Data Types and Data Structures\n",
        "\n",
        "# Introduction\n",
        "\n",
        "This tutorial provides a basic introduction to the Python programming language. If you are new to Python, you should run the code snippets while reading this tutorial. If you are an advanced Python user, please feel free to skip this chapter.\n",
        "\n",
        "# Basic Variable Types\n",
        "The basic types of variables in Python are: strings, integers, floating point numbers and booleans.\n",
        "\n",
        "Strings in python are identified as a contiguous set of characters represented in either single quotes (' ') or double quotes (\" \").\n"
      ]
    },
    {
      "cell_type": "code",
      "source": [
        "#Creamos 3 variables de tipo string usando tanto las comillas simples ('') como las dobles (\"\").\n",
        "String1 = \"Bienvenido a la clase de\"\n",
        "String2 = 'Algoritmos'\n",
        "String3 = \"2022-1\"\n",
        "print(String1 + \" \" + String2 + ' ' + String3) #Se concatenan e imprimen las 3 variables de tipo String, y con las comillas se generan espacios entre las 3 "
      ],
      "metadata": {
        "colab": {
          "base_uri": "https://localhost:8080/"
        },
        "id": "tERP-cDR31f3",
        "outputId": "cdf42d20-10ed-4b50-bb63-4d3fd6fd380c"
      },
      "execution_count": null,
      "outputs": [
        {
          "output_type": "stream",
          "name": "stdout",
          "text": [
            "Bienvenido a la clase de Algoritmos 2022-1\n"
          ]
        }
      ]
    },
    {
      "cell_type": "markdown",
      "metadata": {
        "id": "bXHnxZyHSd1M"
      },
      "source": [
        "An integer is a round number with no values after the decimal point."
      ]
    },
    {
      "cell_type": "code",
      "source": [
        "num = 16          #Creamos la variable de tipo entero\n",
        "print(num)        #Print imprime la variable en consola\n",
        "print(type(num))  #Con type se el tipo de variable(int, string, etc)"
      ],
      "metadata": {
        "colab": {
          "base_uri": "https://localhost:8080/"
        },
        "id": "dDDjUTJr-jQ2",
        "outputId": "9704d902-a201-4fed-d26e-b24fee1bc252"
      },
      "execution_count": null,
      "outputs": [
        {
          "output_type": "stream",
          "name": "stdout",
          "text": [
            "16\n",
            "<class 'int'>\n"
          ]
        }
      ]
    },
    {
      "cell_type": "markdown",
      "metadata": {
        "id": "_1ZanWrYSnzF"
      },
      "source": [
        "The built-in function int() can convert a string into an integer."
      ]
    },
    {
      "cell_type": "code",
      "source": [
        "mi_string = \"2001\"\n",
        "print(type(mi_string))\n",
        "num = int(mi_string) #Con int se puede convertir una variable de un string a un entero\n",
        "print(type(num))"
      ],
      "metadata": {
        "colab": {
          "base_uri": "https://localhost:8080/"
        },
        "id": "o8ZpMAQ9AavB",
        "outputId": "5da30f68-e048-4817-c967-46ac30ce5fc9"
      },
      "execution_count": null,
      "outputs": [
        {
          "output_type": "stream",
          "name": "stdout",
          "text": [
            "<class 'str'>\n",
            "2001\n",
            "2001\n",
            "<class 'int'>\n"
          ]
        }
      ]
    },
    {
      "cell_type": "markdown",
      "metadata": {
        "id": "WqMDPDTHSrE9"
      },
      "source": [
        "A floating point number, or a float, is a real number in mathematics. In Python we need to include a value after a decimal point to define it as a float"
      ]
    },
    {
      "cell_type": "code",
      "source": [
        "string1 = \"8\"\n",
        "numf = 8.0                 #Agregar un valor decimal define la variable como float \n",
        "num_float = float(string1) #Con float se puede convertir una variable diferente de float a un float\n",
        "print(type(num_float))  \n",
        "print(type(numf))  "
      ],
      "metadata": {
        "colab": {
          "base_uri": "https://localhost:8080/"
        },
        "id": "m1U3wM8kDVpW",
        "outputId": "6d102bb3-f203-49e6-ea0e-6eafb91006fa"
      },
      "execution_count": null,
      "outputs": [
        {
          "output_type": "stream",
          "name": "stdout",
          "text": [
            "<class 'float'>\n",
            "<class 'float'>\n"
          ]
        }
      ]
    },
    {
      "cell_type": "markdown",
      "metadata": {
        "id": "2iuyv8Q7StTJ"
      },
      "source": [
        "As you can see above, if we don't include a decimal value, the variable would be defined as an integer. The built-in function float() can convert a string or an integer into a float."
      ]
    },
    {
      "cell_type": "markdown",
      "metadata": {
        "id": "bnGMwH21Szr_"
      },
      "source": [
        "A boolean, or bool, is a binary variable. Its value can only be True or False. It is useful when we do some logic operations, which would be covered in our next chapter."
      ]
    },
    {
      "cell_type": "code",
      "source": [
        "mi_Booleano = True     #Variable de tipo booleano, puede ser False o True\n",
        "print(mi_Booleano)\n",
        "print(type(mi_Booleano))"
      ],
      "metadata": {
        "colab": {
          "base_uri": "https://localhost:8080/"
        },
        "id": "jpp1J4rJHk3D",
        "outputId": "bd670756-667c-46e5-cc54-39bb0e851595"
      },
      "execution_count": null,
      "outputs": [
        {
          "output_type": "stream",
          "name": "stdout",
          "text": [
            "True\n",
            "<class 'bool'>\n"
          ]
        }
      ]
    },
    {
      "cell_type": "markdown",
      "metadata": {
        "id": "1Xc9G9_sS2ju"
      },
      "source": [
        "# Basic Math Operations\n",
        "\n",
        "The basic math operators in python are demonstrated below:"
      ]
    },
    {
      "cell_type": "code",
      "source": [
        "#Las operaciones basicas que ofrece python\n",
        "print(\"Suma\", 4+5)\n",
        "print(\"Resta\", 7-10)\n",
        "print(\"Multiplicacion\", 4*5)\n",
        "div_a = 15/3 \n",
        "print(\"Division\", div_a) #La division da siempre como resultado un float\n",
        "print(type(div_a))\n",
        "print(\"Potencia\", 2**4)"
      ],
      "metadata": {
        "colab": {
          "base_uri": "https://localhost:8080/"
        },
        "id": "mpxdSmN0IcF-",
        "outputId": "83a353f5-f83b-47f4-8e43-c7c1cf3cd0e6"
      },
      "execution_count": null,
      "outputs": [
        {
          "output_type": "stream",
          "name": "stdout",
          "text": [
            "Suma 9\n",
            "Resta -3\n",
            "Multiplicacion 20\n",
            "Division 5.0\n",
            "<class 'float'>\n",
            "Potencia 16\n"
          ]
        }
      ]
    },
    {
      "cell_type": "code",
      "source": [
        "#Al dividir no importa si es de tipo int o float el resultado es el mismo\n",
        "print(5/3)\n",
        "print(5.0/3)\n",
        "print(5/3.0)\n",
        "print(5.0/3.0)"
      ],
      "metadata": {
        "colab": {
          "base_uri": "https://localhost:8080/"
        },
        "id": "CFKySO9pJKHp",
        "outputId": "a1979505-b818-49b3-99e8-3f2db84f1bc9"
      },
      "execution_count": null,
      "outputs": [
        {
          "output_type": "stream",
          "name": "stdout",
          "text": [
            "1.6666666666666667\n",
            "1.6666666666666667\n",
            "1.6666666666666667\n",
            "1.6666666666666667\n"
          ]
        }
      ]
    },
    {
      "cell_type": "markdown",
      "metadata": {
        "id": "AN5Oa3DoS_Nf"
      },
      "source": [
        "# Data Collections\n",
        "\n",
        "## List\n",
        "A list is an ordered collection of values. A list is mutable, which means you can change a list's value without changing the list itself. Creating a list is simply putting different comma-separated values between square brackets."
      ]
    },
    {
      "cell_type": "code",
      "source": [
        "lista = [\"Algoritmos\", \"prueba\", 8, 16, 20.1] #Creamos una lista con diferentes tipos de variables\n",
        "print(lista)"
      ],
      "metadata": {
        "colab": {
          "base_uri": "https://localhost:8080/"
        },
        "id": "D5IV_HTdRLmQ",
        "outputId": "694e2b8e-4122-4f53-c425-3a9a90fd5bcd"
      },
      "execution_count": null,
      "outputs": [
        {
          "output_type": "stream",
          "name": "stdout",
          "text": [
            "['Algoritmos', 'prueba', 8, 16, 20.1]\n"
          ]
        }
      ]
    },
    {
      "cell_type": "markdown",
      "metadata": {
        "id": "1O0TsgZCTHrM"
      },
      "source": [
        "The values in a list are called \"elements\". We can access list elements by indexing. Python index starts from 0. So if you have a list of length n, the index of the first element will be 0, and that of the last element will be n − 1. By the way, the length of a list can be obtained by the built-in function len()."
      ]
    },
    {
      "cell_type": "code",
      "source": [
        "lista = [\"Algoritmos\", \"prueba\", 8, 16, 20.1]\n",
        "print(len(lista))                               #len muestra el largo de la lista\n",
        "print(lista[3])                                 #se obtiene el elemento en la posicion 3, considerando que la primera posicion es 0\n",
        "print(lista[len(lista)-1])                      #Como inicia en 0, el ultimo elemento en la lista esta en n-1, siendo n el largo de la lista"
      ],
      "metadata": {
        "colab": {
          "base_uri": "https://localhost:8080/"
        },
        "id": "ie6Wk68YSVfC",
        "outputId": "58776e22-4c27-41fc-fcc3-9e75c283c06c"
      },
      "execution_count": null,
      "outputs": [
        {
          "output_type": "stream",
          "name": "stdout",
          "text": [
            "5\n",
            "16\n",
            "20.1\n"
          ]
        }
      ]
    },
    {
      "cell_type": "markdown",
      "metadata": {
        "id": "jgSZy1VGTKSc"
      },
      "source": [
        "You can also change the elements in the list by accessing an index and assigning a new value."
      ]
    },
    {
      "cell_type": "code",
      "source": [
        "lista = [\"Algoritmos\", \"prueba\", 8, 16, 20.1]\n",
        "lista[3] = 'nuevo'                               #Cambiamos el elemento en la posicion 3\n",
        "print(lista)"
      ],
      "metadata": {
        "colab": {
          "base_uri": "https://localhost:8080/"
        },
        "id": "7SdCCu69TusG",
        "outputId": "2b8ca114-cb44-49cc-b5a1-ef52f62dff8a"
      },
      "execution_count": null,
      "outputs": [
        {
          "output_type": "stream",
          "name": "stdout",
          "text": [
            "['Algoritmos', 'prueba', 8, 'nuevo', 20.1]\n"
          ]
        }
      ]
    },
    {
      "cell_type": "markdown",
      "metadata": {
        "id": "EQPs5ojoTVrk"
      },
      "source": [
        "A list can also be sliced with a colon:"
      ]
    },
    {
      "cell_type": "code",
      "source": [
        "lista = [\"Algoritmos\", \"prueba\", 8, 16, 20.1]\n",
        "print(lista[2:4])                              #Se puede recorrer la lista con [x/y], donde toma los elementos desde la posicion x hasta el elemento en la posicion y-1"
      ],
      "metadata": {
        "colab": {
          "base_uri": "https://localhost:8080/"
        },
        "id": "Q9hIxn5JVSB6",
        "outputId": "7cf5e50d-2847-4123-a9c4-24fc845bfb6a"
      },
      "execution_count": null,
      "outputs": [
        {
          "output_type": "stream",
          "name": "stdout",
          "text": [
            "[8, 16]\n"
          ]
        }
      ]
    },
    {
      "cell_type": "markdown",
      "metadata": {
        "id": "AZqQd0K8TYul"
      },
      "source": [
        "The slice starts from the first element indicated, but excludes the last element indicated. Here we select all elements starting from index 2, which refers to the third element:"
      ]
    },
    {
      "cell_type": "code",
      "source": [
        "lista = [\"Algoritmos\", \"prueba\", 8, 16, 20.1]\n",
        "print(lista[2:])                               #Como dejamos vacio despues de \":\", recorre la lista desde la posicion 2 hasta el final "
      ],
      "metadata": {
        "colab": {
          "base_uri": "https://localhost:8080/"
        },
        "id": "32MrhZFjXURg",
        "outputId": "a4afd1f6-f85f-45e0-8a40-e465fbbfb83e"
      },
      "execution_count": null,
      "outputs": [
        {
          "output_type": "stream",
          "name": "stdout",
          "text": [
            "[8, 16, 20.1]\n"
          ]
        }
      ]
    },
    {
      "cell_type": "code",
      "source": [
        "lista = [\"Algoritmos\", \"prueba\", 8, 16, 20.1]\n",
        "print(lista[:4])                              #Como dejamos vacio antes de \":\", recorre la lista desde el inicio hasta la posicion 4-1 "
      ],
      "metadata": {
        "colab": {
          "base_uri": "https://localhost:8080/"
        },
        "id": "SLuBIMuQYENB",
        "outputId": "9d31d887-53b5-4ab1-aa0a-3de16858c6ae"
      },
      "execution_count": null,
      "outputs": [
        {
          "output_type": "stream",
          "name": "stdout",
          "text": [
            "['Algoritmos', 'prueba', 8, 16]\n"
          ]
        }
      ]
    },
    {
      "cell_type": "markdown",
      "metadata": {
        "id": "eAFmM6bkTZz9"
      },
      "source": [
        "If you wish to add or remove an element from a list, you can use the append() and remove() methods for lists as follows:"
      ]
    },
    {
      "cell_type": "code",
      "source": [
        "lista = [\"Algoritmos\", \"prueba\", 8, 16, 20.1]\n",
        "lista.append(16)                                #Agregamos 16 al final de la lista  \n",
        "lista.remove(16)                                #Eliminamos el primer 16 que aparezca en la lista\n",
        "print(lista)"
      ],
      "metadata": {
        "colab": {
          "base_uri": "https://localhost:8080/"
        },
        "id": "p39M9qMTaraV",
        "outputId": "54a3e768-5138-47b3-e5fb-c4e0c648497a"
      },
      "execution_count": null,
      "outputs": [
        {
          "output_type": "stream",
          "name": "stdout",
          "text": [
            "['Algoritmos', 'prueba', 8, 20.1, 16]\n"
          ]
        }
      ]
    },
    {
      "cell_type": "markdown",
      "metadata": {
        "id": "11W1gG-cVmOU"
      },
      "source": [
        "When there are repeated instances of \"Hello\", the first one is removed.\n",
        "\n",
        "## Tuple\n",
        "A tuple is a data structure type similar to a list. The difference is that a tuple is immutable, which means you can't change the elements in it once it's defined. We create a tuple by putting comma-separated values between parentheses."
      ]
    },
    {
      "cell_type": "code",
      "source": [
        "tupla = (\"Bienvenido\", \"a\", \"Unal\")   #Creamos una tupla usando parentisis"
      ],
      "metadata": {
        "id": "zed-0hBxbuu_"
      },
      "execution_count": null,
      "outputs": []
    },
    {
      "cell_type": "markdown",
      "metadata": {
        "id": "zMIme4dDV0Wz"
      },
      "source": [
        "Just like a list, a tuple can be sliced by using index."
      ]
    },
    {
      "cell_type": "code",
      "source": [
        "tupla = (\"Bienvenido\", \"a\", \"Unal\")\n",
        "print(tupla[1:])                     #Se recorre igual que una lista"
      ],
      "metadata": {
        "colab": {
          "base_uri": "https://localhost:8080/"
        },
        "id": "A1Pxe20gb_XF",
        "outputId": "a71742d9-bc1b-48c1-84eb-626d738f3110"
      },
      "execution_count": null,
      "outputs": [
        {
          "output_type": "stream",
          "name": "stdout",
          "text": [
            "('a', 'Unal')\n"
          ]
        }
      ]
    },
    {
      "cell_type": "markdown",
      "metadata": {
        "id": "l2JqbusAV1Y2"
      },
      "source": [
        "## Set\n",
        "A set is an **unordered**  collection with **no duplicate** elements. The built-in function **set()** can be used to create sets."
      ]
    },
    {
      "cell_type": "code",
      "source": [
        "lista_m = [\"Facebook\", \"youtube\", \"Twitter\", \"youtube\", \"Spotify\", \"Facebook\", \"youtube\"]\n",
        "lista_set = set(lista_m)                                                                    #Con set creamos una coleccion con los elementos sin repetir de lista_m\n",
        "print(lista_set)"
      ],
      "metadata": {
        "colab": {
          "base_uri": "https://localhost:8080/"
        },
        "id": "03UOUddBck1e",
        "outputId": "9a8a8e11-caee-42b5-fe81-00360893051a"
      },
      "execution_count": null,
      "outputs": [
        {
          "output_type": "stream",
          "name": "stdout",
          "text": [
            "{'Facebook', 'Twitter', 'youtube', 'Spotify'}\n"
          ]
        }
      ]
    },
    {
      "cell_type": "markdown",
      "metadata": {
        "id": "Jyb4GGIoWIHk"
      },
      "source": [
        "Set is an easy way to remove duplicate elements from a list.\n",
        "\n",
        "##Dictionary\n",
        "A dictionary is one of the most important data structures in Python. Unlike sequences which are indexed by integers, dictionaries are indexed by keys which can be either strings or floats.\n",
        "\n",
        "A dictionary is an **unordered** collection of key : value pairs, with the requirement that the keys are unique. We create a dictionary by placing a comma-separated list of key : value pairs within the braces."
      ]
    },
    {
      "cell_type": "code",
      "source": [
        "Diccionario = {\"A\":\"Google\", \"B\":\"Youtube\", \"C\":\"Facebook\", \"D\": \"Google\"}   #Creamos un diccionario sin llaves repetidas\n",
        "print(Diccionario[\"D\"])                                                      #Imprimimos el valor del diccionario con la llave D                       "
      ],
      "metadata": {
        "colab": {
          "base_uri": "https://localhost:8080/"
        },
        "id": "T8XTjBFyeRw5",
        "outputId": "bbfd6216-cfb2-411e-9d3d-66aaed616093"
      },
      "execution_count": null,
      "outputs": [
        {
          "output_type": "stream",
          "name": "stdout",
          "text": [
            "Google\n"
          ]
        }
      ]
    },
    {
      "cell_type": "markdown",
      "metadata": {
        "id": "gSicoNqDWP4c"
      },
      "source": [
        "After defining a dictionary, we can access any value by indicating its key in brackets."
      ]
    },
    {
      "cell_type": "code",
      "source": [
        "Diccionario = {\"A\":\"Google\", \"B\":\"Youtube\", \"C\":\"Facebook\", \"D\": \"Google\"} \n",
        "Diccionario[\"A\"] = \"Spotify\"                                                  #Con la llave podemos acceder al valor del diccionario y cambiarlo\n",
        "print(Diccionario[\"A\"])"
      ],
      "metadata": {
        "colab": {
          "base_uri": "https://localhost:8080/"
        },
        "id": "QqR6qeLSfNim",
        "outputId": "e538873f-5d54-41bf-a4d7-484f43d4307b"
      },
      "execution_count": null,
      "outputs": [
        {
          "output_type": "stream",
          "name": "stdout",
          "text": [
            "Spotify\n"
          ]
        }
      ]
    },
    {
      "cell_type": "code",
      "metadata": {
        "colab": {
          "base_uri": "https://localhost:8080/"
        },
        "id": "lupRHf1_Oqij",
        "outputId": "eaba342d-dee7-4c5b-bf36-3bbc62655e4e"
      },
      "source": [
        "print(Diccionario.keys()) #Con .keys obtenemos la lista de todas las llaves del diccionario"
      ],
      "execution_count": null,
      "outputs": [
        {
          "output_type": "stream",
          "name": "stdout",
          "text": [
            "dict_keys(['A', 'B', 'C', 'D'])\n"
          ]
        }
      ]
    },
    {
      "cell_type": "markdown",
      "metadata": {
        "id": "VPuDinlwWS9D"
      },
      "source": [
        "The built-in method of the dictionary object dict.keys() returns a list of all the keys used in the dictionary."
      ]
    },
    {
      "cell_type": "markdown",
      "metadata": {
        "id": "kSGzgNb2Womz"
      },
      "source": [
        "# Common String Operations\n",
        "A string is an immutable sequence of characters. It can be sliced by index just like a tuple:"
      ]
    },
    {
      "cell_type": "code",
      "source": [
        "string = \"Bienvenidos a la presencialidad\"\n",
        "print(string[16:])                          #Se puede recorrer un string como una tupla o lista"
      ],
      "metadata": {
        "colab": {
          "base_uri": "https://localhost:8080/"
        },
        "id": "T5qW2dzthUOn",
        "outputId": "b7e8e4be-1f17-472f-9dbb-98c3526628d3"
      },
      "execution_count": null,
      "outputs": [
        {
          "output_type": "stream",
          "name": "stdout",
          "text": [
            " presencialidad\n"
          ]
        }
      ]
    },
    {
      "cell_type": "markdown",
      "metadata": {
        "id": "wuJYy7tvWtM7"
      },
      "source": [
        "There are many methods associated with strings. We can use string.count() to count the occurrences of a character in a string, use string.find() to return the index of a specific character, and use string.replace() to replace characters"
      ]
    },
    {
      "cell_type": "code",
      "source": [
        "print(\"Probando cuantas o tiene esta oracion\".count(\"o\"))  #.count para saber cuantas veces se repite un caracter\n",
        "print(\"Donde esta la z\".find(\"z\"))                         #.find para encontrar la primera posicion en la que sale un caracter\n",
        "print(\"cres crisces cigres\".replace(\"c\",\"t\"))              #.replace para reemplazar un caracter en todo el string por otro"
      ],
      "metadata": {
        "colab": {
          "base_uri": "https://localhost:8080/"
        },
        "id": "tzamUXRwikDI",
        "outputId": "54dfc4fc-d093-43e5-965b-8eeb548a25ab"
      },
      "execution_count": null,
      "outputs": [
        {
          "output_type": "stream",
          "name": "stdout",
          "text": [
            "5\n",
            "14\n",
            "tres tristes tigres\n"
          ]
        }
      ]
    },
    {
      "cell_type": "markdown",
      "metadata": {
        "id": "sJPn3rkvWwHN"
      },
      "source": [
        "The most commonly used method for strings is string.split(). This method will split the string by the indicated character and return a list:"
      ]
    },
    {
      "cell_type": "code",
      "source": [
        "Tiempo = \"13-03-2022_01:41:00\"\n",
        "splited_tiempo = Tiempo.split(\"_\") #Dividimos el dia y la hora por el simbolo \"_\"\n",
        "dia = splited_tiempo[0]            #Creamos una variable con el elemento de la posicion 0 \n",
        "tiempo = splited_tiempo[1]         #Creamos una variable con el elemento de la posicion 1\n",
        "print(dia)\n",
        "minuto = tiempo.split(\":\")[1]      #Podemos dividir el tiempo en horas, minutos, segundos, por el simbolo \":\" \n",
        "print(minuto)"
      ],
      "metadata": {
        "colab": {
          "base_uri": "https://localhost:8080/"
        },
        "id": "OEqUtrzilXP1",
        "outputId": "9938f8f9-db23-48c5-d836-a41bb6b81fa9"
      },
      "execution_count": null,
      "outputs": [
        {
          "output_type": "stream",
          "name": "stdout",
          "text": [
            "13-03-2022\n",
            "41\n"
          ]
        }
      ]
    },
    {
      "cell_type": "markdown",
      "metadata": {
        "id": "9cJQGk96WyVc"
      },
      "source": [
        "We can replace parts of a string by our variable. This is called string formatting."
      ]
    },
    {
      "cell_type": "code",
      "source": [
        "Hora_A = \"Hora:{}, Minuto:{}\".format(\"1\",\"59\")  #Con format podemos insertar el texto en las posiciones señaladas por los corchetes\n",
        "print(Hora_A)"
      ],
      "metadata": {
        "colab": {
          "base_uri": "https://localhost:8080/"
        },
        "id": "HOeVDCg0pR4U",
        "outputId": "a29115c8-8be4-45a1-b7ce-bf6df2db333c"
      },
      "execution_count": null,
      "outputs": [
        {
          "output_type": "stream",
          "name": "stdout",
          "text": [
            "Hora:1, Minuto:59\n"
          ]
        }
      ]
    },
    {
      "cell_type": "markdown",
      "metadata": {
        "id": "1_NbVldpWzAs"
      },
      "source": [
        "Another way to format a string is to use the % symbol."
      ]
    },
    {
      "cell_type": "code",
      "source": [
        "#Tambien se puede usar % en reemplazo de format, especificando el tipo de variable despues de %\n",
        "print(\"mi edad es %i años\" % 20)\n",
        "print(\"Este es un numero float: %f\" %4.5)\n",
        "print(\"%s mucha %s\"%(\"Tengo\", \"hambre\"))"
      ],
      "metadata": {
        "colab": {
          "base_uri": "https://localhost:8080/"
        },
        "id": "anNJKTTVq8NH",
        "outputId": "4fabf145-fdef-4f0a-e6d5-1342fc7cc7d9"
      },
      "execution_count": null,
      "outputs": [
        {
          "output_type": "stream",
          "name": "stdout",
          "text": [
            "mi edad es 20 años\n",
            "Este es un numero float: 4.500000\n",
            "Tengo mucha hambre\n"
          ]
        }
      ]
    },
    {
      "cell_type": "markdown",
      "metadata": {
        "id": "v_5cocrDW3MN"
      },
      "source": [
        "# Summary\n",
        "\n",
        "Weave seen the basic data types and data structures in Python. It's important to keep practicing to become familiar with these data structures. In the next tutorial, we will cover for and while loops and logical operations in Python."
      ]
    },
    {
      "cell_type": "markdown",
      "metadata": {
        "id": "QL6dNxwCXNEt"
      },
      "source": [
        "<div align=\"center\">\n",
        "<img style=\"display: block; margin: auto;\" alt=\"photo\" src=\"https://cdn.quantconnect.com/web/i/icon.png\">\n",
        "\n",
        "Quantconnect\n",
        "\n",
        "Introduction to Financial Python\n",
        "</div>\n",
        "\n",
        "# 02 Logical Operations and Loops\n",
        "\n",
        "# Introduction\n",
        "We discussed the basic data types and data structures in Python in the last tutorial. This chapter covers logical operations and loops in Python, which are very common in programming.\n",
        "\n",
        "# Logical Operations\n",
        "Like most programming languages, Python has comparison operators:"
      ]
    },
    {
      "cell_type": "code",
      "source": [
        "#Operaciones de comparacion con resultado True o False\n",
        "print(2 == 3)\n",
        "print(2 == 2)\n",
        "print(2 != 6)\n",
        "print(2 >= 3)\n",
        "print(5 >= 3)"
      ],
      "metadata": {
        "colab": {
          "base_uri": "https://localhost:8080/"
        },
        "id": "w3XblyBYwKhV",
        "outputId": "d524d778-ebfe-419e-8790-066852a991da"
      },
      "execution_count": null,
      "outputs": [
        {
          "output_type": "stream",
          "name": "stdout",
          "text": [
            "False\n",
            "True\n",
            "True\n",
            "False\n",
            "True\n"
          ]
        }
      ]
    },
    {
      "cell_type": "markdown",
      "metadata": {
        "id": "8aFHYDj-YTXt"
      },
      "source": [
        "Each statement above has a boolean value, which must be either True or False, but not both.\n",
        "\n",
        "We can combine simple statements P and Q to form complex statements using logical operators:\n",
        "\n",
        "- The statement \"P and Q\" is true if both P and Q are true, otherwise it is false.\n",
        "- The statement \"P or Q\" is false if both P and Q are false, otherwise it is true.\n",
        "- The statement \"not P\" is true if P is false, and vice versa."
      ]
    },
    {
      "cell_type": "code",
      "metadata": {
        "colab": {
          "base_uri": "https://localhost:8080/"
        },
        "id": "O5YEEcUbOv7d",
        "outputId": "450705ca-229f-4403-d5d4-172c2bdc5435"
      },
      "source": [
        "#Combinamos operaciones de comparacion con operaciones logicas: and, or y not\n",
        "print(0 > 1 and 3 > 2)\n",
        "print(10 > 8 and 1 < 6) \n",
        "print(-1 > 1 or -4 < 2)\n",
        "print(2 < -5 or 3 < -8)\n",
        "print(not 3 < 2)"
      ],
      "execution_count": null,
      "outputs": [
        {
          "output_type": "stream",
          "name": "stdout",
          "text": [
            "False\n",
            "True\n",
            "True\n",
            "False\n",
            "True\n"
          ]
        }
      ]
    },
    {
      "cell_type": "markdown",
      "metadata": {
        "id": "Dy7yzoSXYXmL"
      },
      "source": [
        "When dealing with a very complex logical statement that involves in several statements, we can use brackets to separate and combine them."
      ]
    },
    {
      "cell_type": "code",
      "source": [
        "#Una combinacion de operaciones logicas y comparacion mas compleja usando parentesis.\n",
        "print((4 > 2 and 5 > 1) or (4 != 5 and 3==2 ) and not(-5 > 0 or 3 > 10) or not(4 < 3 and 5 > 2) )"
      ],
      "metadata": {
        "colab": {
          "base_uri": "https://localhost:8080/"
        },
        "id": "BUhsKQdo2rFF",
        "outputId": "77a6fa3f-d846-415e-8d64-e0c795fbacb3"
      },
      "execution_count": null,
      "outputs": [
        {
          "output_type": "stream",
          "name": "stdout",
          "text": [
            "True\n"
          ]
        }
      ]
    },
    {
      "cell_type": "markdown",
      "metadata": {
        "id": "s95xoRYMYaPD"
      },
      "source": [
        "Comparing the above two statements, we can see that it's wise to use brackets when we make a complex logical statement.\n",
        "\n",
        "# If Statement\n",
        "An if statement executes a segment of code only if its condition is true. A standard if statement consists of 3 segments: if, elif and else."
      ]
    },
    {
      "cell_type": "markdown",
      "metadata": {
        "id": "aRzMMitAaBOL"
      },
      "source": [
        "```python\n",
        "if statement1:\n",
        "    # if the statement1 is true, execute the code here.\n",
        "    # code.....\n",
        "    # code.....\n",
        "elif statement2:\n",
        "    # if the statement 1 is false, skip the codes above to this part.\n",
        "    # code......\n",
        "    # code......\n",
        "else:\n",
        "    # if none of the above statements is True, skip to this part\n",
        "    # code......\n",
        "```"
      ]
    },
    {
      "cell_type": "markdown",
      "metadata": {
        "id": "l59R2AS8aH2K"
      },
      "source": [
        "An if statement doesn't necessarily has elif and else part. If it's not specified, the indented block of code will be executed when the condition is true, otherwise the whole if statement will be skipped."
      ]
    },
    {
      "cell_type": "code",
      "source": [
        "edad = 20\n",
        "if edad >= 18: #Si tiene 18 o mas años el if indica que es mayor de edad\n",
        "  print(\"Ya es mayor de edad\")  "
      ],
      "metadata": {
        "colab": {
          "base_uri": "https://localhost:8080/"
        },
        "id": "bEKULEXv4gfd",
        "outputId": "77d424b9-6d07-435d-ff34-15d2d6a0723a"
      },
      "execution_count": null,
      "outputs": [
        {
          "output_type": "stream",
          "name": "stdout",
          "text": [
            "Ya es mayor de edad\n"
          ]
        }
      ]
    },
    {
      "cell_type": "markdown",
      "metadata": {
        "id": "nPNW-l5eaJn8"
      },
      "source": [
        "As we mentioned above, we can write some complex statements here:"
      ]
    },
    {
      "cell_type": "code",
      "metadata": {
        "colab": {
          "base_uri": "https://localhost:8080/"
        },
        "id": "gh-U6nMzOv7e",
        "outputId": "278c09cc-10be-4372-f22e-29c1a5ee5f8b"
      },
      "source": [
        "p = 1 > 0\n",
        "q = 2 > 3\n",
        "if p and q:\n",
        "    print('p and q is true')\n",
        "elif p and not q:\n",
        "    print('q is false')\n",
        "elif q and not p:\n",
        "    print('p is false')\n",
        "else:\n",
        "    print('None of p and q is true')"
      ],
      "execution_count": null,
      "outputs": [
        {
          "output_type": "stream",
          "name": "stdout",
          "text": [
            "q is false\n"
          ]
        }
      ]
    },
    {
      "cell_type": "code",
      "source": [
        "#Los if determinan si es mayor o menor de edad y el color que le gusta entre Azul y Rojo\n",
        "p = 20\n",
        "q = \"Azul\"\n",
        "if p >= 18  and q == \"Azul\":\n",
        "  print(\"Mayor de Edad, le gusta el azul\")\n",
        "elif p <= 18 and q == \"Azul\":\n",
        "  print(\"Menor de Edad, le gusta el azul\")\n",
        "elif p <= 18 and q == \"Rojo\":\n",
        "  print(\"Menor de Edad, le gusta el Rojo\")\n",
        "else:\n",
        "  print(\"Mayor de Edad, le gusta el Rojo\")"
      ],
      "metadata": {
        "colab": {
          "base_uri": "https://localhost:8080/"
        },
        "id": "D-B5Dhev5aIt",
        "outputId": "9cc7462a-492c-4abc-8b3c-8e2fb05311f2"
      },
      "execution_count": null,
      "outputs": [
        {
          "output_type": "stream",
          "name": "stdout",
          "text": [
            "Mayor de Edad, le gusta el azul\n"
          ]
        }
      ]
    },
    {
      "cell_type": "markdown",
      "metadata": {
        "id": "tgRDwiAsaMOL"
      },
      "source": [
        "# Loop Structure\n",
        "Loops are an essential part of programming. The \"for\" and \"while\" loops run a block of code repeatedly.\n",
        "\n",
        "## While Loop\n",
        "A \"while\" loop will run repeatedly until a certain condition has been met."
      ]
    },
    {
      "cell_type": "code",
      "source": [
        "#Cuenta atras desde 10\n",
        "i = 10\n",
        "while i > 0:\n",
        "  print(i)\n",
        "  i -= 1"
      ],
      "metadata": {
        "colab": {
          "base_uri": "https://localhost:8080/"
        },
        "id": "JHZnk3NN8vLO",
        "outputId": "75d8a99a-41b5-4177-9a42-3bd8cecfc96d"
      },
      "execution_count": null,
      "outputs": [
        {
          "output_type": "stream",
          "name": "stdout",
          "text": [
            "10\n",
            "9\n",
            "8\n",
            "7\n",
            "6\n",
            "5\n",
            "4\n",
            "3\n",
            "2\n",
            "1\n"
          ]
        }
      ]
    },
    {
      "cell_type": "markdown",
      "metadata": {
        "id": "ydLddFAPaTOE"
      },
      "source": [
        "When making a while loop, we need to ensure that something changes from iteration to iteration so that the while loop will terminate, otherwise, it will run forever. Here we used i += 1 (short for i = i + 1) to make i larger after each iteration. This is the most commonly used method to control a while loop.\n",
        "\n",
        "## For Loop\n",
        "A \"for\" loop will iterate over a sequence of value and terminate when the sequence has ended."
      ]
    },
    {
      "cell_type": "code",
      "source": [
        "#Recorremos la lista con un for\n",
        "lista = [\"Facebook\", \"Youtube\", \"Twitter\", \"Spotify\"]\n",
        "for i in lista:\n",
        "  print(i)"
      ],
      "metadata": {
        "colab": {
          "base_uri": "https://localhost:8080/"
        },
        "id": "GhlrKcnM9gGF",
        "outputId": "4728f9d0-d349-4f41-b8b9-7405d08fbbe1"
      },
      "execution_count": null,
      "outputs": [
        {
          "output_type": "stream",
          "name": "stdout",
          "text": [
            "Facebook\n",
            "Youtube\n",
            "Twitter\n",
            "Spotify\n"
          ]
        }
      ]
    },
    {
      "cell_type": "markdown",
      "metadata": {
        "id": "yWStqpreaX-T"
      },
      "source": [
        "We can also add if statements in a for loop. "
      ]
    },
    {
      "cell_type": "code",
      "source": [
        "#Creamos una lista de las aplicaciones que no pertenecen a Meta\n",
        "Redes = [\"Facebook\", \"Youtube\", \"Twitter\", \"Spotify\", \"Instagram\",\"WhatsApp\"]\n",
        "Meta =  [\"Facebook\", \"Instagram\", \"WhatsApp\"]\n",
        "No_Meta = []\n",
        "for i in Redes:\n",
        "  if i not in Meta:\n",
        "    No_Meta.append(i)\n",
        "print(No_Meta)"
      ],
      "metadata": {
        "colab": {
          "base_uri": "https://localhost:8080/"
        },
        "id": "vwBjY0oC-cWz",
        "outputId": "7d7973e8-cb7d-477b-a4ce-a70e867ed768"
      },
      "execution_count": null,
      "outputs": [
        {
          "output_type": "stream",
          "name": "stdout",
          "text": [
            "['Youtube', 'Twitter', 'Spotify']\n"
          ]
        }
      ]
    },
    {
      "cell_type": "markdown",
      "metadata": {
        "id": "wb2hry9dahE0"
      },
      "source": [
        "Here we iterated all the elements in the list 'Redes'. Later in this chapter, we will introduce a smarter way to do this, which is just a one-line code.\n",
        "\n",
        "## Break and continue\n",
        "These are two commonly used commands in a for loop. If \"break\" is triggered while a loop is executing, the loop will terminate immediately:"
      ]
    },
    {
      "cell_type": "code",
      "source": [
        "#Recorre la lista hasta encontrar la primera aplicacion de Meta\n",
        "Redes = [\"Youtube\", \"Twitter\", \"Spotify\", \"Instagram\",\"WhatsApp\", \"Facebook\"]\n",
        "Meta =  [\"Facebook\", \"Instagram\", \"WhatsApp\"]\n",
        "for i in Redes:\n",
        "  print(i)\n",
        "  if i in Meta:\n",
        "    break"
      ],
      "metadata": {
        "colab": {
          "base_uri": "https://localhost:8080/"
        },
        "id": "hfOalWSFAPuz",
        "outputId": "1d14e51c-2bf1-4355-fcd6-afb13f886199"
      },
      "execution_count": null,
      "outputs": [
        {
          "output_type": "stream",
          "name": "stdout",
          "text": [
            "Youtube\n",
            "Twitter\n",
            "Spotify\n",
            "Instagram\n"
          ]
        }
      ]
    },
    {
      "cell_type": "markdown",
      "metadata": {
        "id": "R0toxyp3ao0T"
      },
      "source": [
        "The \"continue\" command tells the loop to end this iteration and skip to the next iteration:"
      ]
    },
    {
      "cell_type": "code",
      "source": [
        "#Imprime las aplicaciones que no pertenecen a Meta en la lista de Redes\n",
        "Redes = [\"Youtube\", \"Instagram\", \"Twitter\",\"WhatsApp\", \"Spotify\", \"Facebook\"]\n",
        "Meta =  [\"Facebook\", \"Instagram\", \"WhatsApp\"]\n",
        "for i in Redes:\n",
        "  if i in Meta:\n",
        "    continue\n",
        "  print(i)"
      ],
      "metadata": {
        "colab": {
          "base_uri": "https://localhost:8080/"
        },
        "id": "qOWb0WAYBFzD",
        "outputId": "7e825e23-6434-4a2a-93fe-3b581779231f"
      },
      "execution_count": null,
      "outputs": [
        {
          "output_type": "stream",
          "name": "stdout",
          "text": [
            "Youtube\n",
            "Twitter\n",
            "Spotify\n"
          ]
        }
      ]
    },
    {
      "cell_type": "markdown",
      "metadata": {
        "id": "4NusvdhBaxpZ"
      },
      "source": [
        "# List Comprehension\n",
        "List comprehension is a Pythonic way to create lists. Common applications are to make new lists where each element is the result of some operations applied to each member of another sequence. For example, if we want to create a list of squares using for loop:"
      ]
    },
    {
      "cell_type": "code",
      "source": [
        "#Los cubos de la lista de numeros\n",
        "cubo = []\n",
        "for i in [1,2,3,4,5]:\n",
        "    cubo.append(i**3)\n",
        "print(cubo)"
      ],
      "metadata": {
        "colab": {
          "base_uri": "https://localhost:8080/"
        },
        "id": "y8dLhzEUCynH",
        "outputId": "f0ec1a2c-3f18-4d1c-f701-4b237040218b"
      },
      "execution_count": null,
      "outputs": [
        {
          "output_type": "stream",
          "name": "stdout",
          "text": [
            "[1, 8, 27, 64, 125]\n"
          ]
        }
      ]
    },
    {
      "cell_type": "markdown",
      "metadata": {
        "id": "--KliJBOa1CC"
      },
      "source": [
        "Using list comprehension:"
      ]
    },
    {
      "cell_type": "code",
      "source": [
        "#Cubos usando list comprehension\n",
        "list = [1,2,3,4,5]\n",
        "cubo = [x**3 for x in list]\n",
        "print(cubo)"
      ],
      "metadata": {
        "colab": {
          "base_uri": "https://localhost:8080/"
        },
        "id": "2jmssAlHDsST",
        "outputId": "4057a392-0de2-49de-b804-593150aaec57"
      },
      "execution_count": null,
      "outputs": [
        {
          "output_type": "stream",
          "name": "stdout",
          "text": [
            "[1, 8, 27, 64, 125]\n"
          ]
        }
      ]
    },
    {
      "cell_type": "markdown",
      "metadata": {
        "id": "uMuCfR3ya3zT"
      },
      "source": [
        "Recall the example above where we used a for loop to select \"Redes\". Here we use list comprehension:"
      ]
    },
    {
      "cell_type": "code",
      "source": [
        "#Creamos una lista de las aplicaciones que no pertenecen a Meta de una manera mas simple que en los ejemplos anteriorres\n",
        "Redes = [\"Facebook\", \"Youtube\", \"Twitter\", \"Spotify\", \"Instagram\",\"WhatsApp\"]\n",
        "Meta =  [\"Facebook\", \"Instagram\", \"WhatsApp\"]\n",
        "No_Meta = [x for x in Redes if x not in Meta]\n",
        "print(No_Meta)"
      ],
      "metadata": {
        "colab": {
          "base_uri": "https://localhost:8080/"
        },
        "id": "fYEmTOlNENH7",
        "outputId": "33d5153a-0094-4918-c196-baa1ea8afc8f"
      },
      "execution_count": null,
      "outputs": [
        {
          "output_type": "stream",
          "name": "stdout",
          "text": [
            "['Youtube', 'Twitter', 'Spotify']\n"
          ]
        }
      ]
    },
    {
      "cell_type": "markdown",
      "metadata": {
        "id": "EPeUv6Lia5oD"
      },
      "source": [
        "A list comprehension consists of square brackets containing an expression followed by a \"for\" clause, and possibly \"for\" or \"if\" clauses. For example:"
      ]
    },
    {
      "cell_type": "code",
      "source": [
        "#Creamos un VS de aplicaciones\n",
        "print([str(x)+ \" vs \" + str(y) for x in [ \"Youtube\", \"Twitter\", \"Spotify\"] for y in [\"Facebook\", \"Instagram\", \"WhatsApp\"] if x!=y])"
      ],
      "metadata": {
        "colab": {
          "base_uri": "https://localhost:8080/"
        },
        "id": "1M0eIqPWFnAs",
        "outputId": "3ae5bada-eb8d-4070-cf8a-ed7857bfed54"
      },
      "execution_count": null,
      "outputs": [
        {
          "output_type": "stream",
          "name": "stdout",
          "text": [
            "['Youtube vs Facebook', 'Youtube vs Instagram', 'Youtube vs WhatsApp', 'Twitter vs Facebook', 'Twitter vs Instagram', 'Twitter vs WhatsApp', 'Spotify vs Facebook', 'Spotify vs Instagram', 'Spotify vs WhatsApp']\n"
          ]
        }
      ]
    },
    {
      "cell_type": "markdown",
      "metadata": {
        "id": "jJpvq-o4a8P7"
      },
      "source": [
        "List comprehension is an elegant way to organize one or more for loops when creating a list.\n",
        "\n",
        "# Summary\n",
        "This chapter has introduced logical operations, loops, and list comprehension. In the next chapter, we will introduce functions and object-oriented programming, which will enable us to make our codes clean and versatile."
      ]
    },
    {
      "cell_type": "markdown",
      "metadata": {
        "id": "Tef_X2wJbdhn"
      },
      "source": [
        "<div align=\"center\">\n",
        "<img style=\"display: block; margin: auto;\" alt=\"photo\" src=\"https://cdn.quantconnect.com/web/i/icon.png\">\n",
        "\n",
        "Quantconnect\n",
        "\n",
        "Introduction to Financial Python\n",
        "</div>\n",
        "\n",
        "# 03 Functions and Objective-Oriented Programming\n",
        "\n",
        "# Introduction\n",
        "\n",
        "In the last tutorial we introduced logical operations, loops and list comprehension. We will introduce functions and object-oriented programming in this chapter, which will enable us to build complex algorithms in more flexible ways.\n",
        "\n",
        "# Functions\n",
        "A function is a reusable block of code. We can use a function to output a value, or do anything else we want. We can easily define our own function by using the keyword \"def\"."
      ]
    },
    {
      "cell_type": "code",
      "source": [
        "#Funcion de division\n",
        "def division(x,y):\n",
        "    return x/y\n",
        "print(division(5,3))\n",
        "print(division(35,5))"
      ],
      "metadata": {
        "colab": {
          "base_uri": "https://localhost:8080/"
        },
        "id": "CXIda3lhOW_8",
        "outputId": "85127a6b-7e60-414c-d8bd-4c166483faa7"
      },
      "execution_count": null,
      "outputs": [
        {
          "output_type": "stream",
          "name": "stdout",
          "text": [
            "1.6666666666666667\n",
            "7.0\n"
          ]
        }
      ]
    },
    {
      "cell_type": "markdown",
      "metadata": {
        "id": "4oRU_dVJbsdD"
      },
      "source": [
        "The keyword \"def\" is followed by the function name and the parenthesized list of formal parameters. The statements that form the body of the function start at the next line, and must be indented. The product() function above has \"x\" and \"y\" as its parameters. A function doesn't necessarily have parameters:"
      ]
    },
    {
      "cell_type": "code",
      "metadata": {
        "colab": {
          "base_uri": "https://localhost:8080/"
        },
        "id": "JhdWVLbUO2PQ",
        "outputId": "0c544747-1d2c-444f-cc68-81d53a29aa66"
      },
      "source": [
        "def say_hi():\n",
        "    print('Welcome to QuantConnect')\n",
        "say_hi()"
      ],
      "execution_count": null,
      "outputs": [
        {
          "output_type": "stream",
          "name": "stdout",
          "text": [
            "Welcome to QuantConnect\n"
          ]
        }
      ]
    },
    {
      "cell_type": "code",
      "source": [
        "#Funcion sin parametros\n",
        "def despedida():\n",
        "  print(\"Adios, tenga un buen dia\")\n",
        "despedida()"
      ],
      "metadata": {
        "colab": {
          "base_uri": "https://localhost:8080/"
        },
        "id": "xBJetlOIUZKv",
        "outputId": "5c129712-8ac4-4dbe-867a-0ea7838e900b"
      },
      "execution_count": null,
      "outputs": [
        {
          "output_type": "stream",
          "name": "stdout",
          "text": [
            "Adios, tenga un buen dia\n"
          ]
        }
      ]
    },
    {
      "cell_type": "markdown",
      "metadata": {
        "id": "lHwqVpWVb1Jr"
      },
      "source": [
        "# Built-in Function\n",
        "**range()** is a function that creates a list containing an arithmetic sequence. It's often used in for loops. The arguments must be integers. If the \"step\" argument is omitted, it defaults to 1."
      ]
    },
    {
      "cell_type": "code",
      "source": [
        "#Prueba con la funcion range(start, stop, step)\n",
        "print(range(5))\n",
        "x = range(0,100,10)\n",
        "for i in x:\n",
        "  print(i)"
      ],
      "metadata": {
        "colab": {
          "base_uri": "https://localhost:8080/",
          "height": 426
        },
        "id": "EOKGkLdMYpu4",
        "outputId": "791fc9a3-b389-491e-951a-01fc4d31ed9b"
      },
      "execution_count": null,
      "outputs": [
        {
          "output_type": "stream",
          "name": "stdout",
          "text": [
            "range(0, 5)\n",
            "0\n",
            "10\n",
            "20\n",
            "30\n",
            "40\n",
            "50\n",
            "60\n",
            "70\n",
            "80\n",
            "90\n"
          ]
        },
        {
          "output_type": "error",
          "ename": "TypeError",
          "evalue": "ignored",
          "traceback": [
            "\u001b[0;31m---------------------------------------------------------------------------\u001b[0m",
            "\u001b[0;31mTypeError\u001b[0m                                 Traceback (most recent call last)",
            "\u001b[0;32m<ipython-input-46-e4aba4099274>\u001b[0m in \u001b[0;36m<module>\u001b[0;34m()\u001b[0m\n\u001b[1;32m      4\u001b[0m \u001b[0;32mfor\u001b[0m \u001b[0mi\u001b[0m \u001b[0;32min\u001b[0m \u001b[0mx\u001b[0m\u001b[0;34m:\u001b[0m\u001b[0;34m\u001b[0m\u001b[0;34m\u001b[0m\u001b[0m\n\u001b[1;32m      5\u001b[0m   \u001b[0mprint\u001b[0m\u001b[0;34m(\u001b[0m\u001b[0mi\u001b[0m\u001b[0;34m)\u001b[0m\u001b[0;34m\u001b[0m\u001b[0;34m\u001b[0m\u001b[0m\n\u001b[0;32m----> 6\u001b[0;31m \u001b[0my\u001b[0m \u001b[0;34m=\u001b[0m \u001b[0mrange\u001b[0m\u001b[0;34m(\u001b[0m\u001b[0;36m0\u001b[0m\u001b[0;34m,\u001b[0m \u001b[0;36m5\u001b[0m\u001b[0;34m,\u001b[0m \u001b[0;36m0.5\u001b[0m\u001b[0;34m)\u001b[0m\u001b[0;34m\u001b[0m\u001b[0;34m\u001b[0m\u001b[0m\n\u001b[0m\u001b[1;32m      7\u001b[0m \u001b[0;32mfor\u001b[0m \u001b[0mi\u001b[0m \u001b[0;32min\u001b[0m \u001b[0my\u001b[0m\u001b[0;34m:\u001b[0m\u001b[0;34m\u001b[0m\u001b[0;34m\u001b[0m\u001b[0m\n\u001b[1;32m      8\u001b[0m   \u001b[0mprint\u001b[0m\u001b[0;34m(\u001b[0m\u001b[0mi\u001b[0m\u001b[0;34m)\u001b[0m\u001b[0;34m\u001b[0m\u001b[0;34m\u001b[0m\u001b[0m\n",
            "\u001b[0;31mTypeError\u001b[0m: 'float' object cannot be interpreted as an integer"
          ]
        }
      ]
    },
    {
      "cell_type": "markdown",
      "metadata": {
        "id": "PD0cSgiwcQ4L"
      },
      "source": [
        "**len()** is another function used together with range() to create a for loop. This function returns the length of an object. The argument must be a sequence or a collection."
      ]
    },
    {
      "cell_type": "code",
      "source": [
        "#Usando len en un for loop.\n",
        "Redes = [\"Facebook\", \"Youtube\", \"Twitter\", \"Spotify\", \"Instagram\",\"WhatsApp\"]\n",
        "print(\"El numero de redes en la lista es de %i, estas son:\"%len(Redes))\n",
        "for i in range(len(Redes)):\n",
        "  print(Redes[i])"
      ],
      "metadata": {
        "colab": {
          "base_uri": "https://localhost:8080/"
        },
        "id": "YD-iOhonZi5f",
        "outputId": "9fa103b8-80b6-4846-e830-f89379d96792"
      },
      "execution_count": null,
      "outputs": [
        {
          "output_type": "stream",
          "name": "stdout",
          "text": [
            "El numero de redes en la lista es de 6, estas son:\n",
            "Facebook\n",
            "Youtube\n",
            "Twitter\n",
            "Spotify\n",
            "Instagram\n",
            "WhatsApp\n"
          ]
        }
      ]
    },
    {
      "cell_type": "markdown",
      "metadata": {
        "id": "OIQSuub1cWgi"
      },
      "source": [
        "Note: If you want to print only the tickers without those numbers, then simply write \"for ticker in tickers: print ticker\"\n",
        "\n",
        "**map(**) is a function that applies a specific function to every item of a sequence or collection, and returns a list of the results."
      ]
    },
    {
      "cell_type": "code",
      "source": [
        "Redes = [\"Facebook\", \"Youtube\", \"Twitter\", \"Spotify\", \"Instagram\",\"WhatsApp\"] #Creamos la lista de nombre Redes\n",
        "print(Redes)\n",
        "del Redes #Eliminamos la lista Redes para crear otra lista con el mismo nombre\n",
        "Redes = [\"Gmail\", \"Telegram\", \"Twitter\"] #Creamos una nueva lista con el nombre de Redes\n",
        "print(Redes)\n",
        "del Redes"
      ],
      "metadata": {
        "colab": {
          "base_uri": "https://localhost:8080/"
        },
        "id": "jZN0Z2khbBJ3",
        "outputId": "dd902b72-8dfb-45b1-afa6-0feeb67240c4"
      },
      "execution_count": null,
      "outputs": [
        {
          "output_type": "stream",
          "name": "stdout",
          "text": [
            "['Facebook', 'Youtube', 'Twitter', 'Spotify', 'Instagram', 'WhatsApp']\n",
            "['Gmail', 'Telegram', 'Twitter']\n"
          ]
        }
      ]
    },
    {
      "cell_type": "code",
      "source": [
        "Frutas = [\"Manzana\", \"Pera\", \"Fresa\", \"Mora\", \"Uva\"] #Creamos una lista con nombres de frutas\n",
        "y = list(map(len, Frutas))                           #Creamos una lista del largo de los nombres de las frutas apoyandonos en la funcion map\n",
        "print(y)\n",
        "def cuadrado(x):                                     #Creamos unas funcion de cuadrados para probar el funcionamiento de map\n",
        "  return x**2\n",
        "list(map(cuadrado, y))                               #Creamos e imprimimos una lista de los cuadrados del largo de los nombres de las frutas"
      ],
      "metadata": {
        "colab": {
          "base_uri": "https://localhost:8080/"
        },
        "id": "fWyi30GMb_Df",
        "outputId": "a7b02b00-317d-4672-a64b-ad3bbf00e1f6"
      },
      "execution_count": null,
      "outputs": [
        {
          "output_type": "stream",
          "name": "stdout",
          "text": [
            "[7, 4, 5, 4, 3]\n"
          ]
        },
        {
          "output_type": "execute_result",
          "data": {
            "text/plain": [
              "[49, 16, 25, 16, 9]"
            ]
          },
          "metadata": {},
          "execution_count": 53
        }
      ]
    },
    {
      "cell_type": "markdown",
      "metadata": {
        "id": "mvr06UM7ca7b"
      },
      "source": [
        "The **lambda operator** is a way to create small anonymous functions. These functions are just needed where they have been created. For example:"
      ]
    },
    {
      "cell_type": "code",
      "source": [
        "#Listas para probar el funcionamiento de lambda creando una funcion que solo se usa en la lista.\n",
        "y = list(map(lambda x: x*10, range(0,101,10)))\n",
        "print(y)\n",
        "list(map(lambda x: x/2, range(11))) #Lista de numeros contando de 0.5 en 0.5 hasta el 5"
      ],
      "metadata": {
        "colab": {
          "base_uri": "https://localhost:8080/"
        },
        "id": "BI6p8xRyd1dx",
        "outputId": "f0899479-c73d-4e4b-da54-f450f4e17a52"
      },
      "execution_count": null,
      "outputs": [
        {
          "output_type": "stream",
          "name": "stdout",
          "text": [
            "[0, 100, 200, 300, 400, 500, 600, 700, 800, 900, 1000]\n"
          ]
        },
        {
          "output_type": "execute_result",
          "data": {
            "text/plain": [
              "[0.0, 0.5, 1.0, 1.5, 2.0, 2.5, 3.0, 3.5, 4.0, 4.5, 5.0]"
            ]
          },
          "metadata": {},
          "execution_count": 47
        }
      ]
    },
    {
      "cell_type": "markdown",
      "metadata": {
        "id": "Mgixpxomcj3T"
      },
      "source": [
        "map() can be applied to more than one list. The lists have to have the same length."
      ]
    },
    {
      "cell_type": "code",
      "metadata": {
        "colab": {
          "base_uri": "https://localhost:8080/"
        },
        "id": "HtckhAaJO2PS",
        "outputId": "8b24472e-2eef-4a71-c36c-b872f8e128db"
      },
      "source": [
        "list(map(lambda x, y: x+y, [1,2,3,4,5],[5,4,3,2,1]))"
      ],
      "execution_count": null,
      "outputs": [
        {
          "output_type": "execute_result",
          "data": {
            "text/plain": [
              "[6, 6, 6, 6, 6]"
            ]
          },
          "metadata": {},
          "execution_count": 50
        }
      ]
    },
    {
      "cell_type": "code",
      "source": [
        "#Potencias de 2\n",
        "list(map(lambda x,y: x**y,[2,2,2,2,2],[2,3,4,5,6]))"
      ],
      "metadata": {
        "colab": {
          "base_uri": "https://localhost:8080/"
        },
        "id": "_KzD_g8lfl1_",
        "outputId": "01fa8c4f-af32-4ee8-a7d6-6f92aec3024c"
      },
      "execution_count": null,
      "outputs": [
        {
          "output_type": "execute_result",
          "data": {
            "text/plain": [
              "[4, 8, 16, 32, 64]"
            ]
          },
          "metadata": {},
          "execution_count": 48
        }
      ]
    },
    {
      "cell_type": "markdown",
      "metadata": {
        "id": "ZDnMTH-KcklT"
      },
      "source": [
        "**sorted()** takes a list or set and returns a new sorted list"
      ]
    },
    {
      "cell_type": "code",
      "metadata": {
        "colab": {
          "base_uri": "https://localhost:8080/"
        },
        "id": "P0sHUMFWO2PS",
        "outputId": "e1b8d3fe-dddd-4fde-f750-805a517990f4"
      },
      "source": [
        "#Creamos una lista de potencias de 2 en desorden y la ordenamos con sorted()\n",
        "y = list(map(lambda x,y: x**y,[2,2,2,2,2],[6,3,5,4,2]))\n",
        "print(\"Algunas potencias de 2 en desorden:\")\n",
        "print(y)\n",
        "print(\"Algunas potencias de 2 en orden:\")\n",
        "sorted(y)\n"
      ],
      "execution_count": null,
      "outputs": [
        {
          "output_type": "stream",
          "name": "stdout",
          "text": [
            "Algunas potencias de 2 en desorden:\n",
            "[64, 8, 32, 16, 4]\n",
            "Algunas potencias de 2 en orden:\n"
          ]
        },
        {
          "output_type": "execute_result",
          "data": {
            "text/plain": [
              "[4, 8, 16, 32, 64]"
            ]
          },
          "metadata": {},
          "execution_count": 52
        }
      ]
    },
    {
      "cell_type": "markdown",
      "metadata": {
        "id": "-N5_EDOFcnsc"
      },
      "source": [
        "We can add a \"key\" parameter to specify a function to be called on each list element prior to making comparisons. For example:"
      ]
    },
    {
      "cell_type": "code",
      "metadata": {
        "colab": {
          "base_uri": "https://localhost:8080/"
        },
        "id": "0i3peZ0bO2PS",
        "outputId": "abb2ae1e-0b2d-4623-8d4f-c66d62985249"
      },
      "source": [
        "price_list = [('AAPL',144.09),('GOOG',911.71),('MSFT',69),('FB',150),('WMT',75.32)]\n",
        "sorted(price_list, key = lambda x: x[1])"
      ],
      "execution_count": null,
      "outputs": [
        {
          "output_type": "execute_result",
          "data": {
            "text/plain": [
              "[('MSFT', 69), ('WMT', 75.32), ('AAPL', 144.09), ('FB', 150), ('GOOG', 911.71)]"
            ]
          },
          "metadata": {},
          "execution_count": 52
        }
      ]
    },
    {
      "cell_type": "code",
      "source": [
        "precio_Frutas = [(\"Manzana\",2000), (\"Pera\",1800), (\"Fresa\",600) , (\"Mora\",750), (\"Uva\",500)] #Creamos una lista de frutas con un precio\n",
        "y = sorted(precio_Frutas, key = lambda x: x[1])                                              #Creamos una lista donde ordenamos la lista de frutas de menor a mayor precio\n",
        "print(y)                                                                                     #Imprimimos la lista de frutas y su precio ordenada de menor a mayor\n",
        "for x in y:                                                                                  #Imprimimos solo las frutas en orden de menor a mayor precio\n",
        "  print(x[0])"
      ],
      "metadata": {
        "colab": {
          "base_uri": "https://localhost:8080/"
        },
        "id": "GVIKSQErgtvg",
        "outputId": "d5ab747d-3022-4cd9-f251-5cf53ffb7203"
      },
      "execution_count": null,
      "outputs": [
        {
          "output_type": "stream",
          "name": "stdout",
          "text": [
            "[('Uva', 500), ('Fresa', 600), ('Mora', 750), ('Pera', 1800), ('Manzana', 2000)]\n",
            "Uva\n",
            "Fresa\n",
            "Mora\n",
            "Pera\n",
            "Manzana\n"
          ]
        }
      ]
    },
    {
      "cell_type": "markdown",
      "metadata": {
        "id": "yun2zptKcxe_"
      },
      "source": [
        "By default the values are sorted by ascending order. We can change it to descending by adding an optional parameter \"reverse'."
      ]
    },
    {
      "cell_type": "code",
      "source": [
        "precio_Frutas = [(\"Manzana\",2000), (\"Pera\",1800), (\"Fresa\",600) , (\"Mora\",750), (\"Uva\",500)] #Creamos una lista de frutas con un precio\n",
        "sorted(precio_Frutas, key = lambda x: x[1], reverse = True)                                  #Ordenamos la lista de frutas de mayor a menor precio e imprimimos en consola     "
      ],
      "metadata": {
        "colab": {
          "base_uri": "https://localhost:8080/"
        },
        "id": "VMYSET7kiDE3",
        "outputId": "e23ae086-6620-4ba8-cf91-c4b0f5a4e33c"
      },
      "execution_count": null,
      "outputs": [
        {
          "output_type": "execute_result",
          "data": {
            "text/plain": [
              "[('Manzana', 2000),\n",
              " ('Pera', 1800),\n",
              " ('Mora', 750),\n",
              " ('Fresa', 600),\n",
              " ('Uva', 500)]"
            ]
          },
          "metadata": {},
          "execution_count": 58
        }
      ]
    },
    {
      "cell_type": "markdown",
      "metadata": {
        "id": "OA2wYAa0c6Dn"
      },
      "source": [
        "Lists also have a function list.sort(). This function takes the same \"key\" and \"reverse\" arguments as sorted(), but it doesn't return a new list."
      ]
    },
    {
      "cell_type": "code",
      "source": [
        "precio_Frutas = [(\"Manzana\",2000), (\"Pera\",1800), (\"Fresa\",600) , (\"Mora\",750), (\"Uva\",500)] #Creamos una lista de frutas con un precio\n",
        "precio_Frutas.sort(key = lambda x: x[1])                                                     #Ordenamos la lista creada\n",
        "print(precio_Frutas)"
      ],
      "metadata": {
        "colab": {
          "base_uri": "https://localhost:8080/"
        },
        "id": "kE1Z-h8Jibq2",
        "outputId": "3a852664-f2af-4edf-bed4-920050b2ee92"
      },
      "execution_count": null,
      "outputs": [
        {
          "output_type": "stream",
          "name": "stdout",
          "text": [
            "[('Uva', 500), ('Fresa', 600), ('Mora', 750), ('Pera', 1800), ('Manzana', 2000)]\n"
          ]
        }
      ]
    },
    {
      "cell_type": "markdown",
      "metadata": {
        "id": "mxljL1W1c_c5"
      },
      "source": [
        "# Object-Oriented Programming\n",
        "Python is an object-oriented programming language. It's important to understand the concept of \"objects\" because almost every kind of data from QuantConnect API is an object.\n",
        "\n",
        "## Class\n",
        "A class is a type of data, just like a string, float, or list. When we create an object of that data type, we call it an instance of a class.\n",
        "\n",
        "In Python, everything is an object - everything is an instance of some class. The data stored inside an object are called attributes, and the functions which are associated with the object are called methods.\n",
        "\n",
        "For example, as mentioned above, a list is an object of the \"list\" class, and it has a method list.sort().\n",
        "\n",
        "We can create our own objects by defining a class. We would do this when it's helpful to group certain functions together. For example, we define a class named \"Stock\" here:"
      ]
    },
    {
      "cell_type": "code",
      "metadata": {
        "id": "zC4Y4PgDO2PT"
      },
      "source": [
        "class stock:\n",
        "    def __init__(self, ticker, open, close, volume):\n",
        "        self.ticker = ticker\n",
        "        self.open = open\n",
        "        self.close = close\n",
        "        self.volume = volume\n",
        "        self.rate_return = float(close)/open - 1\n",
        " \n",
        "    def update(self, open, close):\n",
        "        self.open = open\n",
        "        self.close = close\n",
        "        self.rate_return = float(self.close)/self.open - 1\n",
        " \n",
        "    def print_return(self):\n",
        "        print(self.rate_return)"
      ],
      "execution_count": 10,
      "outputs": []
    },
    {
      "cell_type": "code",
      "source": [
        "#Una clase carro, donde definimos la marca del carro, el precio, y el color, aparte de calcular el impuesto\n",
        "class carro:\n",
        "  def __init__(self, marca, precio, color):\n",
        "    self.marca = marca\n",
        "    self.precio = precio\n",
        "    self.color = color\n",
        "    self.impuesto = precio*0.25\n",
        "#Creamos un metodo update, en caso de querer actualizar el precio o color de un carro creado\n",
        "  def update(self, precio, color):\n",
        "    self.precio = precio\n",
        "    self.color = color\n",
        "    self.impuesto = float(self.precio)*0.25\n",
        "\n"
      ],
      "metadata": {
        "id": "AQkfGK19Tx1J"
      },
      "execution_count": 52,
      "outputs": []
    },
    {
      "cell_type": "markdown",
      "metadata": {
        "id": "rV06INT5dETi"
      },
      "source": [
        "The \"Stock\" class has attributes \"ticker\", \"open\", \"close\", \"volume\" and \"rate_return\". Inside the class body, the first method is called __init__, which is a special method. When we create a new instance of the class, the __init__ method is immediately executed with all the parameters that we pass to the \"Stock\" object. The purpose of this method is to set up a new \"Stock\" object using data we have provided.\n",
        "\n",
        "Here we create two Stock objects named \"apple\" and \"google\"."
      ]
    },
    {
      "cell_type": "code",
      "metadata": {
        "id": "8tIpNk93O2PU"
      },
      "source": [
        "apple = stock('AAPL', 143.69, 144.09, 20109375)\n",
        "google = stock('GOOG', 898.7, 911.7, 1561616)"
      ],
      "execution_count": 29,
      "outputs": []
    },
    {
      "cell_type": "code",
      "source": [
        "#Creamos dos objetos de la clase carro con sus respectivos atributos\n",
        "car1 = carro(\"audi\", 134000000, \"gris\")\n",
        "car2 = carro(\"bmw\", 144900000, \"negro\")"
      ],
      "metadata": {
        "id": "JPJQh_pZctOC"
      },
      "execution_count": 53,
      "outputs": []
    },
    {
      "cell_type": "markdown",
      "metadata": {
        "id": "VxmELNiHdPKS"
      },
      "source": [
        "Stock objects also have two other methods: update() and print_return(). We can access the attribues of a Stock object and call its methods:"
      ]
    },
    {
      "cell_type": "code",
      "metadata": {
        "colab": {
          "base_uri": "https://localhost:8080/"
        },
        "id": "SsiIkmekO2PU",
        "outputId": "cd3648f1-24ec-4677-d38d-ff683a5dff10"
      },
      "source": [
        "apple.ticker\n",
        "google.print_return()\n",
        "google.update(912.8,913.4)\n",
        "google.print_return()"
      ],
      "execution_count": 18,
      "outputs": [
        {
          "output_type": "stream",
          "name": "stdout",
          "text": [
            "0.014465338822744034\n",
            "0.0006573181419806673\n"
          ]
        }
      ]
    },
    {
      "cell_type": "code",
      "source": [
        "#Verificamos la marca del carro 1   \n",
        "print(car1.marca)\n",
        "#Vemos el impuesto del carro 2\n",
        "print(car2.impuesto)\n",
        "#Actualizamos los datos del carro 2\n",
        "car2.update(150000000, \"rojo\")\n",
        "#Verificamos el nuevo del valor del impuesto\n",
        "print(car2.impuesto)"
      ],
      "metadata": {
        "colab": {
          "base_uri": "https://localhost:8080/"
        },
        "id": "Mnnk_j-mdwoP",
        "outputId": "1b7753ca-ba6d-4100-b774-c6bda9bb41ae"
      },
      "execution_count": 54,
      "outputs": [
        {
          "output_type": "stream",
          "name": "stdout",
          "text": [
            "audi\n",
            "36225000.0\n",
            "37500000.0\n"
          ]
        }
      ]
    },
    {
      "cell_type": "markdown",
      "metadata": {
        "id": "Q8fl7keNdVKF"
      },
      "source": [
        "By calling the update() function, we updated the open and close prices of a stock. Please note that when we use the attributes or call the methods **inside a class**, we need to specify them as self.attribute or self.method(), otherwise Python will deem them as global variables and thus raise an error.\n",
        "\n",
        "We can add an attribute to an object anywhere:"
      ]
    },
    {
      "cell_type": "code",
      "metadata": {
        "colab": {
          "base_uri": "https://localhost:8080/",
          "height": 35
        },
        "id": "rO4OLnqOO2PU",
        "outputId": "43e79852-139b-4384-ea21-49fdab3b9c5f"
      },
      "source": [
        "apple.ceo = 'Tim Cook'\n",
        "apple.ceo"
      ],
      "execution_count": 55,
      "outputs": [
        {
          "output_type": "execute_result",
          "data": {
            "text/plain": [
              "'Tim Cook'"
            ],
            "application/vnd.google.colaboratory.intrinsic+json": {
              "type": "string"
            }
          },
          "metadata": {},
          "execution_count": 55
        }
      ]
    },
    {
      "cell_type": "code",
      "source": [
        "#Se puede modificar valores del carro directamento\n",
        "car1.color = \"azul\"\n",
        "car1.color"
      ],
      "metadata": {
        "colab": {
          "base_uri": "https://localhost:8080/",
          "height": 35
        },
        "id": "Ptex0feLiOG_",
        "outputId": "89edb256-a1f7-4659-cea8-66d2b0f6c8a1"
      },
      "execution_count": 60,
      "outputs": [
        {
          "output_type": "execute_result",
          "data": {
            "text/plain": [
              "'azul'"
            ],
            "application/vnd.google.colaboratory.intrinsic+json": {
              "type": "string"
            }
          },
          "metadata": {},
          "execution_count": 60
        }
      ]
    },
    {
      "cell_type": "markdown",
      "metadata": {
        "id": "WyfnFgVidh4J"
      },
      "source": [
        "We can check what names (i.e. attributes and methods) are defined on an object using the dir() function:"
      ]
    },
    {
      "cell_type": "code",
      "metadata": {
        "colab": {
          "base_uri": "https://localhost:8080/"
        },
        "id": "pPoz0LA8O2PU",
        "outputId": "4dcea2e2-771b-4d71-c743-5cb63c81f277"
      },
      "source": [
        "dir(apple)"
      ],
      "execution_count": null,
      "outputs": [
        {
          "output_type": "execute_result",
          "data": {
            "text/plain": [
              "['__class__',\n",
              " '__delattr__',\n",
              " '__dict__',\n",
              " '__dir__',\n",
              " '__doc__',\n",
              " '__eq__',\n",
              " '__format__',\n",
              " '__ge__',\n",
              " '__getattribute__',\n",
              " '__gt__',\n",
              " '__hash__',\n",
              " '__init__',\n",
              " '__init_subclass__',\n",
              " '__le__',\n",
              " '__lt__',\n",
              " '__module__',\n",
              " '__ne__',\n",
              " '__new__',\n",
              " '__reduce__',\n",
              " '__reduce_ex__',\n",
              " '__repr__',\n",
              " '__setattr__',\n",
              " '__sizeof__',\n",
              " '__str__',\n",
              " '__subclasshook__',\n",
              " '__weakref__',\n",
              " 'ceo',\n",
              " 'close',\n",
              " 'open',\n",
              " 'print_return',\n",
              " 'rate_return',\n",
              " 'ticker',\n",
              " 'update',\n",
              " 'volume']"
            ]
          },
          "metadata": {},
          "execution_count": 59
        }
      ]
    },
    {
      "cell_type": "code",
      "source": [
        "#aplicamos dir a car1\n",
        "dir(car1)"
      ],
      "metadata": {
        "colab": {
          "base_uri": "https://localhost:8080/"
        },
        "id": "pe3sO2IMl7R_",
        "outputId": "35573b08-ecde-4456-d5d2-dbe43bb068fc"
      },
      "execution_count": 61,
      "outputs": [
        {
          "output_type": "execute_result",
          "data": {
            "text/plain": [
              "['__class__',\n",
              " '__delattr__',\n",
              " '__dict__',\n",
              " '__dir__',\n",
              " '__doc__',\n",
              " '__eq__',\n",
              " '__format__',\n",
              " '__ge__',\n",
              " '__getattribute__',\n",
              " '__gt__',\n",
              " '__hash__',\n",
              " '__init__',\n",
              " '__init_subclass__',\n",
              " '__le__',\n",
              " '__lt__',\n",
              " '__module__',\n",
              " '__ne__',\n",
              " '__new__',\n",
              " '__reduce__',\n",
              " '__reduce_ex__',\n",
              " '__repr__',\n",
              " '__setattr__',\n",
              " '__sizeof__',\n",
              " '__str__',\n",
              " '__subclasshook__',\n",
              " '__weakref__',\n",
              " 'color',\n",
              " 'impuesto',\n",
              " 'marca',\n",
              " 'precio',\n",
              " 'update']"
            ]
          },
          "metadata": {},
          "execution_count": 61
        }
      ]
    },
    {
      "cell_type": "markdown",
      "metadata": {
        "id": "Qpemj1UZd2aa"
      },
      "source": [
        "## Inheritance\n",
        "Inheritance is a way of arranging classes in a hierarchy from the most general to the most specific. A \"child\" class is a more specific type of a \"parent\" class because a child class will inherit all the attribues and methods of its parent. For example, we define a class named \"Child\" which inherits \"Stock\":"
      ]
    },
    {
      "cell_type": "code",
      "metadata": {
        "id": "UELXnxomO2PV"
      },
      "source": [
        "class child(stock):\n",
        "    def __init__(self,name):\n",
        "        self.name = name"
      ],
      "execution_count": null,
      "outputs": []
    },
    {
      "cell_type": "code",
      "metadata": {
        "colab": {
          "base_uri": "https://localhost:8080/"
        },
        "id": "ffS2THZyO2PV",
        "outputId": "0b5d99cf-477c-48a1-8f5c-4e523612a028"
      },
      "source": [
        "aa = child('aa')\n",
        "print(aa.name)\n",
        "aa.update(100,102)\n",
        "print(aa.open)\n",
        "print(aa.close)\n",
        "print(aa.print_return())"
      ],
      "execution_count": null,
      "outputs": [
        {
          "output_type": "stream",
          "name": "stdout",
          "text": [
            "aa\n",
            "100\n",
            "102\n",
            "0.020000000000000018\n",
            "None\n"
          ]
        }
      ]
    },
    {
      "cell_type": "code",
      "source": [
        "#Creamos una clase que hereda de carro\n",
        "class carro_h(carro):\n",
        "  def __init__(self, marca):\n",
        "    self.marca = marca\n",
        "\n",
        "#Podemos añadir los atributos propios de la clase padre y usar las funciones de la clase padre\n",
        "car3 = carro_h(\"audi\")\n",
        "print(car3.marca)\n",
        "car3.update(128000000, \"dorado\")\n",
        "print(car3.color)\n",
        "print(car3.impuesto)"
      ],
      "metadata": {
        "colab": {
          "base_uri": "https://localhost:8080/"
        },
        "id": "c9kHbI9DnIHx",
        "outputId": "1acbc3be-f325-45c8-8d6b-30c5a5f3823e"
      },
      "execution_count": 63,
      "outputs": [
        {
          "output_type": "stream",
          "name": "stdout",
          "text": [
            "audi\n",
            "dorado\n",
            "32000000.0\n"
          ]
        }
      ]
    },
    {
      "cell_type": "markdown",
      "metadata": {
        "id": "pdIEjUv2eJqL"
      },
      "source": [
        "As seen above, the new class Child has inherited the methods from Stock.\n",
        "\n",
        "#Summary\n",
        "\n",
        "In this chapter we have introduced functions and classes. When we write a QuantConnect algorithm, we would define our algorithm as a class (QCAlgorithm). This means our algorithm inherited the QC API methods from QCAlgorithm class.\n",
        "\n",
        "In the next chapter, we will introduce NumPy and Pandas, which enable us to conduct scientific calculations in Python."
      ]
    },
    {
      "cell_type": "markdown",
      "metadata": {
        "id": "dQbENH6mexTd"
      },
      "source": [
        "<div align=\"center\">\n",
        "<img style=\"display: block; margin: auto;\" alt=\"photo\" src=\"https://cdn.quantconnect.com/web/i/icon.png\">\n",
        "\n",
        "Quantconnect\n",
        "\n",
        "Introduction to Financial Python\n",
        "</div>\n",
        "\n",
        "# 04 NumPy and Basic Pandas\n",
        "\n",
        "# Introduction\n",
        "\n",
        "Now that we have introduced the fundamentals of Python, it's time to learn about NumPy and Pandas.\n",
        "\n",
        "# NumPy\n",
        "NumPy is the core library for scientific computing in Python. It provides a high-performance multidimensional array object, and tools for working with these arrays. It also has strong integration with Pandas, which is another powerful tool for manipulating financial data.\n",
        "\n",
        "Python packages like NumPy and Pandas contain classes and methods which we can use by importing the package:"
      ]
    },
    {
      "cell_type": "code",
      "metadata": {
        "id": "aIESp-rdO58h"
      },
      "source": [
        "import numpy as np  #importar la libreria numpy"
      ],
      "execution_count": 64,
      "outputs": []
    },
    {
      "cell_type": "markdown",
      "metadata": {
        "id": "GScHHJ5ke7ea"
      },
      "source": [
        "## Basic NumPy Arrays\n",
        "A NumPy array is a grid of values, all of the same type, and is indexed by a tuple of nonnegative integers. Here we make an array by passing a list of Apple stock prices:"
      ]
    },
    {
      "cell_type": "code",
      "metadata": {
        "colab": {
          "base_uri": "https://localhost:8080/"
        },
        "id": "lZI1wkwDO58i",
        "outputId": "7792634b-b0f5-47d4-f998-be207f9fb485"
      },
      "source": [
        "price_list = [143.73, 145.83, 143.68, 144.02, 143.5, 142.62]\n",
        "price_array = np.array(price_list)\n",
        "print(price_array, type(price_array))"
      ],
      "execution_count": null,
      "outputs": [
        {
          "output_type": "stream",
          "name": "stdout",
          "text": [
            "[143.73 145.83 143.68 144.02 143.5  142.62] <class 'numpy.ndarray'>\n"
          ]
        }
      ]
    },
    {
      "cell_type": "code",
      "source": [
        "#Lista de notas de una materia x\n",
        "notas_list = [4.5,3.8,4.2,4.1,2.5,3.6]\n",
        "#Lo convertimos en un array con ayuda de la libreria numpy\n",
        "notas_array = np.array(notas_list)\n",
        "#Imprimimos el array en consola, y verificamos que efectivamente es un array de la libreria numpy\n",
        "print(notas_array, type(notas_array))"
      ],
      "metadata": {
        "colab": {
          "base_uri": "https://localhost:8080/"
        },
        "id": "UYSCHpwSpwgP",
        "outputId": "36fd694d-0479-4662-f128-dbd58a3148df"
      },
      "execution_count": 77,
      "outputs": [
        {
          "output_type": "stream",
          "name": "stdout",
          "text": [
            "[4.5 3.8 4.2 4.1 2.5 3.6] <class 'numpy.ndarray'>\n"
          ]
        }
      ]
    },
    {
      "cell_type": "markdown",
      "metadata": {
        "id": "-5Yj6u9ifB-t"
      },
      "source": [
        "Notice that the type of array is \"ndarray\" which is a multi-dimensional array. If we pass np.array() a list of lists, it will create a 2-dimensional array."
      ]
    },
    {
      "cell_type": "code",
      "metadata": {
        "colab": {
          "base_uri": "https://localhost:8080/"
        },
        "id": "obvIZrK-O58j",
        "outputId": "7bf6293a-350d-4167-a431-2fabb6353a74"
      },
      "source": [
        "Ar = np.array([[1,3],[2,4]])\n",
        "print(Ar, type(Ar))"
      ],
      "execution_count": null,
      "outputs": [
        {
          "output_type": "stream",
          "name": "stdout",
          "text": [
            "[[1 3]\n",
            " [2 4]] <class 'numpy.ndarray'>\n"
          ]
        }
      ]
    },
    {
      "cell_type": "code",
      "source": [
        "#Creamos una lista de listas, por ejemplo una matriz 3x3\n",
        "Mat3 = np.array([[\"a11\", \"b12\", \"c13\"],[\"a21\", \"b22\", \"c23\"], [\"a31\",\"b32\",\"c33\"]])\n",
        "print(Mat3)"
      ],
      "metadata": {
        "colab": {
          "base_uri": "https://localhost:8080/"
        },
        "id": "s_KBZFiTqxu8",
        "outputId": "6289bba0-dce8-4b5f-f5a0-4d2a1e0280ed"
      },
      "execution_count": 70,
      "outputs": [
        {
          "output_type": "stream",
          "name": "stdout",
          "text": [
            "[['a11' 'b12' 'c13']\n",
            " ['a21' 'b22' 'c23']\n",
            " ['a31' 'b32' 'c33']]\n"
          ]
        }
      ]
    },
    {
      "cell_type": "markdown",
      "metadata": {
        "id": "uDdfLD9HfHkl"
      },
      "source": [
        "We get the dimensions of an ndarray using the .shape attribute:"
      ]
    },
    {
      "cell_type": "code",
      "metadata": {
        "colab": {
          "base_uri": "https://localhost:8080/"
        },
        "id": "G2txdn73O58j",
        "outputId": "b6539a1f-7794-47bc-fd6f-744683e69ab7"
      },
      "source": [
        "print(Ar.shape)"
      ],
      "execution_count": null,
      "outputs": [
        {
          "output_type": "stream",
          "name": "stdout",
          "text": [
            "(2, 2)\n"
          ]
        }
      ]
    },
    {
      "cell_type": "code",
      "source": [
        "#Con .shape podemos verificar las dimensiones del array\n",
        "print(Mat3.shape)"
      ],
      "metadata": {
        "colab": {
          "base_uri": "https://localhost:8080/"
        },
        "id": "Pl9XnicxrvQ_",
        "outputId": "f7cb812c-b727-4834-fc86-3c169dddb326"
      },
      "execution_count": 71,
      "outputs": [
        {
          "output_type": "stream",
          "name": "stdout",
          "text": [
            "(3, 3)\n"
          ]
        }
      ]
    },
    {
      "cell_type": "markdown",
      "metadata": {
        "id": "87W5ueORfPEy"
      },
      "source": [
        "If we create an 2-dimensional array (i.e. matrix), each row can be accessed by index:"
      ]
    },
    {
      "cell_type": "code",
      "metadata": {
        "colab": {
          "base_uri": "https://localhost:8080/"
        },
        "id": "x_QV9aPbO58j",
        "outputId": "ceaeabd6-af8c-435b-f376-0f73fa6af72e"
      },
      "source": [
        "print(Ar[0])\n",
        "print(Ar[1])"
      ],
      "execution_count": null,
      "outputs": [
        {
          "output_type": "stream",
          "name": "stdout",
          "text": [
            "[1 3]\n",
            "[2 4]\n"
          ]
        }
      ]
    },
    {
      "cell_type": "code",
      "source": [
        "#Podemos acceder a las filas de un array formado por listas por su indice\n",
        "print(Mat3[0])\n",
        "print(Mat3[1])\n",
        "print(Mat3[2])"
      ],
      "metadata": {
        "colab": {
          "base_uri": "https://localhost:8080/"
        },
        "id": "beRZJbggr-OP",
        "outputId": "7f1ba715-b1dc-4b57-c928-71c4091b895f"
      },
      "execution_count": 72,
      "outputs": [
        {
          "output_type": "stream",
          "name": "stdout",
          "text": [
            "['a11' 'b12' 'c13']\n",
            "['a21' 'b22' 'c23']\n",
            "['a31' 'b32' 'c33']\n"
          ]
        }
      ]
    },
    {
      "cell_type": "markdown",
      "metadata": {
        "id": "5Hke7Vt-fSGB"
      },
      "source": [
        "If we want to access the matrix by column instead:"
      ]
    },
    {
      "cell_type": "code",
      "metadata": {
        "colab": {
          "base_uri": "https://localhost:8080/"
        },
        "id": "gHVwbPfOO58j",
        "outputId": "fbc8f0ca-38bf-4f98-d85f-1e95b30bb6f3"
      },
      "source": [
        "print('the first column: ', Ar[:,0])\n",
        "print('the second column: ', Ar[:,1])"
      ],
      "execution_count": null,
      "outputs": [
        {
          "output_type": "stream",
          "name": "stdout",
          "text": [
            "the first column:  [1 2]\n",
            "the second column:  [3 4]\n"
          ]
        }
      ]
    },
    {
      "cell_type": "code",
      "source": [
        "#Tambien podemos acceder a las columnas de un array\n",
        "print(Mat3[:,0])\n",
        "print(Mat3[:,1])\n",
        "print(Mat3[:,2])"
      ],
      "metadata": {
        "colab": {
          "base_uri": "https://localhost:8080/"
        },
        "id": "CqqyZT0lsa9n",
        "outputId": "797c95e7-df98-403c-cc2c-88fb1123e083"
      },
      "execution_count": 73,
      "outputs": [
        {
          "output_type": "stream",
          "name": "stdout",
          "text": [
            "['a11' 'a21' 'a31']\n",
            "['b12' 'b22' 'b32']\n",
            "['c13' 'c23' 'c33']\n"
          ]
        }
      ]
    },
    {
      "cell_type": "markdown",
      "metadata": {
        "id": "T61cD0HMfStB"
      },
      "source": [
        "## Array Functions\n",
        "Some functions built in NumPy that allow us to perform calculations on arrays. For example, we can apply the natural logarithm to each element of an array:"
      ]
    },
    {
      "cell_type": "code",
      "metadata": {
        "colab": {
          "base_uri": "https://localhost:8080/"
        },
        "id": "PKhwtJ7XO58k",
        "outputId": "5734372b-2ffa-44e4-8146-5906268cd6c8"
      },
      "source": [
        "print(np.log(price_array))"
      ],
      "execution_count": null,
      "outputs": [
        {
          "output_type": "stream",
          "name": "stdout",
          "text": [
            "[4.96793654 4.98244156 4.9675886  4.96995218 4.96633504 4.96018375]\n"
          ]
        }
      ]
    },
    {
      "cell_type": "code",
      "source": [
        "#podemos aplicar lotgaritmo a todos los elementos de un array\n",
        "print(np.log(notas_array))"
      ],
      "metadata": {
        "colab": {
          "base_uri": "https://localhost:8080/"
        },
        "id": "aaiBBnCPsuhv",
        "outputId": "96e06819-cf7f-4635-9a60-e33aa94e35b4"
      },
      "execution_count": 74,
      "outputs": [
        {
          "output_type": "stream",
          "name": "stdout",
          "text": [
            "[1.5040774  1.33500107 1.43508453 1.41098697 0.91629073 1.28093385]\n"
          ]
        }
      ]
    },
    {
      "cell_type": "markdown",
      "metadata": {
        "id": "uzjBRFBLfZ-D"
      },
      "source": [
        "Other functions return a single value:"
      ]
    },
    {
      "cell_type": "code",
      "metadata": {
        "colab": {
          "base_uri": "https://localhost:8080/"
        },
        "id": "nQuABZqUO58k",
        "outputId": "42151fdc-de6a-4a12-aebc-6689f288d9fa"
      },
      "source": [
        "print(np.mean(price_array))\n",
        "print(np.std(price_array))\n",
        "print(np.sum(price_array))\n",
        "print(np.max(price_array))"
      ],
      "execution_count": null,
      "outputs": [
        {
          "output_type": "stream",
          "name": "stdout",
          "text": [
            "143.89666666666668\n",
            "0.9673790478515796\n",
            "863.38\n",
            "145.83\n"
          ]
        }
      ]
    },
    {
      "cell_type": "code",
      "source": [
        "#notas_list = [4.5, 3.8, 4.2, 4.1, 2.5, 3.6]\n",
        "#Otras funciones de numpy que se pueden aplicar a un array\n",
        "print(np.mean(notas_array))  #Media de la lista\n",
        "print(np.std(notas_array))   #Desviacion estandar\n",
        "print(np.sum(notas_array))   #Suma de los datos\n",
        "print(np.max(notas_array))   #El numero mas grande de la lista"
      ],
      "metadata": {
        "colab": {
          "base_uri": "https://localhost:8080/"
        },
        "id": "URRMbxbAs-AO",
        "outputId": "ced544a2-3080-41d3-c9b1-e8cfc81bc2ec"
      },
      "execution_count": 78,
      "outputs": [
        {
          "output_type": "stream",
          "name": "stdout",
          "text": [
            "3.7833333333333337\n",
            "0.6413960468297951\n",
            "22.700000000000003\n",
            "4.5\n"
          ]
        }
      ]
    },
    {
      "cell_type": "markdown",
      "metadata": {
        "id": "IRW95BsifgDB"
      },
      "source": [
        "The functions above return the mean, standard deviation, total and maximum value of an array.\n",
        "\n",
        "# Pandas\n",
        "Pandas is one of the most powerful tools for dealing with financial data. \n",
        "\n",
        "First we need to import Pandas:"
      ]
    },
    {
      "cell_type": "code",
      "metadata": {
        "id": "xIYH4oUfO58k"
      },
      "source": [
        "import pandas as pd       #Importar la libreria de pandas"
      ],
      "execution_count": 79,
      "outputs": []
    },
    {
      "cell_type": "markdown",
      "metadata": {
        "id": "zOig5gORfnJU"
      },
      "source": [
        "## Series\n",
        "Series is a one-dimensional labeled array capable of holding any data type (integers, strings, float, Python object, etc.)\n",
        "\n",
        "We create a Series by calling pd.Series(data), where data can be a dictionary, an array or just a scalar value."
      ]
    },
    {
      "cell_type": "code",
      "source": [
        "#Una lista de notas\n",
        "notas = [4.5, 3.8, 4.2, 4.1, 2.5, 3.6]\n",
        "#Creamos una serie con ayuda de la libreria de panda\n",
        "s_notas = pd.Series(notas)\n",
        "s_notas"
      ],
      "metadata": {
        "colab": {
          "base_uri": "https://localhost:8080/"
        },
        "id": "KI-BGVlqu4QK",
        "outputId": "4953ef92-be38-41a9-c867-c06105f2c30f"
      },
      "execution_count": 146,
      "outputs": [
        {
          "output_type": "execute_result",
          "data": {
            "text/plain": [
              "0    4.5\n",
              "1    3.8\n",
              "2    4.2\n",
              "3    4.1\n",
              "4    2.5\n",
              "5    3.6\n",
              "dtype: float64"
            ]
          },
          "metadata": {},
          "execution_count": 146
        }
      ]
    },
    {
      "cell_type": "markdown",
      "metadata": {
        "id": "tP5iDnunfq46"
      },
      "source": [
        "We can customize the indices of a new Series:"
      ]
    },
    {
      "cell_type": "code",
      "source": [
        "#Podemos asignar un indice a los elementos de la serie mientras la creamos\n",
        "s_notas = pd.Series(notas, index =[\"Quiz\", \"Par1\", \"Par2\", \"Par3\", \"Proy\",\"Extra\"])\n",
        "s_notas"
      ],
      "metadata": {
        "colab": {
          "base_uri": "https://localhost:8080/"
        },
        "id": "26OWtuyPvRw_",
        "outputId": "6f777281-9751-4773-893a-4f6321d5c41c"
      },
      "execution_count": 135,
      "outputs": [
        {
          "output_type": "execute_result",
          "data": {
            "text/plain": [
              "Quiz     4.5\n",
              "Par1     3.8\n",
              "Par2     4.2\n",
              "Par3     4.1\n",
              "Proy     2.5\n",
              "Extra    3.6\n",
              "dtype: float64"
            ]
          },
          "metadata": {},
          "execution_count": 135
        }
      ]
    },
    {
      "cell_type": "markdown",
      "metadata": {
        "id": "wdZrb8pEfuua"
      },
      "source": [
        "Or we can change the indices of an existing Series:"
      ]
    },
    {
      "cell_type": "code",
      "source": [
        "#Modificar los indices de una lista ya creada\n",
        "s_notas.index=[\"Par1\", \"Par2\",\"Par3\", \"Proy\", \"Quices\", \"Extra\"] \n",
        "s_notas"
      ],
      "metadata": {
        "colab": {
          "base_uri": "https://localhost:8080/"
        },
        "id": "PynKbqnGwIsn",
        "outputId": "825a264c-fab5-43e0-b1aa-cb8b66464e87"
      },
      "execution_count": 120,
      "outputs": [
        {
          "output_type": "execute_result",
          "data": {
            "text/plain": [
              "Par1      4.5\n",
              "Par2      3.8\n",
              "Par3      4.2\n",
              "Proy      4.1\n",
              "Quices    2.5\n",
              "Extra     3.6\n",
              "dtype: float64"
            ]
          },
          "metadata": {},
          "execution_count": 120
        }
      ]
    },
    {
      "cell_type": "markdown",
      "metadata": {
        "id": "6cGNQZwLfxIz"
      },
      "source": [
        "Series is like a list since it can be sliced by index:"
      ]
    },
    {
      "cell_type": "code",
      "source": [
        "#Se puede recorrer una serie como si fuera una lista por el indice de posicion\n",
        "print(s_notas[3:])\n",
        "print(s_notas[:-4])"
      ],
      "metadata": {
        "colab": {
          "base_uri": "https://localhost:8080/"
        },
        "id": "ZaUCggE8wkI-",
        "outputId": "cc8c39e6-0c03-4633-d87b-bf45efca2e85"
      },
      "execution_count": 121,
      "outputs": [
        {
          "output_type": "stream",
          "name": "stdout",
          "text": [
            "Proy      4.1\n",
            "Quices    2.5\n",
            "Extra     3.6\n",
            "dtype: float64\n",
            "Par1    4.5\n",
            "Par2    3.8\n",
            "dtype: float64\n"
          ]
        }
      ]
    },
    {
      "cell_type": "markdown",
      "metadata": {
        "id": "5V25nViZfz3Z"
      },
      "source": [
        "Series is also like a dictionary whose values can be set or fetched by index label:"
      ]
    },
    {
      "cell_type": "code",
      "source": [
        "#Como un diccionario podemos modificar valores por el indice de posicion\n",
        "print(s_notas[4])\n",
        "s_notas[4]= 3.2\n",
        "print(s_notas)"
      ],
      "metadata": {
        "colab": {
          "base_uri": "https://localhost:8080/"
        },
        "id": "3RN6gULPxCFv",
        "outputId": "3466353d-3a2d-477a-a57d-17b2124f5c23"
      },
      "execution_count": 122,
      "outputs": [
        {
          "output_type": "stream",
          "name": "stdout",
          "text": [
            "2.5\n",
            "Par1      4.5\n",
            "Par2      3.8\n",
            "Par3      4.2\n",
            "Proy      4.1\n",
            "Quices    3.2\n",
            "Extra     3.6\n",
            "dtype: float64\n"
          ]
        }
      ]
    },
    {
      "cell_type": "markdown",
      "metadata": {
        "id": "RQ1P7Gkyf060"
      },
      "source": [
        "Series can also have a name attribute, which will be used when we make up a Pandas DataFrame using several series."
      ]
    },
    {
      "cell_type": "code",
      "source": [
        "#Podemos asignar un nombre a una serie\n",
        "s_notas = pd.Series(notas, name = \"Notas Calculo\")\n",
        "print(s_notas)\n",
        "print(s_notas.name)"
      ],
      "metadata": {
        "colab": {
          "base_uri": "https://localhost:8080/"
        },
        "id": "ixYGNEAjxlbT",
        "outputId": "d3668a41-d98c-4ee4-9730-7373707d4e22"
      },
      "execution_count": 123,
      "outputs": [
        {
          "output_type": "stream",
          "name": "stdout",
          "text": [
            "0    4.5\n",
            "1    3.8\n",
            "2    4.2\n",
            "3    4.1\n",
            "4    2.5\n",
            "5    3.6\n",
            "Name: Notas Calculo, dtype: float64\n",
            "Notas Calculo\n"
          ]
        }
      ]
    },
    {
      "cell_type": "markdown",
      "metadata": {
        "id": "geJb1pGHf5Et"
      },
      "source": [
        "We can get the statistical summaries of a Series:"
      ]
    },
    {
      "cell_type": "code",
      "source": [
        "#Podemos obtener las estadisticas de una serie(cantidad, media, desviacion, numero menor, quantil 25%, quantil 50%, quantil 75%, numero mayor)\n",
        "print(s_notas.describe())"
      ],
      "metadata": {
        "colab": {
          "base_uri": "https://localhost:8080/"
        },
        "id": "UpgWhgKSyBs3",
        "outputId": "355d44e1-9006-457a-aa6b-2e97942cac9b"
      },
      "execution_count": 124,
      "outputs": [
        {
          "output_type": "stream",
          "name": "stdout",
          "text": [
            "count    6.000000\n",
            "mean     3.783333\n",
            "std      0.702614\n",
            "min      2.500000\n",
            "25%      3.650000\n",
            "50%      3.950000\n",
            "75%      4.175000\n",
            "max      4.500000\n",
            "Name: Notas Calculo, dtype: float64\n"
          ]
        }
      ]
    },
    {
      "cell_type": "markdown",
      "metadata": {
        "id": "LkdZu-CDgvlR"
      },
      "source": [
        "## Time Index\n",
        "Pandas has a built-in function specifically for creating date indices: pd.date_range(). We use it to create a new index for our Series:"
      ]
    },
    {
      "cell_type": "code",
      "source": [
        "#Podemos asignar indices de tiempo a una serie, por ejemplo crear una serie de fechas del largo de s_notas cada fecha con una diferencia de dos semanas\n",
        "fecha = pd.date_range('2018-08-23',periods=len(s_notas), freq = \"2W\")\n",
        "print(fecha)\n",
        "#Asignamos las fechas como indices de las notas\n",
        "s_notas.index = fecha\n",
        "print(s_notas)"
      ],
      "metadata": {
        "colab": {
          "base_uri": "https://localhost:8080/"
        },
        "id": "lr5HZGA5y_n3",
        "outputId": "aa5d635a-c203-443d-87a8-7bada738dbf5"
      },
      "execution_count": 147,
      "outputs": [
        {
          "output_type": "stream",
          "name": "stdout",
          "text": [
            "DatetimeIndex(['2018-08-26', '2018-09-09', '2018-09-23', '2018-10-07',\n",
            "               '2018-10-21', '2018-11-04'],\n",
            "              dtype='datetime64[ns]', freq='2W-SUN')\n",
            "2018-08-26    4.5\n",
            "2018-09-09    3.8\n",
            "2018-09-23    4.2\n",
            "2018-10-07    4.1\n",
            "2018-10-21    2.5\n",
            "2018-11-04    3.6\n",
            "Freq: 2W-SUN, dtype: float64\n"
          ]
        }
      ]
    },
    {
      "cell_type": "markdown",
      "metadata": {
        "id": "7WedejFZg19J"
      },
      "source": [
        "Series are usually accessed using the iloc[] and loc[] methods. iloc[] is used to access elements by integer index, and loc[] is used to access the index of the series.\n",
        "\n",
        "iloc[] is necessary when the index of a series are integers, take our previous defined series as example:"
      ]
    },
    {
      "cell_type": "code",
      "source": [
        "#En este caso accedemos al elemento de la lista con el indice 2\n",
        "s_notas.index = [6,5,4,3,2,1]\n",
        "print(s_notas)\n",
        "print(s_notas[2]) "
      ],
      "metadata": {
        "colab": {
          "base_uri": "https://localhost:8080/"
        },
        "id": "HydV3iGyz_7P",
        "outputId": "046fed24-e11a-4a5a-bbe1-710f612e4cc7"
      },
      "execution_count": 112,
      "outputs": [
        {
          "output_type": "stream",
          "name": "stdout",
          "text": [
            "6    4.5\n",
            "5    3.8\n",
            "4    4.2\n",
            "3    4.1\n",
            "2    2.5\n",
            "1    3.6\n",
            "Name: Notas Calculo, dtype: float64\n",
            "2.5\n"
          ]
        }
      ]
    },
    {
      "cell_type": "markdown",
      "metadata": {
        "id": "r30VKPtpg61p"
      },
      "source": [
        "If we intended to take the second element of the series, we would make a mistake here, because the index are integers. In order to access to the element we want, we use iloc[] here:"
      ]
    },
    {
      "cell_type": "code",
      "source": [
        "#En este caso accedemos al elemento de la serie en la tercera posicion\n",
        "print(s_notas.iloc[2])"
      ],
      "metadata": {
        "colab": {
          "base_uri": "https://localhost:8080/"
        },
        "id": "xdm0LQXi0nNl",
        "outputId": "4a3980ef-26a7-4de3-bdef-fce029e801ec"
      },
      "execution_count": 113,
      "outputs": [
        {
          "output_type": "stream",
          "name": "stdout",
          "text": [
            "4.2\n"
          ]
        }
      ]
    },
    {
      "cell_type": "markdown",
      "metadata": {
        "id": "kHVBRL_Rg84j"
      },
      "source": [
        "While working with time series data, we often use time as the index. Pandas provides us with various methods to access the data by time index"
      ]
    },
    {
      "cell_type": "code",
      "source": [
        "#Cuando trabajamos con indices de tiempo, podemos acceder a un elemento por su fecha\n",
        "s_notas.index = fecha\n",
        "print(s_notas['2018-09-23'])"
      ],
      "metadata": {
        "colab": {
          "base_uri": "https://localhost:8080/"
        },
        "id": "gSvUiSmT1RJv",
        "outputId": "3e7b1be1-e5f8-40fb-dca3-862419ed2e8f"
      },
      "execution_count": 148,
      "outputs": [
        {
          "output_type": "stream",
          "name": "stdout",
          "text": [
            "4.2\n"
          ]
        }
      ]
    },
    {
      "cell_type": "markdown",
      "metadata": {
        "id": "XJXcrSFpg-To"
      },
      "source": [
        "We can even access to a range of dates:"
      ]
    },
    {
      "cell_type": "code",
      "source": [
        "#Podemos acceder a un rango de fechas\n",
        "print(s_notas[\"2018-08-23\" : \"2018-09-23\"])"
      ],
      "metadata": {
        "colab": {
          "base_uri": "https://localhost:8080/"
        },
        "id": "POORzjmz4OLR",
        "outputId": "36fe2c45-420b-4974-f415-2ab984dda19b"
      },
      "execution_count": 149,
      "outputs": [
        {
          "output_type": "stream",
          "name": "stdout",
          "text": [
            "2018-08-26    4.5\n",
            "2018-09-09    3.8\n",
            "2018-09-23    4.2\n",
            "Freq: 2W-SUN, dtype: float64\n"
          ]
        }
      ]
    },
    {
      "cell_type": "markdown",
      "metadata": {
        "id": "cWA3NCXEhCLB"
      },
      "source": [
        "Series[] provides us a very flexible way to index data. We can add any condition in the square brackets:"
      ]
    },
    {
      "cell_type": "code",
      "source": [
        "#Podemos buscar en la lista bajo diferentes condiciones\n",
        "print(s_notas[s_notas > np.mean(s_notas)])\n",
        "print([s_notas < np.mean(s_notas)])"
      ],
      "metadata": {
        "colab": {
          "base_uri": "https://localhost:8080/"
        },
        "id": "vsNdO2sU4e9n",
        "outputId": "f3994f76-b7f9-4e20-fbb3-c2686ecda8be"
      },
      "execution_count": 156,
      "outputs": [
        {
          "output_type": "stream",
          "name": "stdout",
          "text": [
            "2018-08-26    4.5\n",
            "2018-09-09    3.8\n",
            "2018-09-23    4.2\n",
            "2018-10-07    4.1\n",
            "Freq: 2W-SUN, dtype: float64\n",
            "[2018-08-26    False\n",
            "2018-09-09    False\n",
            "2018-09-23    False\n",
            "2018-10-07    False\n",
            "2018-10-21     True\n",
            "2018-11-04     True\n",
            "Freq: 2W-SUN, dtype: bool]\n"
          ]
        }
      ]
    },
    {
      "cell_type": "markdown",
      "metadata": {
        "id": "jAByChIwhEuI"
      },
      "source": [
        "As demonstrated, we can use logical operators like & (and), | (or) and ~ (not) to group multiple conditions.\n",
        "\n",
        "# Summary\n",
        "Here we have introduced NumPy and Pandas for scientific computing in Python. In the next chapter, we will dive into Pandas to learn resampling and manipulating Pandas DataFrame, which are commonly used in financial data analysis."
      ]
    },
    {
      "cell_type": "markdown",
      "metadata": {
        "id": "OtjOpw6oJp6z"
      },
      "source": [
        "<div align=\"center\">\n",
        "<img style=\"display: block; margin: auto;\" alt=\"photo\" src=\"https://cdn.quantconnect.com/web/i/icon.png\"> <img style=\"display: block; margin: auto;\" alt=\"photo\" src=\"https://www.marketing-branding.com/wp-content/uploads/2020/07/google-colaboratory-colab-guia-completa.jpg \" width=\"50\" height=\"50\">\n",
        "<img style=\"display: block; margin: auto;\" alt=\"photo\" src=\"https://upload.wikimedia.org/wikipedia/commons/d/da/Yahoo_Finance_Logo_2019.svg\" width=\"50\" height=\"50\">  \n",
        "\n",
        "Quantconnect -> Google Colab with Yahoo Finance data\n",
        "\n",
        "Introduction to Financial Python\n",
        "</div>\n",
        "\n",
        "# 05 Pandas-Resampling and DataFrame\n",
        "\n",
        "# Introduction\n",
        "In the last chapter we had a glimpse of Pandas. In this chapter we will learn about resampling methods and the DataFrame object, which is a powerful tool for financial data analysis.\n",
        "\n",
        "# Fetching Data\n",
        "Here we use the Yahoo Finance to retrieve data.\n"
      ]
    },
    {
      "cell_type": "code",
      "metadata": {
        "colab": {
          "base_uri": "https://localhost:8080/"
        },
        "id": "luU8mZTsHW9x",
        "outputId": "15cb4115-8f1c-4992-f473-67fc99e8b692"
      },
      "source": [
        "!pip install yfinance   #obtenemos los datos"
      ],
      "execution_count": 1,
      "outputs": [
        {
          "output_type": "stream",
          "name": "stdout",
          "text": [
            "Requirement already satisfied: yfinance in /usr/local/lib/python3.7/dist-packages (0.1.70)\n",
            "Requirement already satisfied: pandas>=0.24.0 in /usr/local/lib/python3.7/dist-packages (from yfinance) (1.3.5)\n",
            "Requirement already satisfied: numpy>=1.15 in /usr/local/lib/python3.7/dist-packages (from yfinance) (1.21.5)\n",
            "Requirement already satisfied: requests>=2.26 in /usr/local/lib/python3.7/dist-packages (from yfinance) (2.27.1)\n",
            "Requirement already satisfied: lxml>=4.5.1 in /usr/local/lib/python3.7/dist-packages (from yfinance) (4.8.0)\n",
            "Requirement already satisfied: multitasking>=0.0.7 in /usr/local/lib/python3.7/dist-packages (from yfinance) (0.0.10)\n",
            "Requirement already satisfied: pytz>=2017.3 in /usr/local/lib/python3.7/dist-packages (from pandas>=0.24.0->yfinance) (2018.9)\n",
            "Requirement already satisfied: python-dateutil>=2.7.3 in /usr/local/lib/python3.7/dist-packages (from pandas>=0.24.0->yfinance) (2.8.2)\n",
            "Requirement already satisfied: six>=1.5 in /usr/local/lib/python3.7/dist-packages (from python-dateutil>=2.7.3->pandas>=0.24.0->yfinance) (1.15.0)\n",
            "Requirement already satisfied: urllib3<1.27,>=1.21.1 in /usr/local/lib/python3.7/dist-packages (from requests>=2.26->yfinance) (1.24.3)\n",
            "Requirement already satisfied: charset-normalizer~=2.0.0 in /usr/local/lib/python3.7/dist-packages (from requests>=2.26->yfinance) (2.0.12)\n",
            "Requirement already satisfied: certifi>=2017.4.17 in /usr/local/lib/python3.7/dist-packages (from requests>=2.26->yfinance) (2021.10.8)\n",
            "Requirement already satisfied: idna<4,>=2.5 in /usr/local/lib/python3.7/dist-packages (from requests>=2.26->yfinance) (2.10)\n"
          ]
        }
      ]
    },
    {
      "cell_type": "code",
      "metadata": {
        "colab": {
          "base_uri": "https://localhost:8080/",
          "height": 492
        },
        "id": "mWZ-nirTZHrE",
        "outputId": "bbcb3d7c-ce13-4f05-d8bc-cff9aad8218a"
      },
      "source": [
        "#Cambiando el ejemplo del tutorial, obtenemos los datos de FB\n",
        "import yfinance as yf\n",
        "\n",
        "fb = yf.Ticker(\"FB\")\n",
        "\n",
        "# get stock info\n",
        "print(fb.info)\n",
        "\n",
        "# get historical market data\n",
        "fb_table = fb.history(start=\"2017-01-01\",  end=\"2018-12-31\")\n",
        "fb_table"
      ],
      "execution_count": 21,
      "outputs": [
        {
          "output_type": "stream",
          "name": "stdout",
          "text": [
            "{'zip': '94025', 'sector': 'Communication Services', 'fullTimeEmployees': 71970, 'longBusinessSummary': \"Meta Platforms, Inc. develops products that enable people to connect and share with friends and family through mobile devices, personal computers, virtual reality headsets, wearables, and in-home devices worldwide. It operates in two segments, Family of Apps and Reality Labs. The Family of Apps segment's products include Facebook, which enables people to share, discover, and connect with interests; Instagram, a community for sharing photos, videos, and private messages, as well as feed, stories, reels, video, live, and shops; Messenger, a messaging application for people to connect with friends, family, groups, and businesses across platforms and devices through chat, audio and video calls, and rooms; and WhatsApp, a messaging application that is used by people and businesses to communicate and transact privately. The Reality Labs segment provides augmented and virtual reality related products comprising virtual reality hardware, software, and content that help people feel connected, anytime, and anywhere. The company was formerly known as Facebook, Inc. and changed its name to Meta Platforms, Inc. in October 2021. Meta Platforms, Inc. was incorporated in 2004 and is headquartered in Menlo Park, California.\", 'city': 'Menlo Park', 'phone': '650 543 4800', 'state': 'CA', 'country': 'United States', 'companyOfficers': [], 'website': 'https://investor.fb.com', 'maxAge': 1, 'address1': '1601 Willow Road', 'industry': 'Internet Content & Information', 'ebitdaMargins': 0.46401, 'profitMargins': 0.33383998, 'grossMargins': 0.80794, 'operatingCashflow': 57683001344, 'revenueGrowth': 0.199, 'operatingMargins': 0.39645, 'ebitda': 54720000000, 'targetLowPrice': 220, 'recommendationKey': 'buy', 'grossProfits': 95280000000, 'freeCashflow': 28807624704, 'targetMedianPrice': 338, 'currentPrice': 192.03, 'earningsGrowth': -0.052, 'currentRatio': 3.154, 'returnOnAssets': 0.17965001, 'numberOfAnalystOpinions': 54, 'targetMeanPrice': 324.22, 'debtToEquity': 11.574, 'returnOnEquity': 0.31102, 'targetHighPrice': 466, 'totalCash': 47998001152, 'totalDebt': 14453999616, 'totalRevenue': 117929000960, 'totalCashPerShare': 17.634, 'financialCurrency': 'USD', 'revenuePerShare': 41.893, 'quickRatio': 2.935, 'recommendationMean': 2.1, 'exchange': 'NMS', 'shortName': 'Meta Platforms, Inc.', 'longName': 'Meta Platforms, Inc.', 'exchangeTimezoneName': 'America/New_York', 'exchangeTimezoneShortName': 'EDT', 'isEsgPopulated': False, 'gmtOffSetMilliseconds': '-14400000', 'quoteType': 'EQUITY', 'symbol': 'FB', 'messageBoardId': 'finmb_20765463', 'market': 'us_market', 'annualHoldingsTurnover': None, 'enterpriseToRevenue': 4.023, 'beta3Year': None, 'enterpriseToEbitda': 8.671, '52WeekChange': -0.33174592, 'morningStarRiskRating': None, 'forwardEps': 14.47, 'revenueQuarterlyGrowth': None, 'sharesOutstanding': 2309080064, 'fundInceptionDate': None, 'annualReportExpenseRatio': None, 'totalAssets': None, 'bookValue': 44.299, 'sharesShort': 31207683, 'sharesPercentSharesOut': 0.0115, 'fundFamily': None, 'lastFiscalYearEnd': 1640908800, 'heldPercentInstitutions': 0.7918, 'netIncomeToCommon': 39369998336, 'trailingEps': 13.77, 'lastDividendValue': None, 'SandP52WeekChange': 0.053094983, 'priceToBook': 4.334861, 'heldPercentInsiders': 0.0053100004, 'nextFiscalYearEnd': 1703980800, 'yield': None, 'mostRecentQuarter': 1640908800, 'shortRatio': 0.56, 'sharesShortPreviousMonthDate': 1643587200, 'floatShares': 2290868012, 'beta': 1.387303, 'enterpriseValue': 474452033536, 'priceHint': 2, 'threeYearAverageReturn': None, 'lastSplitDate': None, 'lastSplitFactor': None, 'legalType': None, 'lastDividendDate': None, 'morningStarOverallRating': None, 'earningsQuarterlyGrowth': -0.083, 'priceToSalesTrailing12Months': 4.455564, 'dateShortInterest': 1646006400, 'pegRatio': 0.82, 'ytdReturn': None, 'forwardPE': 13.270905, 'lastCapGain': None, 'shortPercentOfFloat': 0.0136, 'sharesShortPriorMonth': 24543197, 'impliedSharesOutstanding': 0, 'category': None, 'fiveYearAverageReturn': None, 'previousClose': 186.63, 'regularMarketOpen': 190.8, 'twoHundredDayAverage': 323.586, 'trailingAnnualDividendYield': 0, 'payoutRatio': 0, 'volume24Hr': None, 'regularMarketDayHigh': 192.28, 'navPrice': None, 'averageDailyVolume10Day': 31439540, 'regularMarketPreviousClose': 186.63, 'fiftyDayAverage': 260.5028, 'trailingAnnualDividendRate': 0, 'open': 190.8, 'toCurrency': None, 'averageVolume10days': 31439540, 'expireDate': None, 'algorithm': None, 'dividendRate': None, 'exDividendDate': None, 'circulatingSupply': None, 'startDate': None, 'regularMarketDayLow': 185.911, 'currency': 'USD', 'trailingPE': 13.945533, 'regularMarketVolume': 31721682, 'lastMarket': None, 'maxSupply': None, 'openInterest': None, 'marketCap': 525440188416, 'volumeAllCurrencies': None, 'strikePrice': None, 'averageVolume': 34428903, 'dayLow': 185.911, 'ask': 192.25, 'askSize': 1000, 'volume': 31721682, 'fiftyTwoWeekHigh': 384.33, 'fromCurrency': None, 'fiveYearAvgDividendYield': None, 'fiftyTwoWeekLow': 185.82, 'bid': 192.17, 'tradeable': False, 'dividendYield': None, 'bidSize': 1000, 'dayHigh': 192.28, 'regularMarketPrice': 192.03, 'preMarketPrice': 190.79, 'logo_url': 'https://logo.clearbit.com/investor.fb.com', 'trailingPegRatio': 1.1424}\n"
          ]
        },
        {
          "output_type": "execute_result",
          "data": {
            "text/plain": [
              "                  Open        High         Low       Close    Volume  \\\n",
              "Date                                                                   \n",
              "2017-01-03  116.029999  117.839996  115.510002  116.860001  20663900   \n",
              "2017-01-04  117.550003  119.660004  117.290001  118.690002  19630900   \n",
              "2017-01-05  118.860001  120.949997  118.320000  120.669998  19492200   \n",
              "2017-01-06  120.980003  123.879997  120.029999  123.410004  28545300   \n",
              "2017-01-09  123.550003  125.430000  123.040001  124.900002  22880400   \n",
              "...                ...         ...         ...         ...       ...   \n",
              "2018-12-21  133.389999  134.899994  123.419998  124.949997  56901500   \n",
              "2018-12-24  123.099998  129.740005  123.019997  124.059998  22066000   \n",
              "2018-12-26  126.000000  134.240005  125.889999  134.179993  39723400   \n",
              "2018-12-27  132.440002  134.990005  129.669998  134.520004  31202500   \n",
              "2018-12-28  135.339996  135.919998  132.199997  133.199997  22627600   \n",
              "\n",
              "            Dividends  Stock Splits  \n",
              "Date                                 \n",
              "2017-01-03          0             0  \n",
              "2017-01-04          0             0  \n",
              "2017-01-05          0             0  \n",
              "2017-01-06          0             0  \n",
              "2017-01-09          0             0  \n",
              "...               ...           ...  \n",
              "2018-12-21          0             0  \n",
              "2018-12-24          0             0  \n",
              "2018-12-26          0             0  \n",
              "2018-12-27          0             0  \n",
              "2018-12-28          0             0  \n",
              "\n",
              "[501 rows x 7 columns]"
            ],
            "text/html": [
              "\n",
              "  <div id=\"df-0b0c90f3-dc60-4b23-90e4-700ca4c1250f\">\n",
              "    <div class=\"colab-df-container\">\n",
              "      <div>\n",
              "<style scoped>\n",
              "    .dataframe tbody tr th:only-of-type {\n",
              "        vertical-align: middle;\n",
              "    }\n",
              "\n",
              "    .dataframe tbody tr th {\n",
              "        vertical-align: top;\n",
              "    }\n",
              "\n",
              "    .dataframe thead th {\n",
              "        text-align: right;\n",
              "    }\n",
              "</style>\n",
              "<table border=\"1\" class=\"dataframe\">\n",
              "  <thead>\n",
              "    <tr style=\"text-align: right;\">\n",
              "      <th></th>\n",
              "      <th>Open</th>\n",
              "      <th>High</th>\n",
              "      <th>Low</th>\n",
              "      <th>Close</th>\n",
              "      <th>Volume</th>\n",
              "      <th>Dividends</th>\n",
              "      <th>Stock Splits</th>\n",
              "    </tr>\n",
              "    <tr>\n",
              "      <th>Date</th>\n",
              "      <th></th>\n",
              "      <th></th>\n",
              "      <th></th>\n",
              "      <th></th>\n",
              "      <th></th>\n",
              "      <th></th>\n",
              "      <th></th>\n",
              "    </tr>\n",
              "  </thead>\n",
              "  <tbody>\n",
              "    <tr>\n",
              "      <th>2017-01-03</th>\n",
              "      <td>116.029999</td>\n",
              "      <td>117.839996</td>\n",
              "      <td>115.510002</td>\n",
              "      <td>116.860001</td>\n",
              "      <td>20663900</td>\n",
              "      <td>0</td>\n",
              "      <td>0</td>\n",
              "    </tr>\n",
              "    <tr>\n",
              "      <th>2017-01-04</th>\n",
              "      <td>117.550003</td>\n",
              "      <td>119.660004</td>\n",
              "      <td>117.290001</td>\n",
              "      <td>118.690002</td>\n",
              "      <td>19630900</td>\n",
              "      <td>0</td>\n",
              "      <td>0</td>\n",
              "    </tr>\n",
              "    <tr>\n",
              "      <th>2017-01-05</th>\n",
              "      <td>118.860001</td>\n",
              "      <td>120.949997</td>\n",
              "      <td>118.320000</td>\n",
              "      <td>120.669998</td>\n",
              "      <td>19492200</td>\n",
              "      <td>0</td>\n",
              "      <td>0</td>\n",
              "    </tr>\n",
              "    <tr>\n",
              "      <th>2017-01-06</th>\n",
              "      <td>120.980003</td>\n",
              "      <td>123.879997</td>\n",
              "      <td>120.029999</td>\n",
              "      <td>123.410004</td>\n",
              "      <td>28545300</td>\n",
              "      <td>0</td>\n",
              "      <td>0</td>\n",
              "    </tr>\n",
              "    <tr>\n",
              "      <th>2017-01-09</th>\n",
              "      <td>123.550003</td>\n",
              "      <td>125.430000</td>\n",
              "      <td>123.040001</td>\n",
              "      <td>124.900002</td>\n",
              "      <td>22880400</td>\n",
              "      <td>0</td>\n",
              "      <td>0</td>\n",
              "    </tr>\n",
              "    <tr>\n",
              "      <th>...</th>\n",
              "      <td>...</td>\n",
              "      <td>...</td>\n",
              "      <td>...</td>\n",
              "      <td>...</td>\n",
              "      <td>...</td>\n",
              "      <td>...</td>\n",
              "      <td>...</td>\n",
              "    </tr>\n",
              "    <tr>\n",
              "      <th>2018-12-21</th>\n",
              "      <td>133.389999</td>\n",
              "      <td>134.899994</td>\n",
              "      <td>123.419998</td>\n",
              "      <td>124.949997</td>\n",
              "      <td>56901500</td>\n",
              "      <td>0</td>\n",
              "      <td>0</td>\n",
              "    </tr>\n",
              "    <tr>\n",
              "      <th>2018-12-24</th>\n",
              "      <td>123.099998</td>\n",
              "      <td>129.740005</td>\n",
              "      <td>123.019997</td>\n",
              "      <td>124.059998</td>\n",
              "      <td>22066000</td>\n",
              "      <td>0</td>\n",
              "      <td>0</td>\n",
              "    </tr>\n",
              "    <tr>\n",
              "      <th>2018-12-26</th>\n",
              "      <td>126.000000</td>\n",
              "      <td>134.240005</td>\n",
              "      <td>125.889999</td>\n",
              "      <td>134.179993</td>\n",
              "      <td>39723400</td>\n",
              "      <td>0</td>\n",
              "      <td>0</td>\n",
              "    </tr>\n",
              "    <tr>\n",
              "      <th>2018-12-27</th>\n",
              "      <td>132.440002</td>\n",
              "      <td>134.990005</td>\n",
              "      <td>129.669998</td>\n",
              "      <td>134.520004</td>\n",
              "      <td>31202500</td>\n",
              "      <td>0</td>\n",
              "      <td>0</td>\n",
              "    </tr>\n",
              "    <tr>\n",
              "      <th>2018-12-28</th>\n",
              "      <td>135.339996</td>\n",
              "      <td>135.919998</td>\n",
              "      <td>132.199997</td>\n",
              "      <td>133.199997</td>\n",
              "      <td>22627600</td>\n",
              "      <td>0</td>\n",
              "      <td>0</td>\n",
              "    </tr>\n",
              "  </tbody>\n",
              "</table>\n",
              "<p>501 rows × 7 columns</p>\n",
              "</div>\n",
              "      <button class=\"colab-df-convert\" onclick=\"convertToInteractive('df-0b0c90f3-dc60-4b23-90e4-700ca4c1250f')\"\n",
              "              title=\"Convert this dataframe to an interactive table.\"\n",
              "              style=\"display:none;\">\n",
              "        \n",
              "  <svg xmlns=\"http://www.w3.org/2000/svg\" height=\"24px\"viewBox=\"0 0 24 24\"\n",
              "       width=\"24px\">\n",
              "    <path d=\"M0 0h24v24H0V0z\" fill=\"none\"/>\n",
              "    <path d=\"M18.56 5.44l.94 2.06.94-2.06 2.06-.94-2.06-.94-.94-2.06-.94 2.06-2.06.94zm-11 1L8.5 8.5l.94-2.06 2.06-.94-2.06-.94L8.5 2.5l-.94 2.06-2.06.94zm10 10l.94 2.06.94-2.06 2.06-.94-2.06-.94-.94-2.06-.94 2.06-2.06.94z\"/><path d=\"M17.41 7.96l-1.37-1.37c-.4-.4-.92-.59-1.43-.59-.52 0-1.04.2-1.43.59L10.3 9.45l-7.72 7.72c-.78.78-.78 2.05 0 2.83L4 21.41c.39.39.9.59 1.41.59.51 0 1.02-.2 1.41-.59l7.78-7.78 2.81-2.81c.8-.78.8-2.07 0-2.86zM5.41 20L4 18.59l7.72-7.72 1.47 1.35L5.41 20z\"/>\n",
              "  </svg>\n",
              "      </button>\n",
              "      \n",
              "  <style>\n",
              "    .colab-df-container {\n",
              "      display:flex;\n",
              "      flex-wrap:wrap;\n",
              "      gap: 12px;\n",
              "    }\n",
              "\n",
              "    .colab-df-convert {\n",
              "      background-color: #E8F0FE;\n",
              "      border: none;\n",
              "      border-radius: 50%;\n",
              "      cursor: pointer;\n",
              "      display: none;\n",
              "      fill: #1967D2;\n",
              "      height: 32px;\n",
              "      padding: 0 0 0 0;\n",
              "      width: 32px;\n",
              "    }\n",
              "\n",
              "    .colab-df-convert:hover {\n",
              "      background-color: #E2EBFA;\n",
              "      box-shadow: 0px 1px 2px rgba(60, 64, 67, 0.3), 0px 1px 3px 1px rgba(60, 64, 67, 0.15);\n",
              "      fill: #174EA6;\n",
              "    }\n",
              "\n",
              "    [theme=dark] .colab-df-convert {\n",
              "      background-color: #3B4455;\n",
              "      fill: #D2E3FC;\n",
              "    }\n",
              "\n",
              "    [theme=dark] .colab-df-convert:hover {\n",
              "      background-color: #434B5C;\n",
              "      box-shadow: 0px 1px 3px 1px rgba(0, 0, 0, 0.15);\n",
              "      filter: drop-shadow(0px 1px 2px rgba(0, 0, 0, 0.3));\n",
              "      fill: #FFFFFF;\n",
              "    }\n",
              "  </style>\n",
              "\n",
              "      <script>\n",
              "        const buttonEl =\n",
              "          document.querySelector('#df-0b0c90f3-dc60-4b23-90e4-700ca4c1250f button.colab-df-convert');\n",
              "        buttonEl.style.display =\n",
              "          google.colab.kernel.accessAllowed ? 'block' : 'none';\n",
              "\n",
              "        async function convertToInteractive(key) {\n",
              "          const element = document.querySelector('#df-0b0c90f3-dc60-4b23-90e4-700ca4c1250f');\n",
              "          const dataTable =\n",
              "            await google.colab.kernel.invokeFunction('convertToInteractive',\n",
              "                                                     [key], {});\n",
              "          if (!dataTable) return;\n",
              "\n",
              "          const docLinkHtml = 'Like what you see? Visit the ' +\n",
              "            '<a target=\"_blank\" href=https://colab.research.google.com/notebooks/data_table.ipynb>data table notebook</a>'\n",
              "            + ' to learn more about interactive tables.';\n",
              "          element.innerHTML = '';\n",
              "          dataTable['output_type'] = 'display_data';\n",
              "          await google.colab.output.renderOutput(dataTable, element);\n",
              "          const docLink = document.createElement('div');\n",
              "          docLink.innerHTML = docLinkHtml;\n",
              "          element.appendChild(docLink);\n",
              "        }\n",
              "      </script>\n",
              "    </div>\n",
              "  </div>\n",
              "  "
            ]
          },
          "metadata": {},
          "execution_count": 21
        }
      ]
    },
    {
      "cell_type": "markdown",
      "metadata": {
        "id": "NkFztSYhJyVA"
      },
      "source": [
        "We will create a Series named \"fb\" whose values are FB's daily closing prices, which are of course indexed by dates:\n",
        "\n",
        "> Bloc con sangría\n",
        "\n"
      ]
    },
    {
      "cell_type": "code",
      "metadata": {
        "id": "QDJbOpCeHW91"
      },
      "source": [
        "fb = fb_table['Close']['2018'] #Creamos una serie de los precios de cierre de 2018"
      ],
      "execution_count": 25,
      "outputs": []
    },
    {
      "cell_type": "code",
      "metadata": {
        "colab": {
          "base_uri": "https://localhost:8080/"
        },
        "id": "SXfgCQJOHW91",
        "outputId": "f61acb19-240b-4f0d-a41e-147815a80428"
      },
      "source": [
        "print(fb)"
      ],
      "execution_count": 9,
      "outputs": [
        {
          "output_type": "stream",
          "name": "stdout",
          "text": [
            "Date\n",
            "2018-01-02    181.419998\n",
            "2018-01-03    184.669998\n",
            "2018-01-04    184.330002\n",
            "2018-01-05    186.850006\n",
            "2018-01-08    188.279999\n",
            "                 ...    \n",
            "2018-12-21    124.949997\n",
            "2018-12-24    124.059998\n",
            "2018-12-26    134.179993\n",
            "2018-12-27    134.520004\n",
            "2018-12-28    133.199997\n",
            "Name: Close, Length: 250, dtype: float64\n"
          ]
        }
      ]
    },
    {
      "cell_type": "markdown",
      "metadata": {
        "id": "waUEgBhzKEcA"
      },
      "source": [
        "Recall that we can fetch a specific data point using series['yyyy-mm-dd']. We can also fetch the data in a specific month using series['yyyy-mm']."
      ]
    },
    {
      "cell_type": "code",
      "metadata": {
        "colab": {
          "base_uri": "https://localhost:8080/"
        },
        "id": "2gS50G0zHW92",
        "outputId": "cd7c2c49-d034-46cc-aecb-1b42505f0cd1"
      },
      "source": [
        "print(fb['2018-8']) #Obtenemos los datos para un mes especifico, en este caso agosto"
      ],
      "execution_count": 26,
      "outputs": [
        {
          "output_type": "stream",
          "name": "stdout",
          "text": [
            "Date\n",
            "2018-08-01    171.649994\n",
            "2018-08-02    176.369995\n",
            "2018-08-03    177.779999\n",
            "2018-08-06    185.690002\n",
            "2018-08-07    183.809998\n",
            "2018-08-08    185.179993\n",
            "2018-08-09    183.089996\n",
            "2018-08-10    180.259995\n",
            "2018-08-13    180.050003\n",
            "2018-08-14    181.110001\n",
            "2018-08-15    179.529999\n",
            "2018-08-16    174.699997\n",
            "2018-08-17    173.800003\n",
            "2018-08-20    172.500000\n",
            "2018-08-21    172.619995\n",
            "2018-08-22    173.639999\n",
            "2018-08-23    172.899994\n",
            "2018-08-24    174.649994\n",
            "2018-08-27    177.460007\n",
            "2018-08-28    176.259995\n",
            "2018-08-29    175.899994\n",
            "2018-08-30    177.639999\n",
            "2018-08-31    175.729996\n",
            "Name: Close, dtype: float64\n"
          ]
        }
      ]
    },
    {
      "cell_type": "code",
      "metadata": {
        "colab": {
          "base_uri": "https://localhost:8080/"
        },
        "id": "vpvxGwXtHW92",
        "outputId": "74fa102b-de6a-431a-cd7f-155f9e531641"
      },
      "source": [
        "fb['2018-1':'2018-3']  #Tambien podemos obtener los datos para un rango entre dos fechas"
      ],
      "execution_count": 27,
      "outputs": [
        {
          "output_type": "execute_result",
          "data": {
            "text/plain": [
              "Date\n",
              "2018-01-02    181.419998\n",
              "2018-01-03    184.669998\n",
              "2018-01-04    184.330002\n",
              "2018-01-05    186.850006\n",
              "2018-01-08    188.279999\n",
              "                 ...    \n",
              "2018-03-23    159.389999\n",
              "2018-03-26    160.059998\n",
              "2018-03-27    152.220001\n",
              "2018-03-28    153.029999\n",
              "2018-03-29    159.789993\n",
              "Name: Close, Length: 61, dtype: float64"
            ]
          },
          "metadata": {},
          "execution_count": 27
        }
      ]
    },
    {
      "cell_type": "markdown",
      "metadata": {
        "id": "lWwoD39pKNKb"
      },
      "source": [
        ".head(N) and .tail(N) are methods for quickly accessing the first or last N elements."
      ]
    },
    {
      "cell_type": "code",
      "metadata": {
        "colab": {
          "base_uri": "https://localhost:8080/"
        },
        "id": "1eU218ALHW93",
        "outputId": "14e378f9-59e2-4fbd-9c3e-d38f00bd4b58"
      },
      "source": [
        "print(fb.head(8)) #Con head obtenemos los primeros elementos de la lista, en este caso 8 elementos, siendo los precios mas altos de toda la lista\n",
        "print(fb.tail(8)) #Con tail obtenemos los ultimos elementos de la lista, en este caso 8 elementos, siendo los precios mas bajos de toda la lista"
      ],
      "execution_count": 28,
      "outputs": [
        {
          "output_type": "stream",
          "name": "stdout",
          "text": [
            "Date\n",
            "2018-01-02    181.419998\n",
            "2018-01-03    184.669998\n",
            "2018-01-04    184.330002\n",
            "2018-01-05    186.850006\n",
            "2018-01-08    188.279999\n",
            "2018-01-09    187.869995\n",
            "2018-01-10    187.839996\n",
            "2018-01-11    187.770004\n",
            "Name: Close, dtype: float64\n",
            "Date\n",
            "2018-12-18    143.660004\n",
            "2018-12-19    133.240005\n",
            "2018-12-20    133.399994\n",
            "2018-12-21    124.949997\n",
            "2018-12-24    124.059998\n",
            "2018-12-26    134.179993\n",
            "2018-12-27    134.520004\n",
            "2018-12-28    133.199997\n",
            "Name: Close, dtype: float64\n"
          ]
        }
      ]
    },
    {
      "cell_type": "markdown",
      "metadata": {
        "id": "IxhKxtj-KQ66"
      },
      "source": [
        "# Resampling\n",
        "**_series.resample(freq)_** is a class called \"DatetimeIndexResampler\" which groups data in a Series object into regular time intervals. The argument \"freq\" determines the length of each interval.\n",
        "\n",
        "**_series.resample.mean()_** is a complete statement that groups data into intervals, and then compute the mean of each interval. For example, if we want to aggregate the daily data into monthly data by mean:"
      ]
    },
    {
      "cell_type": "code",
      "metadata": {
        "colab": {
          "base_uri": "https://localhost:8080/"
        },
        "id": "rAV8NkHkHW93",
        "outputId": "2d228b0c-c6b3-4025-b0d2-e19f38e940aa"
      },
      "source": [
        "by_month = fb.resample('2M').mean() #Agrupamos los datos de 2018 en intervalos de 2 meses, y a cada intervalo se obtiene la media del precio.\n",
        "print(by_month)"
      ],
      "execution_count": 35,
      "outputs": [
        {
          "output_type": "stream",
          "name": "stdout",
          "text": [
            "Date\n",
            "2018-01-31    184.962856\n",
            "2018-03-31    176.709999\n",
            "2018-05-31    173.592558\n",
            "2018-07-31    197.617381\n",
            "2018-09-30    171.559284\n",
            "2018-11-30    148.197045\n",
            "2019-01-31    137.498333\n",
            "Freq: 2M, Name: Close, dtype: float64\n"
          ]
        }
      ]
    },
    {
      "cell_type": "markdown",
      "metadata": {
        "id": "QDPfVzBEKV6Q"
      },
      "source": [
        "We can also aggregate the data by week:"
      ]
    },
    {
      "cell_type": "code",
      "metadata": {
        "colab": {
          "base_uri": "https://localhost:8080/"
        },
        "id": "aAP3tKkBHW94",
        "outputId": "195d5ba3-0039-4b3f-9bbf-7f755c3f3d14"
      },
      "source": [
        "by_week = fb.resample('3W').mean() #Tambien podemos agrupar los datos por semanas, en este caso datos de cada 3 semanas\n",
        "print(by_week.head())              #Con head obtenemos las 5 medias mas grandes de ese grupo de datos en periodos de 3 semanas\n",
        "print(by_week.tail())              #Con tail obtenemos las 5 medias mas pequeñas de ese grupo de datos en periodos de 3 semanas"
      ],
      "execution_count": 40,
      "outputs": [
        {
          "output_type": "stream",
          "name": "stdout",
          "text": [
            "Date\n",
            "2018-01-07    184.317501\n",
            "2018-01-28    184.782857\n",
            "2018-02-18    181.613332\n",
            "2018-03-11    180.352142\n",
            "2018-04-01    169.947141\n",
            "Freq: 3W-SUN, Name: Close, dtype: float64\n",
            "Date\n",
            "2018-10-07    162.922667\n",
            "2018-10-28    153.722666\n",
            "2018-11-18    146.432667\n",
            "2018-12-09    136.463845\n",
            "2018-12-30    137.064285\n",
            "Freq: 3W-SUN, Name: Close, dtype: float64\n"
          ]
        }
      ]
    },
    {
      "cell_type": "markdown",
      "metadata": {
        "id": "o_MXSVsILoBS"
      },
      "source": [
        "We can also aggregate the data by month with max:"
      ]
    },
    {
      "cell_type": "code",
      "metadata": {
        "colab": {
          "base_uri": "https://localhost:8080/"
        },
        "id": "gn0wqXBTHW95",
        "outputId": "0ee4d28e-392b-462b-e1db-3b76c40aa748"
      },
      "source": [
        "fb.resample('M').min() #Con min obtenemos el dato mas pequeño de cada mes(puede ser semanas,3 meses, etc)"
      ],
      "execution_count": 45,
      "outputs": [
        {
          "output_type": "execute_result",
          "data": {
            "text/plain": [
              "Date\n",
              "2018-01-31    177.600006\n",
              "2018-02-28    171.580002\n",
              "2018-03-31    152.220001\n",
              "2018-04-30    155.100006\n",
              "2018-05-31    173.860001\n",
              "2018-06-30    188.179993\n",
              "2018-07-31    171.059998\n",
              "2018-08-31    171.649994\n",
              "2018-09-30    160.300003\n",
              "2018-10-31    142.089996\n",
              "2018-11-30    131.550003\n",
              "2018-12-31    124.059998\n",
              "Freq: M, Name: Close, dtype: float64"
            ]
          },
          "metadata": {},
          "execution_count": 45
        }
      ]
    },
    {
      "cell_type": "code",
      "source": [
        "fb.resample('M').max() #Con max obtenemos el dato mas grande de cada mes"
      ],
      "metadata": {
        "colab": {
          "base_uri": "https://localhost:8080/"
        },
        "id": "X8S04GhYOsvo",
        "outputId": "2aba6ff3-1e88-4be3-a1cc-7032886e29ae"
      },
      "execution_count": 44,
      "outputs": [
        {
          "output_type": "execute_result",
          "data": {
            "text/plain": [
              "Date\n",
              "2018-01-31    190.000000\n",
              "2018-02-28    193.089996\n",
              "2018-03-31    185.229996\n",
              "2018-04-30    174.160004\n",
              "2018-05-31    191.779999\n",
              "2018-06-30    202.000000\n",
              "2018-07-31    217.500000\n",
              "2018-08-31    185.690002\n",
              "2018-09-30    171.160004\n",
              "2018-10-31    162.440002\n",
              "2018-11-30    151.750000\n",
              "2018-12-31    145.009995\n",
              "Freq: M, Name: Close, dtype: float64"
            ]
          },
          "metadata": {},
          "execution_count": 44
        }
      ]
    },
    {
      "cell_type": "markdown",
      "metadata": {
        "id": "Z8r46UFlLdAh"
      },
      "source": [
        "We can choose almost any frequency by using the format 'nf', where 'n' is an integer and 'f' is M for month, W for week and D for day."
      ]
    },
    {
      "cell_type": "code",
      "metadata": {
        "colab": {
          "base_uri": "https://localhost:8080/"
        },
        "id": "kdVB_-JFHW96",
        "outputId": "8577a5de-9e1f-477c-857a-46a5f36489d3"
      },
      "source": [
        "#Como se ha venido haciendo en los ejemplos se puede añadir un numero a la frecuencia para agrupar datos en formas mas variadas de tiempos, por ejemplo:\n",
        "five_day = fb.resample('5D').mean()     \n",
        "three_week = fb.resample('3W').mean()\n",
        "four_month = fb.resample('4M').mean()\n",
        "\n",
        "\n",
        "print(five_day)\n",
        "print(three_week)\n",
        "print(four_month )"
      ],
      "execution_count": 46,
      "outputs": [
        {
          "output_type": "stream",
          "name": "stdout",
          "text": [
            "Date\n",
            "2018-01-02    184.317501\n",
            "2018-01-07    187.939999\n",
            "2018-01-12    178.879997\n",
            "2018-01-17    179.563334\n",
            "2018-01-22    187.750000\n",
            "                 ...    \n",
            "2018-12-08    142.810003\n",
            "2018-12-13    143.086665\n",
            "2018-12-18    133.812500\n",
            "2018-12-23    130.919998\n",
            "2018-12-28    133.199997\n",
            "Freq: 5D, Name: Close, Length: 73, dtype: float64\n",
            "Date\n",
            "2018-01-07    184.317501\n",
            "2018-01-28    184.782857\n",
            "2018-02-18    181.613332\n",
            "2018-03-11    180.352142\n",
            "2018-04-01    169.947141\n",
            "2018-04-22    162.336667\n",
            "2018-05-13    174.506668\n",
            "2018-06-03    186.129999\n",
            "2018-06-24    194.992667\n",
            "2018-07-15    199.897857\n",
            "2018-08-05    193.885332\n",
            "2018-08-26    178.235331\n",
            "2018-09-16    168.764284\n",
            "2018-10-07    162.922667\n",
            "2018-10-28    153.722666\n",
            "2018-11-18    146.432667\n",
            "2018-12-09    136.463845\n",
            "2018-12-30    137.064285\n",
            "Freq: 3W-SUN, Name: Close, dtype: float64\n",
            "Date\n",
            "2018-01-31    184.962856\n",
            "2018-05-31    175.094939\n",
            "2018-09-30    184.588333\n",
            "2019-01-31    145.090967\n",
            "Freq: 4M, Name: Close, dtype: float64\n"
          ]
        }
      ]
    },
    {
      "cell_type": "markdown",
      "metadata": {
        "id": "iy4RqsnwL-Bw"
      },
      "source": [
        "Besides the mean() method, other methods can also be used with the resampler:\n",
        "\n"
      ]
    },
    {
      "cell_type": "code",
      "metadata": {
        "colab": {
          "base_uri": "https://localhost:8080/"
        },
        "id": "DNT8Fx9dHW96",
        "outputId": "9e952a39-3c48-413b-f920-ddf2b5ebba1c"
      },
      "source": [
        "std = fb.resample('3W').std()  #Desviacion estandar de cada 3 semanas\n",
        "max = fb.resample('3W').max()  #Mayor de cada 3 semanas\n",
        "min = fb.resample('3W').min()  #Menor de cada 3 semanas\n",
        "\n",
        "\n",
        "print(std)\n",
        "print(max)\n",
        "print(min)"
      ],
      "execution_count": 48,
      "outputs": [
        {
          "output_type": "stream",
          "name": "stdout",
          "text": [
            "Date\n",
            "2018-01-07     2.231107\n",
            "2018-01-28     4.451785\n",
            "2018-02-18     6.294937\n",
            "2018-03-11     3.214919\n",
            "2018-04-01    12.204369\n",
            "2018-04-22     4.896271\n",
            "2018-05-13     8.036710\n",
            "2018-06-03     3.235404\n",
            "2018-06-24     4.513405\n",
            "2018-07-15     4.751800\n",
            "2018-08-05    19.129059\n",
            "2018-08-26     4.890308\n",
            "2018-09-16     6.569172\n",
            "2018-10-07     3.239932\n",
            "2018-10-28     4.081132\n",
            "2018-11-18     4.141280\n",
            "2018-12-09     3.219194\n",
            "2018-12-30     7.029297\n",
            "Freq: 3W-SUN, Name: Close, dtype: float64\n",
            "Date\n",
            "2018-01-07    186.850006\n",
            "2018-01-28    190.000000\n",
            "2018-02-18    193.089996\n",
            "2018-03-11    185.229996\n",
            "2018-04-01    185.089996\n",
            "2018-04-22    168.660004\n",
            "2018-05-13    186.990005\n",
            "2018-06-03    193.990005\n",
            "2018-06-24    202.000000\n",
            "2018-07-15    207.320007\n",
            "2018-08-05    217.500000\n",
            "2018-08-26    185.690002\n",
            "2018-09-16    177.639999\n",
            "2018-10-07    168.839996\n",
            "2018-10-28    159.419998\n",
            "2018-11-18    151.789993\n",
            "2018-12-09    141.089996\n",
            "2018-12-30    145.009995\n",
            "Freq: 3W-SUN, Name: Close, dtype: float64\n",
            "Date\n",
            "2018-01-07    181.419998\n",
            "2018-01-28    177.600006\n",
            "2018-02-18    171.580002\n",
            "2018-03-11    175.940002\n",
            "2018-04-01    152.220001\n",
            "2018-04-22    155.100006\n",
            "2018-05-13    159.690002\n",
            "2018-06-03    182.679993\n",
            "2018-06-24    188.179993\n",
            "2018-07-15    192.729996\n",
            "2018-08-05    171.059998\n",
            "2018-08-26    172.500000\n",
            "2018-09-16    161.360001\n",
            "2018-10-07    157.330002\n",
            "2018-10-28    145.369995\n",
            "2018-11-18    139.529999\n",
            "2018-12-09    131.550003\n",
            "2018-12-30    124.059998\n",
            "Freq: 3W-SUN, Name: Close, dtype: float64\n"
          ]
        }
      ]
    },
    {
      "cell_type": "markdown",
      "metadata": {
        "id": "uqln0s5DMI3I"
      },
      "source": [
        "Often we want to calculate monthly returns of a stock, based on prices on the last day of each month. To fetch those prices, we use the series.resample.agg() method:"
      ]
    },
    {
      "cell_type": "code",
      "metadata": {
        "colab": {
          "base_uri": "https://localhost:8080/"
        },
        "id": "A6FSYvqbHW97",
        "outputId": "284385ad-6a53-433e-dcbb-59c28b8ca5fd"
      },
      "source": [
        "last_day = fb.resample('M').agg(lambda x: x[-1]) #Para obtener el precio del ultimo dia de cada mes\n",
        "print(last_day)"
      ],
      "execution_count": 55,
      "outputs": [
        {
          "output_type": "stream",
          "name": "stdout",
          "text": [
            "Date\n",
            "2018-01-31    186.889999\n",
            "2018-02-28    178.320007\n",
            "2018-03-31    159.789993\n",
            "2018-04-30    172.000000\n",
            "2018-05-31    191.779999\n",
            "2018-06-30    194.320007\n",
            "2018-07-31    172.580002\n",
            "2018-08-31    175.729996\n",
            "2018-09-30    164.460007\n",
            "2018-10-31    151.789993\n",
            "2018-11-30    140.610001\n",
            "2018-12-31    133.199997\n",
            "Freq: M, Name: Close, dtype: float64\n"
          ]
        }
      ]
    },
    {
      "cell_type": "markdown",
      "metadata": {
        "id": "uwomY3aXMR46"
      },
      "source": [
        "Or directly calculate the monthly rates of return using the data for the first day and the last day:"
      ]
    },
    {
      "cell_type": "code",
      "metadata": {
        "colab": {
          "base_uri": "https://localhost:8080/"
        },
        "id": "qK2NMJrNHW96",
        "outputId": "a89060ea-f21c-48b4-9165-13c3f7c00286"
      },
      "source": [
        "monthly_return = fb.resample('M').agg(lambda x: x[-1]/x[0] - 1)  #Tambien se pueden obtener las tasas mensuales  \n",
        "print(monthly_return)"
      ],
      "execution_count": 58,
      "outputs": [
        {
          "output_type": "stream",
          "name": "stdout",
          "text": [
            "Date\n",
            "2018-01-31    0.030151\n",
            "2018-02-28   -0.076493\n",
            "2018-03-31   -0.091793\n",
            "2018-04-30    0.106892\n",
            "2018-05-31    0.103071\n",
            "2018-06-30    0.001701\n",
            "2018-07-31   -0.125557\n",
            "2018-08-31    0.023769\n",
            "2018-09-30   -0.039145\n",
            "2018-10-31   -0.065563\n",
            "2018-11-30   -0.073410\n",
            "2018-12-31   -0.055922\n",
            "Freq: M, Name: Close, dtype: float64\n"
          ]
        }
      ]
    },
    {
      "cell_type": "markdown",
      "metadata": {
        "id": "_DYbMTFWMj8J"
      },
      "source": [
        "Series object also provides us some convenient methods to do some quick calculation."
      ]
    },
    {
      "cell_type": "code",
      "metadata": {
        "colab": {
          "base_uri": "https://localhost:8080/"
        },
        "id": "1Mxc0HwvHW98",
        "outputId": "3b22d7ec-0dbb-417f-af67-5ec1ab093bfd"
      },
      "source": [
        "#Con funciones podemos obtener estadisticas de esos datos para los 12 meses\n",
        "print(monthly_return.mean()) #Media \n",
        "print(monthly_return.std())  #Desviacion \n",
        "print(monthly_return.max())  #Numero max\n",
        "print(monthly_return.min())  #Numero min"
      ],
      "execution_count": 59,
      "outputs": [
        {
          "output_type": "stream",
          "name": "stdout",
          "text": [
            "-0.021858076165144385\n",
            "0.07518589841360258\n",
            "0.10689233976184731\n",
            "-0.1255573505404477\n"
          ]
        }
      ]
    },
    {
      "cell_type": "markdown",
      "metadata": {
        "id": "mn59J5dqMpqX"
      },
      "source": [
        "Another two methods frequently used on Series are .diff() and .pct_change(). The former calculates the difference between consecutive elements, and the latter calculates the percentage change."
      ]
    },
    {
      "cell_type": "code",
      "metadata": {
        "colab": {
          "base_uri": "https://localhost:8080/"
        },
        "id": "DupZTSqqHW99",
        "outputId": "d1923d6b-878e-40b6-afa3-79d4e3c597c4"
      },
      "source": [
        "print(last_day.diff())      # .diff Calcula la diferencia entre dos datos consecutivos\n",
        "print(last_day.pct_change())# .pct_change Calcula el porcentaje de cambio\n",
        "W_max = fb.resample('3W').max() #Por ejemplo para la lista de datos maximos de cada 3 semanas obtenemos el diff\n",
        "print(W_max.diff())"
      ],
      "execution_count": 61,
      "outputs": [
        {
          "output_type": "stream",
          "name": "stdout",
          "text": [
            "Date\n",
            "2018-01-31          NaN\n",
            "2018-02-28    -8.569992\n",
            "2018-03-31   -18.530014\n",
            "2018-04-30    12.210007\n",
            "2018-05-31    19.779999\n",
            "2018-06-30     2.540009\n",
            "2018-07-31   -21.740005\n",
            "2018-08-31     3.149994\n",
            "2018-09-30   -11.269989\n",
            "2018-10-31   -12.670013\n",
            "2018-11-30   -11.179993\n",
            "2018-12-31    -7.410004\n",
            "Freq: M, Name: Close, dtype: float64\n",
            "Date\n",
            "2018-01-31         NaN\n",
            "2018-02-28   -0.045856\n",
            "2018-03-31   -0.103914\n",
            "2018-04-30    0.076413\n",
            "2018-05-31    0.115000\n",
            "2018-06-30    0.013244\n",
            "2018-07-31   -0.111877\n",
            "2018-08-31    0.018252\n",
            "2018-09-30   -0.064132\n",
            "2018-10-31   -0.077040\n",
            "2018-11-30   -0.073654\n",
            "2018-12-31   -0.052699\n",
            "Freq: M, Name: Close, dtype: float64\n",
            "Date\n",
            "2018-01-07          NaN\n",
            "2018-01-28     3.149994\n",
            "2018-02-18     3.089996\n",
            "2018-03-11    -7.860001\n",
            "2018-04-01    -0.139999\n",
            "2018-04-22   -16.429993\n",
            "2018-05-13    18.330002\n",
            "2018-06-03     7.000000\n",
            "2018-06-24     8.009995\n",
            "2018-07-15     5.320007\n",
            "2018-08-05    10.179993\n",
            "2018-08-26   -31.809998\n",
            "2018-09-16    -8.050003\n",
            "2018-10-07    -8.800003\n",
            "2018-10-28    -9.419998\n",
            "2018-11-18    -7.630005\n",
            "2018-12-09   -10.699997\n",
            "2018-12-30     3.919998\n",
            "Freq: 3W-SUN, Name: Close, dtype: float64\n"
          ]
        }
      ]
    },
    {
      "cell_type": "markdown",
      "metadata": {
        "id": "RaMAOFepM6Io"
      },
      "source": [
        "Notice that we induced a NaN value while calculating percentage changes i.e. returns.\n",
        "\n",
        "When dealing with NaN values, we usually either removing the data point or fill it with a specific value. Here we fill it with 0:"
      ]
    },
    {
      "cell_type": "code",
      "metadata": {
        "colab": {
          "base_uri": "https://localhost:8080/"
        },
        "id": "-xyLb3A3HW99",
        "outputId": "a4eec691-b715-4b45-c97a-dbea096fdee0"
      },
      "source": [
        "daily_return = last_day.pct_change()\n",
        "print(daily_return.fillna(0))         #Rellenamos datos en NaN con algun valor, por ejemplo 0\n",
        "last_day_diff = last_day.diff() \n",
        "print(last_day_diff.fillna(1))        #Rellenamos datos en NaN con algun valor, por ejemplo 1"
      ],
      "execution_count": 65,
      "outputs": [
        {
          "output_type": "stream",
          "name": "stdout",
          "text": [
            "Date\n",
            "2018-01-31    0.000000\n",
            "2018-02-28   -0.045856\n",
            "2018-03-31   -0.103914\n",
            "2018-04-30    0.076413\n",
            "2018-05-31    0.115000\n",
            "2018-06-30    0.013244\n",
            "2018-07-31   -0.111877\n",
            "2018-08-31    0.018252\n",
            "2018-09-30   -0.064132\n",
            "2018-10-31   -0.077040\n",
            "2018-11-30   -0.073654\n",
            "2018-12-31   -0.052699\n",
            "Freq: M, Name: Close, dtype: float64\n",
            "Date\n",
            "2018-01-31     1.000000\n",
            "2018-02-28    -8.569992\n",
            "2018-03-31   -18.530014\n",
            "2018-04-30    12.210007\n",
            "2018-05-31    19.779999\n",
            "2018-06-30     2.540009\n",
            "2018-07-31   -21.740005\n",
            "2018-08-31     3.149994\n",
            "2018-09-30   -11.269989\n",
            "2018-10-31   -12.670013\n",
            "2018-11-30   -11.179993\n",
            "2018-12-31    -7.410004\n",
            "Freq: M, Name: Close, dtype: float64\n"
          ]
        }
      ]
    },
    {
      "cell_type": "markdown",
      "metadata": {
        "id": "BYS10Om1NQVC"
      },
      "source": [
        "Alternatively, we can fill a NaN with the next fitted value. This is called 'backward fill', or 'bfill' in short:"
      ]
    },
    {
      "cell_type": "code",
      "metadata": {
        "colab": {
          "base_uri": "https://localhost:8080/"
        },
        "id": "J513kHeKHW9-",
        "outputId": "3c3c9755-27a6-4826-aed4-93bc84481ed2"
      },
      "source": [
        "#Tambien se puede rellenar el dato en NaN con el siguiente dato que aparezca\n",
        "daily_return = last_day.pct_change()\n",
        "print(daily_return.fillna(method = 'bfill'))\n",
        "\n",
        "last_day_diff = last_day.diff() \n",
        "print(last_day_diff.fillna(method = 'bfill'))  "
      ],
      "execution_count": 66,
      "outputs": [
        {
          "output_type": "stream",
          "name": "stdout",
          "text": [
            "Date\n",
            "2018-01-31   -0.045856\n",
            "2018-02-28   -0.045856\n",
            "2018-03-31   -0.103914\n",
            "2018-04-30    0.076413\n",
            "2018-05-31    0.115000\n",
            "2018-06-30    0.013244\n",
            "2018-07-31   -0.111877\n",
            "2018-08-31    0.018252\n",
            "2018-09-30   -0.064132\n",
            "2018-10-31   -0.077040\n",
            "2018-11-30   -0.073654\n",
            "2018-12-31   -0.052699\n",
            "Freq: M, Name: Close, dtype: float64\n",
            "Date\n",
            "2018-01-31    -8.569992\n",
            "2018-02-28    -8.569992\n",
            "2018-03-31   -18.530014\n",
            "2018-04-30    12.210007\n",
            "2018-05-31    19.779999\n",
            "2018-06-30     2.540009\n",
            "2018-07-31   -21.740005\n",
            "2018-08-31     3.149994\n",
            "2018-09-30   -11.269989\n",
            "2018-10-31   -12.670013\n",
            "2018-11-30   -11.179993\n",
            "2018-12-31    -7.410004\n",
            "Freq: M, Name: Close, dtype: float64\n"
          ]
        }
      ]
    },
    {
      "cell_type": "markdown",
      "metadata": {
        "id": "bj8QUSgdNepf"
      },
      "source": [
        "As expected, since there is a 'backward fill' method, there must be a 'forward fill' method, or 'ffill' in short. However we can't use it here because the NaN is the first value.\n",
        "\n",
        "We can also simply remove NaN values by **_.dropna()_**"
      ]
    },
    {
      "cell_type": "code",
      "metadata": {
        "colab": {
          "base_uri": "https://localhost:8080/"
        },
        "id": "WG5ux1lqHW9-",
        "outputId": "d4f6a032-30ac-4c11-a22b-5727ecc6abae"
      },
      "source": [
        "#Se puede eliminar los datos NaN\n",
        "daily_return = last_day.pct_change()\n",
        "print(daily_return.dropna())\n",
        "last_day_diff = last_day.diff() \n",
        "last_day_diff.dropna()"
      ],
      "execution_count": 68,
      "outputs": [
        {
          "output_type": "stream",
          "name": "stdout",
          "text": [
            "Date\n",
            "2018-02-28   -0.045856\n",
            "2018-03-31   -0.103914\n",
            "2018-04-30    0.076413\n",
            "2018-05-31    0.115000\n",
            "2018-06-30    0.013244\n",
            "2018-07-31   -0.111877\n",
            "2018-08-31    0.018252\n",
            "2018-09-30   -0.064132\n",
            "2018-10-31   -0.077040\n",
            "2018-11-30   -0.073654\n",
            "2018-12-31   -0.052699\n",
            "Freq: M, Name: Close, dtype: float64\n"
          ]
        },
        {
          "output_type": "execute_result",
          "data": {
            "text/plain": [
              "Date\n",
              "2018-02-28    -8.569992\n",
              "2018-03-31   -18.530014\n",
              "2018-04-30    12.210007\n",
              "2018-05-31    19.779999\n",
              "2018-06-30     2.540009\n",
              "2018-07-31   -21.740005\n",
              "2018-08-31     3.149994\n",
              "2018-09-30   -11.269989\n",
              "2018-10-31   -12.670013\n",
              "2018-11-30   -11.179993\n",
              "2018-12-31    -7.410004\n",
              "Freq: M, Name: Close, dtype: float64"
            ]
          },
          "metadata": {},
          "execution_count": 68
        }
      ]
    },
    {
      "cell_type": "markdown",
      "metadata": {
        "id": "nQH2eBWkNjdC"
      },
      "source": [
        "# DataFrame\n",
        "The **DataFrame** is the most commonly used data structure in Pandas. It is essentially a table, just like an Excel spreadsheet.\n",
        "\n",
        "More precisely, a DataFrame is a collection of Series objects, each of which may contain different data types. A DataFrame can be created from various data types: dictionary, 2-D numpy.ndarray, a Series or another DataFrame.\n",
        "\n",
        "## Create DataFrames\n",
        "The most common method of creating a DataFrame is passing a dictionary:"
      ]
    },
    {
      "cell_type": "code",
      "metadata": {
        "colab": {
          "base_uri": "https://localhost:8080/"
        },
        "id": "vd5Wf1ohHW9-",
        "outputId": "3b63b7a6-da50-4988-b91f-7b3c03b10085"
      },
      "source": [
        "import pandas as pd\n",
        "#Creamos un diccionario\n",
        "dict = {'F': [158.5, 156.09, 154.73, 156.18, 155.77],'FB':[911.7, 924.71, 919.69, 931.59, 939.99],\n",
        "        'AAPL':[170.58, 168.67, 167.36, 167.94, 168.49]}\n",
        "#Creamos un indice por fechas\n",
        "data_index = pd.date_range('2018-06-01',periods = 5, freq = 'M')\n",
        "#Creamos un dataframe con el diccionario, e indexado por fechas\n",
        "df = pd.DataFrame(dict, index = data_index)\n",
        "print(df)"
      ],
      "execution_count": 72,
      "outputs": [
        {
          "output_type": "stream",
          "name": "stdout",
          "text": [
            "                 F      FB    AAPL\n",
            "2018-06-30  158.50  911.70  170.58\n",
            "2018-07-31  156.09  924.71  168.67\n",
            "2018-08-31  154.73  919.69  167.36\n",
            "2018-09-30  156.18  931.59  167.94\n",
            "2018-10-31  155.77  939.99  168.49\n"
          ]
        }
      ]
    },
    {
      "cell_type": "markdown",
      "metadata": {
        "id": "0uYmLQTgOPnX"
      },
      "source": [
        "## Manipulating DataFrames\n",
        "We can fetch values in a DataFrame by columns and index. Each column in a DataFrame is essentially a Pandas Series. We can fetch a column by square brackets: **df['column_name']**\n",
        "\n",
        "If a column name contains no spaces, then we can also use df.column_name to fetch a column:"
      ]
    },
    {
      "cell_type": "code",
      "metadata": {
        "colab": {
          "base_uri": "https://localhost:8080/"
        },
        "id": "2pB2f7lBHW9_",
        "outputId": "3aef2d17-319e-48a6-b263-12ddd824ed04"
      },
      "source": [
        "#Se puede llamar los datos de una columna con el nombre de dicha columna como se ve en algunos ejemplos a continuacion:\n",
        "df = fb_table\n",
        "print(df.Close.tail(2))\n",
        "print(df['Close'].tail(2))\n",
        "print(df['Volume'].tail(3))\n",
        "print(df['Open'].head(6))\n",
        "print(df['Dividends'].head(4))"
      ],
      "execution_count": 78,
      "outputs": [
        {
          "output_type": "stream",
          "name": "stdout",
          "text": [
            "Date\n",
            "2018-12-27    134.520004\n",
            "2018-12-28    133.199997\n",
            "Name: Close, dtype: float64\n",
            "Date\n",
            "2018-12-27    134.520004\n",
            "2018-12-28    133.199997\n",
            "Name: Close, dtype: float64\n",
            "Date\n",
            "2018-12-26    39723400\n",
            "2018-12-27    31202500\n",
            "2018-12-28    22627600\n",
            "Name: Volume, dtype: int64\n",
            "Date\n",
            "2017-01-03    116.029999\n",
            "2017-01-04    117.550003\n",
            "2017-01-05    118.860001\n",
            "2017-01-06    120.980003\n",
            "2017-01-09    123.550003\n",
            "2017-01-10    124.820000\n",
            "Name: Open, dtype: float64\n",
            "Date\n",
            "2017-01-03    0\n",
            "2017-01-04    0\n",
            "2017-01-05    0\n",
            "2017-01-06    0\n",
            "Name: Dividends, dtype: int64\n"
          ]
        }
      ]
    },
    {
      "cell_type": "markdown",
      "metadata": {
        "id": "z0ugOel9O4-P"
      },
      "source": [
        "All the methods we applied to a Series index such as iloc[], loc[] and resampling methods, can also be applied to a DataFrame:"
      ]
    },
    {
      "cell_type": "code",
      "metadata": {
        "colab": {
          "base_uri": "https://localhost:8080/"
        },
        "id": "_8dfjkedHW9_",
        "outputId": "26cc3b3a-9e43-4545-d0db-418875caeabb"
      },
      "source": [
        "fb_2017 = df['2017']\n",
        "fb_month = fb_2017.resample('M').agg(lambda x: x[-1]) #Dato mas alto de cada columna, cada mes\n",
        "print(fb_month)"
      ],
      "execution_count": 82,
      "outputs": [
        {
          "output_type": "stream",
          "name": "stdout",
          "text": [
            "                  Open        High         Low       Close    Volume  \\\n",
            "Date                                                                   \n",
            "2017-01-31  130.169998  130.660004  129.520004  130.320007  19790500   \n",
            "2017-02-28  136.789993  136.809998  134.750000  135.539993  16112100   \n",
            "2017-03-31  142.309998  142.630005  141.889999  142.050003  11478300   \n",
            "2017-04-30  149.500000  151.529999  149.070007  150.250000  30652200   \n",
            "2017-05-31  152.699997  153.350006  151.089996  151.460007  18023900   \n",
            "2017-06-30  151.899994  151.919998  150.059998  150.979996  17666000   \n",
            "2017-07-31  172.000000  172.720001  168.550003  169.250000  25478900   \n",
            "2017-08-31  170.399994  172.149994  170.059998  171.970001  17226500   \n",
            "2017-09-30  168.830002  171.660004  168.809998  170.869995  15340400   \n",
            "2017-10-31  180.570007  180.800003  178.940002  180.059998  20174200   \n",
            "2017-11-30  176.850006  178.279999  175.199997  177.179993  25307600   \n",
            "2017-12-31  178.000000  178.850006  176.460007  176.460007  10261500   \n",
            "\n",
            "            Dividends  Stock Splits  \n",
            "Date                                 \n",
            "2017-01-31          0             0  \n",
            "2017-02-28          0             0  \n",
            "2017-03-31          0             0  \n",
            "2017-04-30          0             0  \n",
            "2017-05-31          0             0  \n",
            "2017-06-30          0             0  \n",
            "2017-07-31          0             0  \n",
            "2017-08-31          0             0  \n",
            "2017-09-30          0             0  \n",
            "2017-10-31          0             0  \n",
            "2017-11-30          0             0  \n",
            "2017-12-31          0             0  \n"
          ]
        },
        {
          "output_type": "stream",
          "name": "stderr",
          "text": [
            "/usr/local/lib/python3.7/dist-packages/ipykernel_launcher.py:1: FutureWarning: Indexing a DataFrame with a datetimelike index using a single string to slice the rows, like `frame[string]`, is deprecated and will be removed in a future version. Use `frame.loc[string]` instead.\n",
            "  \"\"\"Entry point for launching an IPython kernel.\n"
          ]
        }
      ]
    },
    {
      "cell_type": "markdown",
      "metadata": {
        "id": "CqrbrbFZPTJe"
      },
      "source": [
        "We may select certain columns of a DataFrame using their names:"
      ]
    },
    {
      "cell_type": "code",
      "metadata": {
        "colab": {
          "base_uri": "https://localhost:8080/"
        },
        "id": "7bQGeyCAHW9_",
        "outputId": "e4bc1000-e781-40f7-f75e-3c416fcf6293"
      },
      "source": [
        "fb_bar = fb_month[['High', 'Low', 'Volume','Close']] #Podemos escoger ciertas columnas del dataframe por el nombre\n",
        "print(fb_bar)"
      ],
      "execution_count": 92,
      "outputs": [
        {
          "output_type": "stream",
          "name": "stdout",
          "text": [
            "                  High         Low    Volume       Close\n",
            "Date                                                    \n",
            "2017-01-31  130.660004  129.520004  19790500  130.320007\n",
            "2017-02-28  136.809998  134.750000  16112100  135.539993\n",
            "2017-03-31  142.630005  141.889999  11478300  142.050003\n",
            "2017-04-30  151.529999  149.070007  30652200  150.250000\n",
            "2017-05-31  153.350006  151.089996  18023900  151.460007\n",
            "2017-06-30  151.919998  150.059998  17666000  150.979996\n",
            "2017-07-31  172.720001  168.550003  25478900  169.250000\n",
            "2017-08-31  172.149994  170.059998  17226500  171.970001\n",
            "2017-09-30  171.660004  168.809998  15340400  170.869995\n",
            "2017-10-31  180.800003  178.940002  20174200  180.059998\n",
            "2017-11-30  178.279999  175.199997  25307600  177.179993\n",
            "2017-12-31  178.850006  176.460007  10261500  176.460007\n"
          ]
        }
      ]
    },
    {
      "cell_type": "markdown",
      "metadata": {
        "id": "8CQaZCAQP68O"
      },
      "source": [
        "We can even specify both rows and columns using loc[]. The row indices and column names are separated by a comma:"
      ]
    },
    {
      "cell_type": "code",
      "metadata": {
        "colab": {
          "base_uri": "https://localhost:8080/"
        },
        "id": "YjWWiHVpHW-A",
        "outputId": "9fe86ca9-664a-4554-cccc-5bdabef92eb8"
      },
      "source": [
        "#Podemos seleccionar tanto filas como columnas segun las condiciones que queramos\n",
        "print(fb_month.loc['2017-08':'2017-12',['High', 'Low', 'Volume','Dividends']]) #Por ejemplo en un rango de tiempo, que columnas queremos ver"
      ],
      "execution_count": 85,
      "outputs": [
        {
          "output_type": "stream",
          "name": "stdout",
          "text": [
            "                  High         Low    Volume  Dividends\n",
            "Date                                                   \n",
            "2017-08-31  172.149994  170.059998  17226500          0\n",
            "2017-09-30  171.660004  168.809998  15340400          0\n",
            "2017-10-31  180.800003  178.940002  20174200          0\n",
            "2017-11-30  178.279999  175.199997  25307600          0\n",
            "2017-12-31  178.850006  176.460007  10261500          0\n"
          ]
        }
      ]
    },
    {
      "cell_type": "markdown",
      "metadata": {
        "id": "Xcn_pHNLQBEH"
      },
      "source": [
        "The subset methods in DataFrame is quite useful. By writing logical statements in square brackets, we can make customized subsets:"
      ]
    },
    {
      "cell_type": "code",
      "metadata": {
        "colab": {
          "base_uri": "https://localhost:8080/"
        },
        "id": "RxKg4dObHW-A",
        "outputId": "605374e9-e76d-4131-abb9-0af7a1e752c3"
      },
      "source": [
        "import numpy as np\n",
        "#Podemos hacer busquedas mas avanzadas en la tabla de datos, por ejemplo los datos donde High sea mayor a la media de High\n",
        "above = fb_bar[fb_bar.High > np.mean(fb_bar.High)]\n",
        "print(above)"
      ],
      "execution_count": 93,
      "outputs": [
        {
          "output_type": "stream",
          "name": "stdout",
          "text": [
            "                  High         Low    Volume       Close\n",
            "Date                                                    \n",
            "2017-07-31  172.720001  168.550003  25478900  169.250000\n",
            "2017-08-31  172.149994  170.059998  17226500  171.970001\n",
            "2017-09-30  171.660004  168.809998  15340400  170.869995\n",
            "2017-10-31  180.800003  178.940002  20174200  180.059998\n",
            "2017-11-30  178.279999  175.199997  25307600  177.179993\n",
            "2017-12-31  178.850006  176.460007  10261500  176.460007\n"
          ]
        }
      ]
    },
    {
      "cell_type": "markdown",
      "metadata": {
        "id": "wcm_UadkQLL5"
      },
      "source": [
        "## Data Validation\n",
        "As mentioned, all methods that apply to a Series can also be applied to a DataFrame. Here we add a new column to an existing DataFrame:"
      ]
    },
    {
      "cell_type": "code",
      "metadata": {
        "colab": {
          "base_uri": "https://localhost:8080/"
        },
        "id": "jZXFdOVFHW-A",
        "outputId": "55786e8c-4f00-42b5-fa50-6b30c3152f29"
      },
      "source": [
        "#Podemos añadir nuevas columnas a un dataframe existente \n",
        "fb_bar['rate_return'] = fb_bar.Close.pct_change()\n",
        "fb_bar['High-Low'] =fb_bar.High - fb_bar.Low\n",
        "print(fb_bar)"
      ],
      "execution_count": 95,
      "outputs": [
        {
          "output_type": "stream",
          "name": "stdout",
          "text": [
            "                  High         Low    Volume       Close  rate_return  \\\n",
            "Date                                                                    \n",
            "2017-01-31  130.660004  129.520004  19790500  130.320007          NaN   \n",
            "2017-02-28  136.809998  134.750000  16112100  135.539993     0.040055   \n",
            "2017-03-31  142.630005  141.889999  11478300  142.050003     0.048030   \n",
            "2017-04-30  151.529999  149.070007  30652200  150.250000     0.057726   \n",
            "2017-05-31  153.350006  151.089996  18023900  151.460007     0.008053   \n",
            "2017-06-30  151.919998  150.059998  17666000  150.979996    -0.003169   \n",
            "2017-07-31  172.720001  168.550003  25478900  169.250000     0.121009   \n",
            "2017-08-31  172.149994  170.059998  17226500  171.970001     0.016071   \n",
            "2017-09-30  171.660004  168.809998  15340400  170.869995    -0.006396   \n",
            "2017-10-31  180.800003  178.940002  20174200  180.059998     0.053784   \n",
            "2017-11-30  178.279999  175.199997  25307600  177.179993    -0.015995   \n",
            "2017-12-31  178.850006  176.460007  10261500  176.460007    -0.004064   \n",
            "\n",
            "            High-Low  \n",
            "Date                  \n",
            "2017-01-31  1.139999  \n",
            "2017-02-28  2.059998  \n",
            "2017-03-31  0.740005  \n",
            "2017-04-30  2.459991  \n",
            "2017-05-31  2.260010  \n",
            "2017-06-30  1.860001  \n",
            "2017-07-31  4.169998  \n",
            "2017-08-31  2.089996  \n",
            "2017-09-30  2.850006  \n",
            "2017-10-31  1.860001  \n",
            "2017-11-30  3.080002  \n",
            "2017-12-31  2.389999  \n"
          ]
        },
        {
          "output_type": "stream",
          "name": "stderr",
          "text": [
            "/usr/local/lib/python3.7/dist-packages/ipykernel_launcher.py:2: SettingWithCopyWarning: \n",
            "A value is trying to be set on a copy of a slice from a DataFrame.\n",
            "Try using .loc[row_indexer,col_indexer] = value instead\n",
            "\n",
            "See the caveats in the documentation: https://pandas.pydata.org/pandas-docs/stable/user_guide/indexing.html#returning-a-view-versus-a-copy\n",
            "  \n",
            "/usr/local/lib/python3.7/dist-packages/ipykernel_launcher.py:3: SettingWithCopyWarning: \n",
            "A value is trying to be set on a copy of a slice from a DataFrame.\n",
            "Try using .loc[row_indexer,col_indexer] = value instead\n",
            "\n",
            "See the caveats in the documentation: https://pandas.pydata.org/pandas-docs/stable/user_guide/indexing.html#returning-a-view-versus-a-copy\n",
            "  This is separate from the ipykernel package so we can avoid doing imports until\n"
          ]
        }
      ]
    },
    {
      "cell_type": "markdown",
      "metadata": {
        "id": "_or6n5-LQUa-"
      },
      "source": [
        "Here the calculation introduced a NaN value. If the DataFrame is large, we would not be able to observe it. **isnull()** provides a convenient way to check abnormal values."
      ]
    },
    {
      "cell_type": "code",
      "metadata": {
        "colab": {
          "base_uri": "https://localhost:8080/"
        },
        "id": "V5wgmhIPHW-B",
        "outputId": "084ca4ae-552c-4567-a0c7-efd7c58b2a97"
      },
      "source": [
        "#Para encontrar valores no naturales como Nan, se usa .isnull que facilita la tarea de buscarlos\n",
        "missing = fb_bar.isnull()\n",
        "print(missing)\n",
        "print('---------------------------------------------')\n",
        "print(missing.describe())"
      ],
      "execution_count": 96,
      "outputs": [
        {
          "output_type": "stream",
          "name": "stdout",
          "text": [
            "             High    Low  Volume  Close  rate_return  High-Low\n",
            "Date                                                          \n",
            "2017-01-31  False  False   False  False         True     False\n",
            "2017-02-28  False  False   False  False        False     False\n",
            "2017-03-31  False  False   False  False        False     False\n",
            "2017-04-30  False  False   False  False        False     False\n",
            "2017-05-31  False  False   False  False        False     False\n",
            "2017-06-30  False  False   False  False        False     False\n",
            "2017-07-31  False  False   False  False        False     False\n",
            "2017-08-31  False  False   False  False        False     False\n",
            "2017-09-30  False  False   False  False        False     False\n",
            "2017-10-31  False  False   False  False        False     False\n",
            "2017-11-30  False  False   False  False        False     False\n",
            "2017-12-31  False  False   False  False        False     False\n",
            "---------------------------------------------\n",
            "         High    Low Volume  Close rate_return High-Low\n",
            "count      12     12     12     12          12       12\n",
            "unique      1      1      1      1           2        1\n",
            "top     False  False  False  False       False    False\n",
            "freq       12     12     12     12          11       12\n"
          ]
        }
      ]
    },
    {
      "cell_type": "markdown",
      "metadata": {
        "id": "d6KFV4i0QfLW"
      },
      "source": [
        "The row labelled \"unique\" indicates the number of unique values in each column. Since the \"rate_return\" column has 2 unique values, it has at least one missing value.\n",
        "\n",
        "We can deduce the number of missing values by comparing \"count\" with \"freq\". There are 12 counts and 11 False values, so there is one True value which corresponds to the missing value.\n",
        "\n",
        "We can also find the rows with missing values easily:"
      ]
    },
    {
      "cell_type": "code",
      "metadata": {
        "colab": {
          "base_uri": "https://localhost:8080/"
        },
        "id": "Eo0ZAhCsHW-B",
        "outputId": "2af3d48a-2cdc-4f2e-e5cb-a09a5991e36a"
      },
      "source": [
        "#Para hallar el valor extraño en la tabla se puede ejecutar:\n",
        "print(missing[missing.rate_return == True])"
      ],
      "execution_count": 97,
      "outputs": [
        {
          "output_type": "stream",
          "name": "stdout",
          "text": [
            "             High    Low  Volume  Close  rate_return  High-Low\n",
            "Date                                                          \n",
            "2017-01-31  False  False   False  False         True     False\n"
          ]
        }
      ]
    },
    {
      "cell_type": "markdown",
      "metadata": {
        "id": "qgggpD8OQkZX"
      },
      "source": [
        "Usually when dealing with missing data, we either delete the whole row or fill it with some value. As we introduced in the Series chapter, the same method **dropna()** and **fillna()** can be applied to a DataFrame."
      ]
    },
    {
      "cell_type": "code",
      "metadata": {
        "colab": {
          "base_uri": "https://localhost:8080/"
        },
        "id": "j8PaIokjHW-B",
        "outputId": "80b5e752-8344-4ed3-f968-7f8ded47efab"
      },
      "source": [
        "#Eliminamos la fila con el valor NaN\n",
        "drop = fb_bar.dropna()\n",
        "print(drop)\n",
        "print('\\n--------------------------------------------------\\n')\n",
        "#Reemplazamos el valor de NaN con 0\n",
        "fill = fb_bar.fillna(0)\n",
        "print(fill)"
      ],
      "execution_count": 99,
      "outputs": [
        {
          "output_type": "stream",
          "name": "stdout",
          "text": [
            "                  High         Low    Volume       Close  rate_return  \\\n",
            "Date                                                                    \n",
            "2017-02-28  136.809998  134.750000  16112100  135.539993     0.040055   \n",
            "2017-03-31  142.630005  141.889999  11478300  142.050003     0.048030   \n",
            "2017-04-30  151.529999  149.070007  30652200  150.250000     0.057726   \n",
            "2017-05-31  153.350006  151.089996  18023900  151.460007     0.008053   \n",
            "2017-06-30  151.919998  150.059998  17666000  150.979996    -0.003169   \n",
            "2017-07-31  172.720001  168.550003  25478900  169.250000     0.121009   \n",
            "2017-08-31  172.149994  170.059998  17226500  171.970001     0.016071   \n",
            "2017-09-30  171.660004  168.809998  15340400  170.869995    -0.006396   \n",
            "2017-10-31  180.800003  178.940002  20174200  180.059998     0.053784   \n",
            "2017-11-30  178.279999  175.199997  25307600  177.179993    -0.015995   \n",
            "2017-12-31  178.850006  176.460007  10261500  176.460007    -0.004064   \n",
            "\n",
            "            High-Low  \n",
            "Date                  \n",
            "2017-02-28  2.059998  \n",
            "2017-03-31  0.740005  \n",
            "2017-04-30  2.459991  \n",
            "2017-05-31  2.260010  \n",
            "2017-06-30  1.860001  \n",
            "2017-07-31  4.169998  \n",
            "2017-08-31  2.089996  \n",
            "2017-09-30  2.850006  \n",
            "2017-10-31  1.860001  \n",
            "2017-11-30  3.080002  \n",
            "2017-12-31  2.389999  \n",
            "\n",
            "--------------------------------------------------\n",
            "\n",
            "                  High         Low    Volume       Close  rate_return  \\\n",
            "Date                                                                    \n",
            "2017-01-31  130.660004  129.520004  19790500  130.320007     0.000000   \n",
            "2017-02-28  136.809998  134.750000  16112100  135.539993     0.040055   \n",
            "2017-03-31  142.630005  141.889999  11478300  142.050003     0.048030   \n",
            "2017-04-30  151.529999  149.070007  30652200  150.250000     0.057726   \n",
            "2017-05-31  153.350006  151.089996  18023900  151.460007     0.008053   \n",
            "2017-06-30  151.919998  150.059998  17666000  150.979996    -0.003169   \n",
            "2017-07-31  172.720001  168.550003  25478900  169.250000     0.121009   \n",
            "2017-08-31  172.149994  170.059998  17226500  171.970001     0.016071   \n",
            "2017-09-30  171.660004  168.809998  15340400  170.869995    -0.006396   \n",
            "2017-10-31  180.800003  178.940002  20174200  180.059998     0.053784   \n",
            "2017-11-30  178.279999  175.199997  25307600  177.179993    -0.015995   \n",
            "2017-12-31  178.850006  176.460007  10261500  176.460007    -0.004064   \n",
            "\n",
            "            High-Low  \n",
            "Date                  \n",
            "2017-01-31  1.139999  \n",
            "2017-02-28  2.059998  \n",
            "2017-03-31  0.740005  \n",
            "2017-04-30  2.459991  \n",
            "2017-05-31  2.260010  \n",
            "2017-06-30  1.860001  \n",
            "2017-07-31  4.169998  \n",
            "2017-08-31  2.089996  \n",
            "2017-09-30  2.850006  \n",
            "2017-10-31  1.860001  \n",
            "2017-11-30  3.080002  \n",
            "2017-12-31  2.389999  \n"
          ]
        }
      ]
    },
    {
      "cell_type": "markdown",
      "metadata": {
        "id": "0tvoFlKWQxYG"
      },
      "source": [
        "## DataFrame Concat\n",
        "We have seen how to extract a Series from a dataFrame. Now we need to consider how to merge a Series or a DataFrame into another one.\n",
        "\n",
        "In Pandas, the function **concat()** allows us to merge multiple Series into a DataFrame:"
      ]
    },
    {
      "cell_type": "code",
      "metadata": {
        "colab": {
          "base_uri": "https://localhost:8080/"
        },
        "id": "uQrmLIWKHW-C",
        "outputId": "f6eae905-b545-48a5-e681-1f872628a627"
      },
      "source": [
        "#Podemos concatenar dos series, por ejemplo el precio de manzanas y peras en 5 tiendas x\n",
        "s1 = pd.Series([1500, 2300, 3400, 4500, 1900], name = 'Manzanas')\n",
        "s2 = pd.Series([2100, 3200, 4000, 1700, 2800], name = 'Peras')\n",
        "data_frame = pd.concat([s1,s2], axis = 1)\n",
        "print(data_frame)"
      ],
      "execution_count": 106,
      "outputs": [
        {
          "output_type": "stream",
          "name": "stdout",
          "text": [
            "   Manzanas  Peras\n",
            "0      1500   2100\n",
            "1      2300   3200\n",
            "2      3400   4000\n",
            "3      4500   1700\n",
            "4      1900   2800\n"
          ]
        }
      ]
    },
    {
      "cell_type": "markdown",
      "metadata": {
        "id": "3ojbNYJLR2vv"
      },
      "source": [
        "The \"axis = 1\" parameter will join two DataFrames by columns:"
      ]
    },
    {
      "cell_type": "code",
      "metadata": {
        "colab": {
          "base_uri": "https://localhost:8080/"
        },
        "id": "DJsaLd-cRoIm",
        "outputId": "85955456-e25e-44f6-88df-9e1bc42a28ee"
      },
      "source": [
        "#Con axis = 1 se concatenan dos dataframes por la columna\n",
        "log_price = np.log(fb_bar.Close)\n",
        "log_price.name = 'log_price'\n",
        "print(log_price)\n",
        "print('\\n---------------------- separate line--------------------\\n')\n",
        "concat = pd.concat([fb_bar, log_price], axis = 1)\n",
        "print(concat)"
      ],
      "execution_count": 100,
      "outputs": [
        {
          "output_type": "stream",
          "name": "stdout",
          "text": [
            "Date\n",
            "2017-01-31    4.869993\n",
            "2017-02-28    4.909267\n",
            "2017-03-31    4.956179\n",
            "2017-04-30    5.012301\n",
            "2017-05-31    5.020322\n",
            "2017-06-30    5.017147\n",
            "2017-07-31    5.131377\n",
            "2017-08-31    5.147320\n",
            "2017-09-30    5.140903\n",
            "2017-10-31    5.193290\n",
            "2017-11-30    5.177166\n",
            "2017-12-31    5.173094\n",
            "Freq: M, Name: log_price, dtype: float64\n",
            "\n",
            "---------------------- separate line--------------------\n",
            "\n",
            "                  High         Low    Volume       Close  rate_return  \\\n",
            "Date                                                                    \n",
            "2017-01-31  130.660004  129.520004  19790500  130.320007          NaN   \n",
            "2017-02-28  136.809998  134.750000  16112100  135.539993     0.040055   \n",
            "2017-03-31  142.630005  141.889999  11478300  142.050003     0.048030   \n",
            "2017-04-30  151.529999  149.070007  30652200  150.250000     0.057726   \n",
            "2017-05-31  153.350006  151.089996  18023900  151.460007     0.008053   \n",
            "2017-06-30  151.919998  150.059998  17666000  150.979996    -0.003169   \n",
            "2017-07-31  172.720001  168.550003  25478900  169.250000     0.121009   \n",
            "2017-08-31  172.149994  170.059998  17226500  171.970001     0.016071   \n",
            "2017-09-30  171.660004  168.809998  15340400  170.869995    -0.006396   \n",
            "2017-10-31  180.800003  178.940002  20174200  180.059998     0.053784   \n",
            "2017-11-30  178.279999  175.199997  25307600  177.179993    -0.015995   \n",
            "2017-12-31  178.850006  176.460007  10261500  176.460007    -0.004064   \n",
            "\n",
            "            High-Low  log_price  \n",
            "Date                             \n",
            "2017-01-31  1.139999   4.869993  \n",
            "2017-02-28  2.059998   4.909267  \n",
            "2017-03-31  0.740005   4.956179  \n",
            "2017-04-30  2.459991   5.012301  \n",
            "2017-05-31  2.260010   5.020322  \n",
            "2017-06-30  1.860001   5.017147  \n",
            "2017-07-31  4.169998   5.131377  \n",
            "2017-08-31  2.089996   5.147320  \n",
            "2017-09-30  2.850006   5.140903  \n",
            "2017-10-31  1.860001   5.193290  \n",
            "2017-11-30  3.080002   5.177166  \n",
            "2017-12-31  2.389999   5.173094  \n"
          ]
        }
      ]
    },
    {
      "cell_type": "markdown",
      "metadata": {
        "id": "mIZz-FUyR_62"
      },
      "source": [
        "We can also join two DataFrames by rows. Consider these two DataFrames:"
      ]
    },
    {
      "cell_type": "code",
      "metadata": {
        "colab": {
          "base_uri": "https://localhost:8080/"
        },
        "id": "W7uXZptLHW-C",
        "outputId": "5bb11e2c-7c58-4f31-aa5c-80a4cabcc6b9"
      },
      "source": [
        "#Dataframe con la informacion de \"volume\" y \"Stock Splits\" entre julio de 2017 y enero de 2018 por mes\n",
        "df_volume = fb_table.loc['2017-07':'2018-01',['Volume', 'Stock Splits']].resample('M').agg(lambda x: x[-1])\n",
        "print(df_volume)\n",
        "print('\\n---------------------- separate line--------------------\\n')\n",
        "#Dataframe con la informacion de \"Open\", \"High\", \"low\", \"Clore\" entre julio de 2017 y enero de 2018 por mes\n",
        "df_2017 = fb_table.loc['2017-07':'2018-01',['Open', 'High', 'Low', 'Close']].resample('M').agg(lambda x: x[-1])\n",
        "print(df_2017)"
      ],
      "execution_count": 108,
      "outputs": [
        {
          "output_type": "stream",
          "name": "stdout",
          "text": [
            "              Volume  Stock Splits\n",
            "Date                              \n",
            "2017-07-31  25478900             0\n",
            "2017-08-31  17226500             0\n",
            "2017-09-30  15340400             0\n",
            "2017-10-31  20174200             0\n",
            "2017-11-30  25307600             0\n",
            "2017-12-31  10261500             0\n",
            "2018-01-31  43275100             0\n",
            "\n",
            "---------------------- separate line--------------------\n",
            "\n",
            "                  Open        High         Low       Close\n",
            "Date                                                      \n",
            "2017-07-31  172.000000  172.720001  168.550003  169.250000\n",
            "2017-08-31  170.399994  172.149994  170.059998  171.970001\n",
            "2017-09-30  168.830002  171.660004  168.809998  170.869995\n",
            "2017-10-31  180.570007  180.800003  178.940002  180.059998\n",
            "2017-11-30  176.850006  178.279999  175.199997  177.179993\n",
            "2017-12-31  178.000000  178.850006  176.460007  176.460007\n",
            "2018-01-31  188.369995  189.830002  185.220001  186.889999\n"
          ]
        }
      ]
    },
    {
      "cell_type": "markdown",
      "metadata": {
        "id": "iZk_C9aSSLeP"
      },
      "source": [
        "Now we merge the DataFrames with our DataFrame 'fb_bar'"
      ]
    },
    {
      "cell_type": "code",
      "metadata": {
        "colab": {
          "base_uri": "https://localhost:8080/"
        },
        "id": "aFqmjokOHW-C",
        "outputId": "e5e0d996-2d1d-4263-fc21-8f3662e4f7be"
      },
      "source": [
        "#Concatenamos los dataframes\n",
        "concat = pd.concat([fb_bar, df_volume], axis = 1)\n",
        "print(concat)"
      ],
      "execution_count": 109,
      "outputs": [
        {
          "output_type": "stream",
          "name": "stdout",
          "text": [
            "                  High         Low      Volume       Close  rate_return  \\\n",
            "Date                                                                      \n",
            "2017-01-31  130.660004  129.520004  19790500.0  130.320007          NaN   \n",
            "2017-02-28  136.809998  134.750000  16112100.0  135.539993     0.040055   \n",
            "2017-03-31  142.630005  141.889999  11478300.0  142.050003     0.048030   \n",
            "2017-04-30  151.529999  149.070007  30652200.0  150.250000     0.057726   \n",
            "2017-05-31  153.350006  151.089996  18023900.0  151.460007     0.008053   \n",
            "2017-06-30  151.919998  150.059998  17666000.0  150.979996    -0.003169   \n",
            "2017-07-31  172.720001  168.550003  25478900.0  169.250000     0.121009   \n",
            "2017-08-31  172.149994  170.059998  17226500.0  171.970001     0.016071   \n",
            "2017-09-30  171.660004  168.809998  15340400.0  170.869995    -0.006396   \n",
            "2017-10-31  180.800003  178.940002  20174200.0  180.059998     0.053784   \n",
            "2017-11-30  178.279999  175.199997  25307600.0  177.179993    -0.015995   \n",
            "2017-12-31  178.850006  176.460007  10261500.0  176.460007    -0.004064   \n",
            "2018-01-31         NaN         NaN         NaN         NaN          NaN   \n",
            "\n",
            "            High-Low      Volume  Stock Splits  \n",
            "Date                                            \n",
            "2017-01-31  1.139999         NaN           NaN  \n",
            "2017-02-28  2.059998         NaN           NaN  \n",
            "2017-03-31  0.740005         NaN           NaN  \n",
            "2017-04-30  2.459991         NaN           NaN  \n",
            "2017-05-31  2.260010         NaN           NaN  \n",
            "2017-06-30  1.860001         NaN           NaN  \n",
            "2017-07-31  4.169998  25478900.0           0.0  \n",
            "2017-08-31  2.089996  17226500.0           0.0  \n",
            "2017-09-30  2.850006  15340400.0           0.0  \n",
            "2017-10-31  1.860001  20174200.0           0.0  \n",
            "2017-11-30  3.080002  25307600.0           0.0  \n",
            "2017-12-31  2.389999  10261500.0           0.0  \n",
            "2018-01-31       NaN  43275100.0           0.0  \n"
          ]
        }
      ]
    },
    {
      "cell_type": "markdown",
      "metadata": {
        "id": "7yI3tgB4SR4O"
      },
      "source": [
        "By default the DataFrame are joined with all of the data. This default options results in zero information loss. We can also merge them by intersection, this is called 'inner join"
      ]
    },
    {
      "cell_type": "code",
      "metadata": {
        "colab": {
          "base_uri": "https://localhost:8080/"
        },
        "id": "31QGLyijHW-C",
        "outputId": "3736c110-2135-4fa0-d906-6b1d81aa9494"
      },
      "source": [
        "#Podemos concatenar por interseccion\n",
        "concat = pd.concat([fb_bar,df_volume],axis = 1, join = 'inner')\n",
        "print(concat)"
      ],
      "execution_count": 110,
      "outputs": [
        {
          "output_type": "stream",
          "name": "stdout",
          "text": [
            "                  High         Low    Volume       Close  rate_return  \\\n",
            "Date                                                                    \n",
            "2017-07-31  172.720001  168.550003  25478900  169.250000     0.121009   \n",
            "2017-08-31  172.149994  170.059998  17226500  171.970001     0.016071   \n",
            "2017-09-30  171.660004  168.809998  15340400  170.869995    -0.006396   \n",
            "2017-10-31  180.800003  178.940002  20174200  180.059998     0.053784   \n",
            "2017-11-30  178.279999  175.199997  25307600  177.179993    -0.015995   \n",
            "2017-12-31  178.850006  176.460007  10261500  176.460007    -0.004064   \n",
            "\n",
            "            High-Low    Volume  Stock Splits  \n",
            "Date                                          \n",
            "2017-07-31  4.169998  25478900             0  \n",
            "2017-08-31  2.089996  17226500             0  \n",
            "2017-09-30  2.850006  15340400             0  \n",
            "2017-10-31  1.860001  20174200             0  \n",
            "2017-11-30  3.080002  25307600             0  \n",
            "2017-12-31  2.389999  10261500             0  \n"
          ]
        }
      ]
    },
    {
      "cell_type": "markdown",
      "metadata": {
        "id": "oudcWMm5Sd0u"
      },
      "source": [
        "Only the intersection part was left if use 'inner join' method. Now let's try to append a DataFrame to another one:"
      ]
    },
    {
      "cell_type": "code",
      "metadata": {
        "colab": {
          "base_uri": "https://localhost:8080/"
        },
        "id": "lgw0qaOsHW-D",
        "outputId": "529c91c3-6d32-48e8-bc83-88592278010d"
      },
      "source": [
        "#Adjuntamos un dataframe a otro\n",
        "append = fb_bar.append(df_2017)\n",
        "print(append)"
      ],
      "execution_count": 112,
      "outputs": [
        {
          "output_type": "stream",
          "name": "stdout",
          "text": [
            "                  High         Low      Volume       Close  rate_return  \\\n",
            "Date                                                                      \n",
            "2017-01-31  130.660004  129.520004  19790500.0  130.320007          NaN   \n",
            "2017-02-28  136.809998  134.750000  16112100.0  135.539993     0.040055   \n",
            "2017-03-31  142.630005  141.889999  11478300.0  142.050003     0.048030   \n",
            "2017-04-30  151.529999  149.070007  30652200.0  150.250000     0.057726   \n",
            "2017-05-31  153.350006  151.089996  18023900.0  151.460007     0.008053   \n",
            "2017-06-30  151.919998  150.059998  17666000.0  150.979996    -0.003169   \n",
            "2017-07-31  172.720001  168.550003  25478900.0  169.250000     0.121009   \n",
            "2017-08-31  172.149994  170.059998  17226500.0  171.970001     0.016071   \n",
            "2017-09-30  171.660004  168.809998  15340400.0  170.869995    -0.006396   \n",
            "2017-10-31  180.800003  178.940002  20174200.0  180.059998     0.053784   \n",
            "2017-11-30  178.279999  175.199997  25307600.0  177.179993    -0.015995   \n",
            "2017-12-31  178.850006  176.460007  10261500.0  176.460007    -0.004064   \n",
            "2017-07-31  172.720001  168.550003         NaN  169.250000          NaN   \n",
            "2017-08-31  172.149994  170.059998         NaN  171.970001          NaN   \n",
            "2017-09-30  171.660004  168.809998         NaN  170.869995          NaN   \n",
            "2017-10-31  180.800003  178.940002         NaN  180.059998          NaN   \n",
            "2017-11-30  178.279999  175.199997         NaN  177.179993          NaN   \n",
            "2017-12-31  178.850006  176.460007         NaN  176.460007          NaN   \n",
            "2018-01-31  189.830002  185.220001         NaN  186.889999          NaN   \n",
            "\n",
            "            High-Low        Open  \n",
            "Date                              \n",
            "2017-01-31  1.139999         NaN  \n",
            "2017-02-28  2.059998         NaN  \n",
            "2017-03-31  0.740005         NaN  \n",
            "2017-04-30  2.459991         NaN  \n",
            "2017-05-31  2.260010         NaN  \n",
            "2017-06-30  1.860001         NaN  \n",
            "2017-07-31  4.169998         NaN  \n",
            "2017-08-31  2.089996         NaN  \n",
            "2017-09-30  2.850006         NaN  \n",
            "2017-10-31  1.860001         NaN  \n",
            "2017-11-30  3.080002         NaN  \n",
            "2017-12-31  2.389999         NaN  \n",
            "2017-07-31       NaN  172.000000  \n",
            "2017-08-31       NaN  170.399994  \n",
            "2017-09-30       NaN  168.830002  \n",
            "2017-10-31       NaN  180.570007  \n",
            "2017-11-30       NaN  176.850006  \n",
            "2017-12-31       NaN  178.000000  \n",
            "2018-01-31       NaN  188.369995  \n"
          ]
        }
      ]
    },
    {
      "cell_type": "markdown",
      "metadata": {
        "id": "zXT6cMquSq_P"
      },
      "source": [
        "'Append' is essentially to concat two DataFrames by axis = 0, thus here is an alternative way to append:"
      ]
    },
    {
      "cell_type": "code",
      "metadata": {
        "colab": {
          "base_uri": "https://localhost:8080/"
        },
        "id": "2EuSaFO9HW-D",
        "outputId": "20ad7d41-9065-4496-a288-d9a56bcae38f"
      },
      "source": [
        "#Otra forma de adjunta un dataframe a otro\n",
        "concat = pd.concat([fb_bar, df_2017], axis = 0)\n",
        "print(concat)"
      ],
      "execution_count": 113,
      "outputs": [
        {
          "output_type": "stream",
          "name": "stdout",
          "text": [
            "                  High         Low      Volume       Close  rate_return  \\\n",
            "Date                                                                      \n",
            "2017-01-31  130.660004  129.520004  19790500.0  130.320007          NaN   \n",
            "2017-02-28  136.809998  134.750000  16112100.0  135.539993     0.040055   \n",
            "2017-03-31  142.630005  141.889999  11478300.0  142.050003     0.048030   \n",
            "2017-04-30  151.529999  149.070007  30652200.0  150.250000     0.057726   \n",
            "2017-05-31  153.350006  151.089996  18023900.0  151.460007     0.008053   \n",
            "2017-06-30  151.919998  150.059998  17666000.0  150.979996    -0.003169   \n",
            "2017-07-31  172.720001  168.550003  25478900.0  169.250000     0.121009   \n",
            "2017-08-31  172.149994  170.059998  17226500.0  171.970001     0.016071   \n",
            "2017-09-30  171.660004  168.809998  15340400.0  170.869995    -0.006396   \n",
            "2017-10-31  180.800003  178.940002  20174200.0  180.059998     0.053784   \n",
            "2017-11-30  178.279999  175.199997  25307600.0  177.179993    -0.015995   \n",
            "2017-12-31  178.850006  176.460007  10261500.0  176.460007    -0.004064   \n",
            "2017-07-31  172.720001  168.550003         NaN  169.250000          NaN   \n",
            "2017-08-31  172.149994  170.059998         NaN  171.970001          NaN   \n",
            "2017-09-30  171.660004  168.809998         NaN  170.869995          NaN   \n",
            "2017-10-31  180.800003  178.940002         NaN  180.059998          NaN   \n",
            "2017-11-30  178.279999  175.199997         NaN  177.179993          NaN   \n",
            "2017-12-31  178.850006  176.460007         NaN  176.460007          NaN   \n",
            "2018-01-31  189.830002  185.220001         NaN  186.889999          NaN   \n",
            "\n",
            "            High-Low        Open  \n",
            "Date                              \n",
            "2017-01-31  1.139999         NaN  \n",
            "2017-02-28  2.059998         NaN  \n",
            "2017-03-31  0.740005         NaN  \n",
            "2017-04-30  2.459991         NaN  \n",
            "2017-05-31  2.260010         NaN  \n",
            "2017-06-30  1.860001         NaN  \n",
            "2017-07-31  4.169998         NaN  \n",
            "2017-08-31  2.089996         NaN  \n",
            "2017-09-30  2.850006         NaN  \n",
            "2017-10-31  1.860001         NaN  \n",
            "2017-11-30  3.080002         NaN  \n",
            "2017-12-31  2.389999         NaN  \n",
            "2017-07-31       NaN  172.000000  \n",
            "2017-08-31       NaN  170.399994  \n",
            "2017-09-30       NaN  168.830002  \n",
            "2017-10-31       NaN  180.570007  \n",
            "2017-11-30       NaN  176.850006  \n",
            "2017-12-31       NaN  178.000000  \n",
            "2018-01-31       NaN  188.369995  \n"
          ]
        }
      ]
    },
    {
      "cell_type": "markdown",
      "metadata": {
        "id": "-YXL7V9ASst9"
      },
      "source": [
        "Please note that if the two DataFrame have some columns with the same column names, these columns are considered to be the same and will be merged. It's very important to have the right column names. If we change a column names here:"
      ]
    },
    {
      "cell_type": "code",
      "metadata": {
        "colab": {
          "base_uri": "https://localhost:8080/"
        },
        "id": "aT1eoa8mHW-D",
        "outputId": "ff3ce890-deec-4618-ee81-64775ea85f66"
      },
      "source": [
        "#Cambiambos el nombre de la columna High en df_2017, esto crea una nueva columna al combinar los dataframes\n",
        "df_2017.columns = ['Open', 'Change','Low','Close']\n",
        "concat = pd.concat([fb_bar, df_2017], axis = 0)\n",
        "print(concat)"
      ],
      "execution_count": 116,
      "outputs": [
        {
          "output_type": "stream",
          "name": "stdout",
          "text": [
            "                  High         Low      Volume       Close  rate_return  \\\n",
            "Date                                                                      \n",
            "2017-01-31  130.660004  129.520004  19790500.0  130.320007          NaN   \n",
            "2017-02-28  136.809998  134.750000  16112100.0  135.539993     0.040055   \n",
            "2017-03-31  142.630005  141.889999  11478300.0  142.050003     0.048030   \n",
            "2017-04-30  151.529999  149.070007  30652200.0  150.250000     0.057726   \n",
            "2017-05-31  153.350006  151.089996  18023900.0  151.460007     0.008053   \n",
            "2017-06-30  151.919998  150.059998  17666000.0  150.979996    -0.003169   \n",
            "2017-07-31  172.720001  168.550003  25478900.0  169.250000     0.121009   \n",
            "2017-08-31  172.149994  170.059998  17226500.0  171.970001     0.016071   \n",
            "2017-09-30  171.660004  168.809998  15340400.0  170.869995    -0.006396   \n",
            "2017-10-31  180.800003  178.940002  20174200.0  180.059998     0.053784   \n",
            "2017-11-30  178.279999  175.199997  25307600.0  177.179993    -0.015995   \n",
            "2017-12-31  178.850006  176.460007  10261500.0  176.460007    -0.004064   \n",
            "2017-07-31         NaN  168.550003         NaN  169.250000          NaN   \n",
            "2017-08-31         NaN  170.059998         NaN  171.970001          NaN   \n",
            "2017-09-30         NaN  168.809998         NaN  170.869995          NaN   \n",
            "2017-10-31         NaN  178.940002         NaN  180.059998          NaN   \n",
            "2017-11-30         NaN  175.199997         NaN  177.179993          NaN   \n",
            "2017-12-31         NaN  176.460007         NaN  176.460007          NaN   \n",
            "2018-01-31         NaN  185.220001         NaN  186.889999          NaN   \n",
            "\n",
            "            High-Low        Open      Change  \n",
            "Date                                          \n",
            "2017-01-31  1.139999         NaN         NaN  \n",
            "2017-02-28  2.059998         NaN         NaN  \n",
            "2017-03-31  0.740005         NaN         NaN  \n",
            "2017-04-30  2.459991         NaN         NaN  \n",
            "2017-05-31  2.260010         NaN         NaN  \n",
            "2017-06-30  1.860001         NaN         NaN  \n",
            "2017-07-31  4.169998         NaN         NaN  \n",
            "2017-08-31  2.089996         NaN         NaN  \n",
            "2017-09-30  2.850006         NaN         NaN  \n",
            "2017-10-31  1.860001         NaN         NaN  \n",
            "2017-11-30  3.080002         NaN         NaN  \n",
            "2017-12-31  2.389999         NaN         NaN  \n",
            "2017-07-31       NaN  172.000000  172.720001  \n",
            "2017-08-31       NaN  170.399994  172.149994  \n",
            "2017-09-30       NaN  168.830002  171.660004  \n",
            "2017-10-31       NaN  180.570007  180.800003  \n",
            "2017-11-30       NaN  176.850006  178.279999  \n",
            "2017-12-31       NaN  178.000000  178.850006  \n",
            "2018-01-31       NaN  188.369995  189.830002  \n"
          ]
        }
      ]
    },
    {
      "cell_type": "markdown",
      "metadata": {
        "id": "shbpOFyyS6uV"
      },
      "source": [
        "Since the column name of 'High' has been changed, the new DataFrame has an new column named 'Change'.\n",
        "\n",
        "# Summary\n",
        "\n",
        "Hereby we introduced the most import part of python: resampling and DataFrame manipulation. We only introduced the most commonly used method in Financial data analysis. There are also many methods used in data mining, which are also beneficial. You can always check the [Pandas](https://pandas.pydata.org/pandas-docs/stable/index.html) official documentations for help."
      ]
    }
  ]
}